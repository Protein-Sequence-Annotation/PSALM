{
 "cells": [
  {
   "cell_type": "code",
   "execution_count": 8,
   "id": "a659f5e6-8185-43b5-a5ed-123410ce3eb2",
   "metadata": {},
   "outputs": [],
   "source": [
    "import pickle\n",
    "import numpy as np\n",
    "from tqdm import tqdm"
   ]
  },
  {
   "cell_type": "code",
   "execution_count": 22,
   "id": "29d34bc1-c5f2-4fef-b132-dc01c732e03c",
   "metadata": {},
   "outputs": [],
   "source": [
    "with open(\"../data/results/clan_finetune/roc_results_100.pkl\",\"rb\") as f:\n",
    "    results = pickle.load(f)\n",
    "with open('../data/count_fam_list.pkl','rb') as f:\n",
    "    count_fam_list = pickle.load(f)\n",
    "with open('../data/benchmarking/old_test_pids.pkl','rb') as f:\n",
    "    pid_dict = pickle.load(f)\n",
    "min_lim = 20\n",
    "exclude_all = []\n",
    "for i in range(min_lim +1):\n",
    "    exclude_fams = list(count_fam_list[i])\n",
    "    exclude_all.extend(exclude_fams)"
   ]
  },
  {
   "cell_type": "code",
   "execution_count": 23,
   "id": "fff54872-dca9-4894-b0ed-dfaa50c7f59d",
   "metadata": {},
   "outputs": [
    {
     "name": "stderr",
     "output_type": "stream",
     "text": [
      "100%|██████████| 7983/7983 [00:08<00:00, 956.93it/s]\n"
     ]
    }
   ],
   "source": [
    "# Initialize empty lists for each array\n",
    "# LOAD PID DICT\n",
    "# Iterate over the results dictionary\n",
    "pid_sum = 0\n",
    "counter = 0\n",
    "for sequence_id in tqdm(results):\n",
    "    # if (sequence_id not in clan_seqs):\n",
    "    if True: #sequence_id in clan_seqs: #True\n",
    "        trues = np.unique(results[sequence_id]['true_f'])\n",
    "        if not (np.in1d(trues,exclude_all)).any():\n",
    "            for key in pid_dict[sequence_id]:\n",
    "                if key != 'IDR':\n",
    "                    pid_sum += pid_dict[sequence_id][key]\n",
    "                    counter += 1\n",
    "            \n"
   ]
  },
  {
   "cell_type": "code",
   "execution_count": 24,
   "id": "f69b5f32-8dc4-43ed-923a-f5a2e7b5b3b9",
   "metadata": {},
   "outputs": [
    {
     "data": {
      "text/plain": [
       "79.9596635102401"
      ]
     },
     "execution_count": 24,
     "metadata": {},
     "output_type": "execute_result"
    }
   ],
   "source": [
    "pid_sum/counter"
   ]
  },
  {
   "cell_type": "code",
   "execution_count": null,
   "id": "6b9dd874-33fa-41a9-87f6-99b9794be334",
   "metadata": {},
   "outputs": [],
   "source": []
  }
 ],
 "metadata": {
  "kernelspec": {
   "display_name": "Python [conda env:.conda-TreeHMM]",
   "language": "python",
   "name": "conda-env-.conda-TreeHMM-py"
  },
  "language_info": {
   "codemirror_mode": {
    "name": "ipython",
    "version": 3
   },
   "file_extension": ".py",
   "mimetype": "text/x-python",
   "name": "python",
   "nbconvert_exporter": "python",
   "pygments_lexer": "ipython3",
   "version": "3.10.13"
  }
 },
 "nbformat": 4,
 "nbformat_minor": 5
}
