{
 "cells": [
  {
   "cell_type": "code",
   "execution_count": null,
   "metadata": {},
   "outputs": [],
   "source": [
    "# import torch\n",
    "# import hmmscan_utils as hu\n",
    "# import ml_utils as ml\n",
    "# import pickle\n",
    "# from pathlib import Path\n",
    "# from Bio import SeqIO\n",
    "# from esm import FastaBatchedDataset, pretrained\n",
    "# from torch import nn\n",
    "# from tqdm import tqdm\n",
    "# import numpy as np"
   ]
  },
  {
   "cell_type": "code",
   "execution_count": 53,
   "metadata": {},
   "outputs": [],
   "source": [
    "import numpy as np\n",
    "from pathlib import Path\n",
    "import os, sys\n",
    "from tqdm import tqdm\n",
    "import wandb\n",
    "\n",
    "import torch\n",
    "from torch import nn\n",
    "\n",
    "sys.path.insert(0, '../library')\n",
    "import hmmscan_utils as hu\n",
    "import ml_utils as mu"
   ]
  },
  {
   "cell_type": "markdown",
   "metadata": {},
   "source": [
    "Load ESM2 Model"
   ]
  },
  {
   "cell_type": "code",
   "execution_count": null,
   "metadata": {},
   "outputs": [],
   "source": [
    "import torch\n",
    "import torch.nn.functional as F\n",
    "\n",
    "# Initialize a random tensor of size 19633\n",
    "x = torch.randn(19633)*1000\n",
    "\n",
    "# Initialize a target tensor of the same size\n",
    "y = torch.zeros(19633)\n",
    "y[1]=1\n",
    "\n",
    "# Compute the L1 loss\n",
    "loss = F.l1_loss(x, y)\n",
    "\n",
    "print(loss)"
   ]
  },
  {
   "cell_type": "code",
   "execution_count": 2,
   "metadata": {},
   "outputs": [],
   "source": [
    "import pickle\n",
    "with open(Path('../data_esm_decoder') / 'maps.pkl', 'rb') as f:\n",
    "    maps = pickle.load(f)"
   ]
  },
  {
   "cell_type": "code",
   "execution_count": null,
   "metadata": {},
   "outputs": [],
   "source": [
    "import hmmscan_utils as hu\n",
    "import ml_utils as mu\n",
    "import classifiers as c\n",
    "import torch\n",
    "from esm import pretrained\n",
    "from pathlib import Path\n",
    "import pickle\n",
    "\n",
    "hmm_data = hu.parse_hmmscan_results(\"../data/split_1_train_ids_full.fasta_scan.txt\")\n",
    "\n",
    "# Load esm2\n",
    "device = 'cuda' if torch.cuda.is_available() else 'cpu'\n",
    "model_name = 'esm2_t33_650M_UR50D'\n",
    "model, alphabet = pretrained.load_model_and_alphabet(model_name)\n",
    "model.eval()\n",
    "model = model.to(device)\n",
    "for param in model.parameters():\n",
    "    param.requires_grad = False\n",
    "last_layer = model.num_layers\n",
    "embed_dim = model.embed_dim\n",
    "\n",
    "# Load model\n",
    "classifier = c.TryLSTM(embed_dim, 657).to(device)\n",
    "# classifier = mu.ContextWeightedSum(embed_dim, 657).to(device)\n",
    "state_dict = torch.load(\"../data/results/try_lstm_run1/epoch_4.pth\")\n",
    "# state_dict = torch.load(\"../data/results/context_weighted_run1/epoch_2.pth\")\n",
    "\n",
    "classifier.load_state_dict(state_dict)\n",
    "\n",
    "# Load maps and generate idx_to_clan map\n",
    "with open(Path('../data_esm_decoder') / 'maps.pkl', 'rb') as f:\n",
    "        maps = pickle.load(f)\n",
    "idx_to_clan = {v: k for k, v in maps[\"clan_idx\"].items()}\n",
    "idx_to_fam = {v: k for k,v in maps[\"fam_idx\"].items()}\n",
    "\n",
    "# Run esm2\n",
    "batch_converter = alphabet.get_batch_converter()\n",
    "# Prepare data (first 2 sequences from ESMStructuralSplitDataset superfamily / 4)\n",
    "data = [\n",
    "    (\"Q59325\",\"MKFRRSICTAVLLAVLLTLLVPTSVFALEDNSSTLPPYKNDLLYERTFDEGLCYPWHTCEDSGGKCSFDVVDVPGQPGNKAFAVTVLDKGQNRWSVQMRHRGLTLEQGHTYRVRLKIWADASCKVYIKIGQMGEPYAEYWNNKWSPYTLTAGKVLEIDETFVMDKPTDDTCEFTFHLGGELAATPPYTVYLDDVSLYDPEYTKPVEYILPQPDVRVNQVGYLPEGKKVATVVCNSTQPVKWQLKNAAGVVVLEGYTEPKGLDKDSQDYVHWLDFSDFATEGIGYYFELPTVNSPTNYSHPFDIRKDIYTQMKYDALAFFYHKRSGIPIEMPYAGGEQWTRPAGHIGIEPNKGDTNVPTWPQDDEYAGIPQKNYTKDVTGGWYDAGDHGKYVVNGGIAVWTLMNMYERAKIRGLDNWGPYRDGGMNIPEQNNGYPDILDEARWEIEFFKKMQVTEKEDPSIAGMVHHKIHDFRWTALGMLPHEDPQPRYLRPVSTAATLNFAATLAQSARLWKDYDPTFAADCLEKAEIAWQAALKHPDIYAEYTPGSGGPGGGPYNDDYVGDEFYWAACELYVTTGKDEYKNYLMNSPHYLEMPAKMGENGGANGEDNGLWGCFTWGTTQGLGTITLALVENGLPATDIQKARNNIAKAADRWLENIEEQGYRLPIKQAEDERGGYPWGSNSFILNQMIVMGYAYDFTGDSKYLDGMFDGISYLLGRNAMDQSYVTGYGERPLQNPHDRFWTPQTSKRFPAPPPGIISGGPNSRFEDPTINAAVKKDTPPQKCFIDHTDSWSTNEITVNWNAPFAWVTAYLDEQYTDSETDKVTIDSPVAGERFEAGKDINISATVKSKTPVSKVEFYNGDTLISSDTTAPYTAKITGAAVGAYNLKAVAVLSDGRRIESPVTPVLVKVIVKPTVKLTAPKSNVVAYGNEFLKITATASDSDGKISRVDFLVDGEVIGSDREAPYEYEWKAVEGNHEISVIAYDDDDAASTPDSVKIFVKQARDVKVQYLCENTQTSTQEIKGKFNIVNTGNRDYSLKDIVLRYYFTKEHNSQLQFICYYTPIGSGNLIPSFGGSGDEHYLQLEFKDVKLPAGGQTGEIQFVIRYADNSFHDQSNDYSFDPTIKAFQDYGKVTLYKNGELVWGTPPGGTEPEEPEEPEEPEEPAIVYGDCNDDGKVNSTDVAVMKRYLKKENVNINLDNADVNADGKVNSTDFSILKRYVMKNIEELPYR\")\n",
    "    ]\n",
    "# data = [(\"rdrp\",\"MDVDTAFLNSTMDEPIYVKQPPGFVNERNPDYVWELYGGMYGLKQAPLLWNEHINNTLKKIGFCRHEGEHGLYFRSTSDGPIYIAVYVDDLLVAAPSPKIYDRVKQELTKLYSMKDLGKVDKFLGLNIHQSSNGDITLSLQDYIAKAASESEINTFKLTQTPLCNSKPLFETTSPHLKDITPYQSIVGQLLFCANTGRPDISYPVSLLSRFLREPRAIHLESARRVLRYLYTTRSMCLKYRSGSQLALTVYCDASHGAIHDLPHSTGGYVTLLAGAPVTWSSKKLKGVIPVPSTEAEYITASETVMEI\")]\n",
    "batch_labels, batch_strs, batch_tokens = batch_converter(data)\n",
    "batch_lens = (batch_tokens != alphabet.padding_idx).sum(1)\n",
    "\n",
    "\n",
    "results = model(batch_tokens.to(device), repr_layers=[33], return_contacts=True)\n",
    "token_representations = results[\"representations\"][33]\n",
    "\n",
    "# Get preds\n",
    "emb = token_representations[0,1:-1,:]\n",
    "clan_preds = classifier(emb)\n",
    "clan_preds = torch.nn.functional.softmax(clan_preds,dim=1)\n",
    "# fam_preds = torch.nn.functional.softmax(fam_preds,dim=1)\n",
    "\n",
    "# Get top k clans and their values\n",
    "def top5_argmaxes_with_values(input_tensor, mapping,k):\n",
    "    # Use torch.topk to find the top 5 values and their indices along dimension 1\n",
    "    top5_values, top5_indices = torch.topk(input_tensor, k, dim=1)\n",
    "\n",
    "    # Convert the indices tensor to a list of lists\n",
    "    indices_list = top5_indices.tolist()\n",
    "\n",
    "    # Convert the values tensor to a list of lists\n",
    "    values_list = top5_values.tolist()\n",
    "\n",
    "    # Apply the mapping to each index and pair it with the corresponding value\n",
    "    mapped_list = [[(mapping[index], value) for index, value in zip(indices, values)] for indices, values in zip(indices_list, values_list)]\n",
    "\n",
    "    # Sort the tuples in each list by value in descending order\n",
    "    sorted_list = [sorted(sublist, key=lambda x: x[1], reverse=True) for sublist in mapped_list]\n",
    "\n",
    "    return sorted_list\n",
    "\n"
   ]
  },
  {
   "cell_type": "code",
   "execution_count": null,
   "metadata": {},
   "outputs": [],
   "source": [
    "mapped_list = top5_argmaxes_with_values(clan_preds, idx_to_clan,2)"
   ]
  },
  {
   "cell_type": "code",
   "execution_count": null,
   "metadata": {},
   "outputs": [],
   "source": [
    "mapped_list[1000:]"
   ]
  },
  {
   "cell_type": "code",
   "execution_count": null,
   "metadata": {},
   "outputs": [],
   "source": [
    "with open(Path('../data_esm_decoder') / 'maps.pkl', 'wb') as f:\n",
    "        pickle.dump(maps,f)"
   ]
  },
  {
   "cell_type": "code",
   "execution_count": null,
   "metadata": {},
   "outputs": [],
   "source": [
    "maps.keys()"
   ]
  },
  {
   "cell_type": "code",
   "execution_count": null,
   "metadata": {},
   "outputs": [],
   "source": [
    "maps[\"clan_count\"] = len(maps[\"clan_idx\"])"
   ]
  },
  {
   "cell_type": "code",
   "execution_count": null,
   "metadata": {},
   "outputs": [],
   "source": [
    "device = 'cuda' if torch.cuda.is_available() else 'cpu'\n",
    "model_name = 'esm2_t33_650M_UR50D'\n",
    "model, alphabet = pretrained.load_model_and_alphabet(model_name)\n",
    "model.eval()\n",
    "model = model.to(device)\n",
    "for param in model.parameters():\n",
    "    param.requires_grad = False\n",
    "last_layer = model.num_layers\n",
    "embed_dim = model.embed_dim"
   ]
  },
  {
   "cell_type": "code",
   "execution_count": null,
   "metadata": {},
   "outputs": [],
   "source": [
    "\n",
    "classifier = mu.LinearHead3(embed_dim, 2*embed_dim, 657).to(device)\n",
    "state_dict = torch.load(\"../data/results/linear_3_run4/epoch_0.pth\")\n",
    "classifier.load_state_dict(state_dict)"
   ]
  },
  {
   "cell_type": "code",
   "execution_count": null,
   "metadata": {},
   "outputs": [],
   "source": [
    "with open(Path('../data_esm_decoder') / 'maps.pkl', 'rb') as f:\n",
    "        maps = pickle.load(f)\n",
    "idx_to_clan = {v: k for k, v in maps[\"clan_idx\"].items()}"
   ]
  },
  {
   "cell_type": "code",
   "execution_count": null,
   "metadata": {},
   "outputs": [],
   "source": [
    "batch_converter = alphabet.get_batch_converter()\n",
    "# Prepare data (first 2 sequences from ESMStructuralSplitDataset superfamily / 4)\n",
    "data = [\n",
    "    (\"test\", \"MTTSAYTRRTALMTVGMAAATALTGCASTLVPATTQTIEEGAASSSSSERTDFSGEAKIENYDTSAGTYEPATREHRAKNVPKPILPEEANKNSVAGLHANIAYLAAAYIYGFNSGDAECVGKSALSSEDKASLTRAIGRVSGSTWLADPTLIISLKEATPRQDGDTYTWPALLTLKIGPFRVKNRSVEEVPESERSHEFPMDIVARYKDERWVFDTLPNDSSSSPGAGGTSRI\")\n",
    "]\n",
    "batch_labels, batch_strs, batch_tokens = batch_converter(data)\n",
    "batch_lens = (batch_tokens != alphabet.padding_idx).sum(1)\n",
    "\n",
    "\n",
    "results = model(batch_tokens.to(device), repr_layers=[33], return_contacts=True)\n",
    "token_representations = results[\"representations\"][33]"
   ]
  },
  {
   "cell_type": "code",
   "execution_count": null,
   "metadata": {},
   "outputs": [],
   "source": [
    "emb = token_representations[0,1:-1,:]\n",
    "preds = classifier(emb)"
   ]
  },
  {
   "cell_type": "code",
   "execution_count": null,
   "metadata": {},
   "outputs": [],
   "source": [
    "clan_idxs = torch.argmax(preds, dim=1)\n",
    "clan_idxs_list = clan_idxs.cpu().tolist()"
   ]
  },
  {
   "cell_type": "code",
   "execution_count": null,
   "metadata": {},
   "outputs": [],
   "source": [
    "def top5_argmaxes_with_values(input_tensor, mapping,k):\n",
    "    # Use torch.topk to find the top 5 values and their indices along dimension 1\n",
    "    top5_values, top5_indices = torch.topk(input_tensor, k, dim=1)\n",
    "\n",
    "    # Convert the indices tensor to a list of lists\n",
    "    indices_list = top5_indices.tolist()\n",
    "\n",
    "    # Convert the values tensor to a list of lists\n",
    "    values_list = top5_values.tolist()\n",
    "\n",
    "    # Apply the mapping to each index and pair it with the corresponding value\n",
    "    mapped_list = [[(mapping[index], value) for index, value in zip(indices, values)] for indices, values in zip(indices_list, values_list)]\n",
    "\n",
    "    # Sort the tuples in each list by value in descending order\n",
    "    sorted_list = [sorted(sublist, key=lambda x: x[1], reverse=True) for sublist in mapped_list]\n",
    "\n",
    "    return sorted_list"
   ]
  },
  {
   "cell_type": "code",
   "execution_count": null,
   "metadata": {},
   "outputs": [],
   "source": [
    "mapped_list = top5_argmaxes_with_values(preds, idx_to_clan,3)"
   ]
  },
  {
   "cell_type": "code",
   "execution_count": null,
   "metadata": {},
   "outputs": [],
   "source": [
    "mapped_list[67:218]"
   ]
  },
  {
   "cell_type": "code",
   "execution_count": null,
   "metadata": {},
   "outputs": [],
   "source": [
    "clan_names = [idx_to_clan[x] for x in clan_idxs_list]"
   ]
  },
  {
   "cell_type": "code",
   "execution_count": null,
   "metadata": {},
   "outputs": [],
   "source": [
    "clan_names"
   ]
  },
  {
   "cell_type": "code",
   "execution_count": null,
   "metadata": {},
   "outputs": [],
   "source": [
    "hmm_data[\"P14528.1\"]"
   ]
  },
  {
   "cell_type": "code",
   "execution_count": null,
   "metadata": {},
   "outputs": [],
   "source": [
    "_, clan_vector = hu.generate_domain_position_list(hmm_data, \"G8QNJ9.1\", maps)"
   ]
  },
  {
   "cell_type": "code",
   "execution_count": null,
   "metadata": {},
   "outputs": [],
   "source": [
    "_, clan_vector = hu.generate_domain_position_list(hmm_data, \"G8QNJ9.1\", maps)\n",
    "with open(Path('../data_esm_decoder') / 'maps.pkl', 'rb') as f:\n",
    "    maps = pickle.load(f)\n",
    "idx_to_clan = {v: k for k, v in maps[\"clan_idx\"].items()}\n",
    "clan_vector_idxs = torch.argmax(torch.tensor(clan_vector).T,dim=1)\n",
    "clan_vector_idxs_list = clan_vector_idxs.cpu().tolist()\n",
    "clan_vector_names = [idx_to_clan[x] for x in clan_vector_idxs_list]"
   ]
  },
  {
   "cell_type": "code",
   "execution_count": null,
   "metadata": {},
   "outputs": [],
   "source": [
    "clan_vector.shape"
   ]
  },
  {
   "cell_type": "code",
   "execution_count": null,
   "metadata": {},
   "outputs": [],
   "source": [
    "clan_vector_names[813:]"
   ]
  },
  {
   "cell_type": "code",
   "execution_count": null,
   "metadata": {},
   "outputs": [],
   "source": [
    "maps[\"clan_idx\"][\"CL0001\"]"
   ]
  },
  {
   "cell_type": "code",
   "execution_count": null,
   "metadata": {},
   "outputs": [],
   "source": [
    "maps[\"fam_clan\"][\"PF00008.30\"]"
   ]
  },
  {
   "cell_type": "code",
   "execution_count": null,
   "metadata": {},
   "outputs": [],
   "source": [
    "def is_string_in_list(s, lst):\n",
    "    return any(s in item for item in lst)\n",
    "is_string_in_list(\"PF19843\",list(maps[\"fam_clan\"].keys()))"
   ]
  },
  {
   "cell_type": "code",
   "execution_count": null,
   "metadata": {},
   "outputs": [],
   "source": [
    "import torch"
   ]
  },
  {
   "cell_type": "code",
   "execution_count": null,
   "metadata": {},
   "outputs": [],
   "source": [
    "input_tensor = torch.ones(19633)*3\n",
    "input_tensor[1] = 10\n",
    "\n",
    "# Create a target where the one is at position 1\n",
    "target = torch.zeros(19633).long()\n",
    "target[0] = 1\n",
    "\n",
    "# Compute the cross-entropy loss\n",
    "loss = torch.nn.functional.cross_entropy(input_tensor.unsqueeze(0), target.argmax().unsqueeze(0))\n",
    "\n",
    "print(loss)"
   ]
  },
  {
   "cell_type": "code",
   "execution_count": null,
   "metadata": {},
   "outputs": [],
   "source": [
    "logits"
   ]
  },
  {
   "cell_type": "code",
   "execution_count": null,
   "metadata": {},
   "outputs": [],
   "source": [
    "x = torch.randint(0,10,(100,657),dtype=torch.float32)"
   ]
  },
  {
   "cell_type": "code",
   "execution_count": null,
   "metadata": {},
   "outputs": [],
   "source": [
    " x_reshaped = x.transpose(0, 1).unsqueeze(0)\n",
    "\n",
    "# Apply 1D average pooling\n",
    "local_pooled_embed = torch.nn.functional.avg_pool1d(x_reshaped, kernel_size=21, stride=1, padding=10)\n",
    "\n",
    "#Remove the extra batch dimension and transpose the tensor back to shape (L, d)\n",
    "local_pooled_embed = local_pooled_embed.squeeze(0).transpose(0, 1)\n",
    "local_pooled_embed.shape"
   ]
  },
  {
   "cell_type": "code",
   "execution_count": null,
   "metadata": {},
   "outputs": [],
   "source": [
    "pooled = torch.nn.functional.avg_pool1d(x,kernel_size=21,stride=1,padding=10)"
   ]
  },
  {
   "cell_type": "code",
   "execution_count": null,
   "metadata": {},
   "outputs": [],
   "source": [
    "pooled.shape"
   ]
  },
  {
   "cell_type": "code",
   "execution_count": null,
   "metadata": {},
   "outputs": [],
   "source": [
    "x_unsqueezed = x.T.unsqueeze(0)\n",
    "\n",
    "# Apply 1D average pooling with a kernel size of 21, stride of 1, and padding of 10\n",
    "pooled = torch.nn.functional.avg_pool1d(x_unsqueezed, kernel_size=21, stride=1, padding=10)\n",
    "\n",
    "local_pooled_embed = pooled.squeeze(0)"
   ]
  },
  {
   "cell_type": "code",
   "execution_count": null,
   "metadata": {},
   "outputs": [],
   "source": [
    "local_pooled_embed.shape"
   ]
  },
  {
   "cell_type": "code",
   "execution_count": null,
   "metadata": {},
   "outputs": [],
   "source": [
    "x_unsqueezed.shape"
   ]
  },
  {
   "cell_type": "code",
   "execution_count": null,
   "metadata": {},
   "outputs": [],
   "source": [
    "local_pooled_embed[:,:20]"
   ]
  },
  {
   "cell_type": "code",
   "execution_count": null,
   "metadata": {},
   "outputs": [],
   "source": [
    "pooled[:,:10]"
   ]
  },
  {
   "cell_type": "code",
   "execution_count": null,
   "metadata": {},
   "outputs": [],
   "source": [
    "x.shape"
   ]
  },
  {
   "cell_type": "code",
   "execution_count": null,
   "metadata": {},
   "outputs": [],
   "source": [
    "print(x)"
   ]
  },
  {
   "cell_type": "code",
   "execution_count": null,
   "metadata": {},
   "outputs": [],
   "source": [
    "bruh =torch.zeros((3,6))"
   ]
  },
  {
   "cell_type": "code",
   "execution_count": null,
   "metadata": {},
   "outputs": [],
   "source": [
    "bruh"
   ]
  },
  {
   "cell_type": "code",
   "execution_count": null,
   "metadata": {},
   "outputs": [],
   "source": [
    "device = 'cuda' if torch.cuda.is_available() else 'cpu'\n",
    "length_limit = 4096 # Covers 99.75% sequences\n",
    "model_name =  'esm2_t33_650M_UR50D' #'esm2_t36_3B_UR50D'\n",
    "num_shards = 50\n",
    "data_utils = mu.DataUtils('../data', num_shards, model_name, length_limit, device)\n",
    "\n",
    "classifier = mu.LinearHead3NormedFam(data_utils.embedding_dim,data_utils.clan_count,data_utils.fam_count,1).to(device)"
   ]
  },
  {
   "cell_type": "code",
   "execution_count": null,
   "metadata": {},
   "outputs": [],
   "source": [
    "# Check the data type of the model parameters\n",
    "for name, param in classifier.named_parameters():\n",
    "    print(name, param.dtype)"
   ]
  },
  {
   "cell_type": "code",
   "execution_count": null,
   "metadata": {},
   "outputs": [],
   "source": [
    "a = torch.randint(0,10,(100,20000)).float()\n",
    "b = torch.randint(1000,2000,(100,20000)).float()"
   ]
  },
  {
   "cell_type": "code",
   "execution_count": null,
   "metadata": {},
   "outputs": [],
   "source": [
    "squared_diff = torch.nn.functional.mse_loss(a,b,reduction=\"none\")"
   ]
  },
  {
   "cell_type": "code",
   "execution_count": null,
   "metadata": {},
   "outputs": [],
   "source": [
    "squared_diff.shape"
   ]
  },
  {
   "cell_type": "code",
   "execution_count": null,
   "metadata": {},
   "outputs": [],
   "source": [
    "squared_diff.dtype"
   ]
  },
  {
   "cell_type": "code",
   "execution_count": null,
   "metadata": {},
   "outputs": [],
   "source": [
    "row_sse = squared_diff.sum(dim=1)"
   ]
  },
  {
   "cell_type": "code",
   "execution_count": null,
   "metadata": {},
   "outputs": [],
   "source": [
    "row_sse.shape"
   ]
  },
  {
   "cell_type": "code",
   "execution_count": null,
   "metadata": {},
   "outputs": [],
   "source": [
    "avg_row_sse = row_sse.mean()"
   ]
  },
  {
   "cell_type": "code",
   "execution_count": null,
   "metadata": {},
   "outputs": [],
   "source": [
    "avg_row_sse.shape"
   ]
  },
  {
   "cell_type": "code",
   "execution_count": null,
   "metadata": {},
   "outputs": [],
   "source": [
    "avg_row_sse.dtype"
   ]
  },
  {
   "cell_type": "code",
   "execution_count": null,
   "metadata": {},
   "outputs": [],
   "source": [
    "avg_row_sse"
   ]
  },
  {
   "cell_type": "code",
   "execution_count": null,
   "metadata": {},
   "outputs": [],
   "source": [
    "row_sse_soft = torch.nn.functional.softmax(row_sse,dim=0)"
   ]
  },
  {
   "cell_type": "code",
   "execution_count": null,
   "metadata": {},
   "outputs": [],
   "source": [
    "row_sse_soft.dtype"
   ]
  },
  {
   "cell_type": "code",
   "execution_count": null,
   "metadata": {},
   "outputs": [],
   "source": [
    "import pickle\n",
    "import torch\n",
    "\n",
    "with open('../data/results/try_lstm_run1/predictions_esm2_t33_650M_UR50D/agg_results.pkl', 'rb') as f:\n",
    "        results = pickle.load(f)"
   ]
  },
  {
   "cell_type": "code",
   "execution_count": null,
   "metadata": {},
   "outputs": [],
   "source": [
    "len(results[\"clan_wise\"][655])"
   ]
  },
  {
   "cell_type": "code",
   "execution_count": null,
   "metadata": {},
   "outputs": [],
   "source": [
    "import numpy as np"
   ]
  },
  {
   "cell_type": "code",
   "execution_count": null,
   "metadata": {},
   "outputs": [],
   "source": [
    "# Assuming `d` is your dictionary\n",
    "d = results[\"clan_wise\"]\n",
    "\n",
    "# 1) Get a list of the keys\n",
    "xs = []\n",
    "\n",
    "# 2) Create a tensor of length = the largest key + 1\n",
    "\n",
    "ys = []\n",
    "\n",
    "# Populate the tensor with the average of the values for each key\n",
    "for key, values in d.items():\n",
    "    ys.append(sum(values) / len(values))\n",
    "    xs.append(key)"
   ]
  },
  {
   "cell_type": "code",
   "execution_count": null,
   "metadata": {},
   "outputs": [],
   "source": [
    "import matplotlib.pyplot as plt"
   ]
  },
  {
   "cell_type": "code",
   "execution_count": null,
   "metadata": {},
   "outputs": [],
   "source": [
    "f, ax = plt.subplots(figsize=(20,8))\n",
    "\n",
    "ax.bar(xs,ys)\n",
    "ax.set_xlabel('Clan')\n",
    "ax.set_ylabel('Average accuracy')\n",
    "ax.set_title(f'Prediction Accuracy Over Each Clan')\n",
    "\n",
    "ax.grid(False)"
   ]
  },
  {
   "cell_type": "code",
   "execution_count": null,
   "metadata": {},
   "outputs": [],
   "source": [
    "import pandas as pd"
   ]
  },
  {
   "cell_type": "code",
   "execution_count": null,
   "metadata": {},
   "outputs": [],
   "source": [
    "import hmmscan_utils as hu\n",
    "from tqdm import tqdm"
   ]
  },
  {
   "cell_type": "code",
   "execution_count": null,
   "metadata": {},
   "outputs": [],
   "source": [
    " with open('../data_esm_decoder/maps.pkl', 'rb') as f:\n",
    "    maps = pickle.load(f)"
   ]
  },
  {
   "cell_type": "code",
   "execution_count": null,
   "metadata": {},
   "outputs": [],
   "source": [
    "maps.keys()"
   ]
  },
  {
   "cell_type": "code",
   "execution_count": null,
   "metadata": {},
   "outputs": [],
   "source": [
    "idx_to_clan = {v: k for k, v in maps[\"clan_idx\"].items()}"
   ]
  },
  {
   "cell_type": "code",
   "execution_count": null,
   "metadata": {},
   "outputs": [],
   "source": [
    "clan_dict = {i:0 for i in range(657)}\n",
    "fam_dict = {i:0 for i in range(19633)}\n",
    "\n",
    "for i in tqdm(range(1,51)):\n",
    "    scan_shard = f\"../data/split_{i}_train_ids_full.fasta_scan.txt\"\n",
    "    hmm_dict = hu.parse_hmmscan_results(scan_shard)\n",
    "    for seq in hmm_dict:\n",
    "        hits = hmm_dict[seq][\"hit_domains\"]\n",
    "        fams = list(set([x[3] for x in hits]))\n",
    "        clans = list(set([maps[\"fam_clan\"][x] for x in fams]))\n",
    "        for clan in clans:\n",
    "            clan_dict[maps[\"clan_idx\"][clan]] += 1\n",
    "        for fam in fams:\n",
    "            fam_dict[maps[\"fam_idx\"][fam]] += 1\n",
    "        "
   ]
  },
  {
   "cell_type": "code",
   "execution_count": null,
   "metadata": {},
   "outputs": [],
   "source": [
    "np.sum(list(fam_dict.values()))"
   ]
  },
  {
   "cell_type": "code",
   "execution_count": null,
   "metadata": {},
   "outputs": [],
   "source": [
    " with open('../data/clan_train_dict.pkl', 'wb') as f:\n",
    "    pickle.dump(clan_dict, f)"
   ]
  },
  {
   "cell_type": "code",
   "execution_count": null,
   "metadata": {},
   "outputs": [],
   "source": [
    " with open('../data/fam_train_dict.pkl', 'wb') as f:\n",
    "    pickle.dump(fam_dict, f)"
   ]
  },
  {
   "cell_type": "code",
   "execution_count": null,
   "metadata": {},
   "outputs": [],
   "source": [
    "my_dict.keys()"
   ]
  },
  {
   "cell_type": "code",
   "execution_count": null,
   "metadata": {},
   "outputs": [],
   "source": []
  },
  {
   "cell_type": "code",
   "execution_count": null,
   "metadata": {},
   "outputs": [],
   "source": [
    "samples = [my_dict[x] if x not in [655, 656] else 0 for x in xs]"
   ]
  },
  {
   "cell_type": "code",
   "execution_count": null,
   "metadata": {},
   "outputs": [],
   "source": [
    "maps[\"clan_idx\"][\"CL0694\"]"
   ]
  },
  {
   "cell_type": "code",
   "execution_count": null,
   "metadata": {},
   "outputs": [],
   "source": [
    "np.mean(results[\"clan_wise\"][629])"
   ]
  },
  {
   "cell_type": "code",
   "execution_count": null,
   "metadata": {},
   "outputs": [],
   "source": [
    "idx_to_clan[629]"
   ]
  },
  {
   "cell_type": "code",
   "execution_count": null,
   "metadata": {},
   "outputs": [],
   "source": [
    "xs[0]"
   ]
  },
  {
   "cell_type": "code",
   "execution_count": null,
   "metadata": {},
   "outputs": [],
   "source": [
    "f, ax = plt.subplots(figsize=(20,8))\n",
    "\n",
    "ax.scatter(samples,ys)\n",
    "ax.set_xlabel('number of samples')\n",
    "ax.set_ylabel('Average accuracy')\n",
    "ax.set_title(f'Prediction Accuracy Over Each Clan')\n",
    "ax.set_xlim(0,10000)\n",
    "ax.grid(False)"
   ]
  },
  {
   "cell_type": "code",
   "execution_count": null,
   "metadata": {},
   "outputs": [],
   "source": [
    "correlation_matrix = np.corrcoef(samples, ys)\n",
    "\n",
    "# The correlation coefficient is at [0, 1] or [1, 0] in the matrix\n",
    "correlation = correlation_matrix[0, 1]\n",
    "\n",
    "print(\"Correlation:\", correlation)"
   ]
  },
  {
   "cell_type": "code",
   "execution_count": null,
   "metadata": {},
   "outputs": [],
   "source": [
    "np.argmax(samples)"
   ]
  },
  {
   "cell_type": "code",
   "execution_count": null,
   "metadata": {},
   "outputs": [],
   "source": [
    "ys[81]"
   ]
  },
  {
   "cell_type": "code",
   "execution_count": null,
   "metadata": {},
   "outputs": [],
   "source": [
    "idx_to_clan[18]"
   ]
  },
  {
   "cell_type": "code",
   "execution_count": null,
   "metadata": {},
   "outputs": [],
   "source": [
    "plt.figure(figsize=(20, 6))\n",
    "plt.scatter(samples, ys)\n",
    "plt.axhline(1/657)\n",
    "# Set the labels and title (optional)\n",
    "plt.xlabel('X values')\n",
    "plt.ylabel('Y values')\n",
    "plt.title('Scatter Plot')\n",
    "\n",
    "# Show the plot\n",
    "plt.show()"
   ]
  },
  {
   "cell_type": "code",
   "execution_count": null,
   "metadata": {},
   "outputs": [],
   "source": [
    "# Open and read both files\n",
    "with open('../data/train_ids_unique.txt', 'r') as train_file, open('../data/test_ids_unique.txt', 'r') as test_file:\n",
    "    train_sequences = set(line.strip() for line in train_file)\n",
    "    test_sequences = set(line.strip() for line in test_file)\n",
    "\n",
    "# Find sequence names that are in both files\n",
    "common_sequences = train_sequences & test_sequences\n",
    "\n",
    "len(common_sequences)"
   ]
  },
  {
   "cell_type": "code",
   "execution_count": null,
   "metadata": {},
   "outputs": [],
   "source": [
    "import pickle\n",
    "import matplotlib.pyplot as plt\n",
    "import numpy as np\n",
    "\n",
    "with open('../data/results/weighted_lstm_run1/predictions_esm2_t33_650M_UR50D/agg_results.pkl', 'rb') as f:\n",
    "    tmp = pickle.load(f)\n",
    "\n",
    "acc = tmp['adjusted_acc']\n",
    "print(min(acc), max(acc))\n",
    "\n",
    "f, ax = plt.subplots()\n",
    "\n",
    "ax.hist(acc, range=(0,1), bins=20)\n",
    "ax.set_xlabel('Accuracy')\n",
    "ax.set_ylabel('Proportion of Scores')\n",
    "ax.set_title(f'Prediction Accuracy Over Test Sequences: Avg = {np.nanmean(acc)}')\n",
    "\n",
    "ax.grid(False)"
   ]
  },
  {
   "cell_type": "code",
   "execution_count": null,
   "metadata": {},
   "outputs": [],
   "source": [
    "from collections import defaultdict\n",
    "with open('../bash_scripts/bad_acc.txt', 'r') as f:\n",
    "    bad_preds = f.readlines()\n",
    "\n",
    "bad_preds.pop(0)\n",
    "shard_wise = defaultdict(list)\n",
    "\n",
    "for line in bad_preds:\n",
    "    error_seq = line.split()\n",
    "    shard_wise[error_seq[0]].append(error_seq[1])"
   ]
  },
  {
   "cell_type": "code",
   "execution_count": null,
   "metadata": {},
   "outputs": [],
   "source": [
    "\n",
    "import pickle\n",
    "import numpy as np\n",
    "\n",
    "misclassified = {}\n",
    "for i in range(657):\n",
    "    misclassified[i] = 0\n",
    "\n",
    "for key in shard_wise.keys():\n",
    "    with open(f'../data/results/try_lstm_run1/predictions_esm2_t33_650M_UR50D/{key}', 'rb') as g:\n",
    "        results = pickle.load(g)\n",
    "\n",
    "        for vals in shard_wise[key]:\n",
    "            true = np.unique(results[vals]['clan_true'])\n",
    "            pred = results[vals]['clan_idx'][:,0]\n",
    "\n",
    "            for entry in true:\n",
    "                if entry not in [655, 656]:\n",
    "                    idx = (results[vals]['clan_true'] == entry)\n",
    "                    errors = pred[~idx]\n",
    "                    if True:#((errors == 655) + (errors == 656)).mean() != 1: # If prediction is 656/657 for other clan, don't count it\n",
    "                        score = (results[vals]['clan_true'][idx] == pred[idx]).mean()\n",
    "                        if score < 0.4:\n",
    "                            misclassified[entry] += 1\n"
   ]
  },
  {
   "cell_type": "code",
   "execution_count": null,
   "metadata": {},
   "outputs": [],
   "source": [
    "import matplotlib.pyplot as plt\n",
    "\n",
    "keys = list(misclassified.keys())\n",
    "vals = [misclassified[k] for k in keys]\n",
    "\n",
    "f, ax = plt.subplots(figsize=(15,6))\n",
    "\n",
    "ax.bar(keys, vals)\n",
    "ax.set_xlabel('Clan')\n",
    "ax.set_ylabel('Number of clans')\n",
    "ax.set_title(f'Distribution of clans in misclassified sequences')\n",
    "\n",
    "ax.grid(False)"
   ]
  },
  {
   "cell_type": "code",
   "execution_count": null,
   "metadata": {},
   "outputs": [],
   "source": [
    "np.argmax(vals)\n",
    "print(maps['clan_idx'])"
   ]
  },
  {
   "cell_type": "code",
   "execution_count": 9,
   "metadata": {},
   "outputs": [],
   "source": [
    "import sys\n",
    "import pickle\n",
    "sys.path.insert(0, '../py_scripts/')\n",
    "\n",
    "import visualizations as vz\n",
    "import numpy as np"
   ]
  },
  {
   "cell_type": "code",
   "execution_count": 19,
   "metadata": {},
   "outputs": [
    {
     "name": "stdout",
     "output_type": "stream",
     "text": [
      "Shard 33: Sequence A4HBS7.1\n"
     ]
    },
    {
     "data": {
      "image/png": "[encoded data removed]",
      "text/plain": [
       "<Figure size 1500x900 with 3 Axes>"
      ]
     },
     "metadata": {},
     "output_type": "display_data"
    }
   ],
   "source": [
    "shard = np.random.randint(1,51)\n",
    "# shard = 46\n",
    "with open(f'../data/results/try_lstm_part2/predictions_esm2_t33_650M_UR50D/shard_{shard}.pkl', 'rb') as g:\n",
    "        results = pickle.load(g)\n",
    "\n",
    "with open(f'../data_esm_decoder/maps.pkl', 'rb') as g:\n",
    "        maps = pickle.load(g)\n",
    "clan_map = list(maps['clan_idx'].keys())\n",
    "\n",
    "keys = list(results.keys())\n",
    "seq = keys[np.random.randint(0,len(keys))]\n",
    "# seq = 'Q7NQN2.1'\n",
    "\n",
    "print(f'Shard {shard}: Sequence {seq}')\n",
    "vz.viewSingleClan(shard, seq, results, clan_map)"
   ]
  },
  {
   "cell_type": "code",
   "execution_count": 1,
   "metadata": {},
   "outputs": [
    {
     "ename": "ModuleNotFoundError",
     "evalue": "No module named 'polars'",
     "output_type": "error",
     "traceback": [
      "\u001b[0;31m---------------------------------------------------------------------------\u001b[0m",
      "\u001b[0;31mModuleNotFoundError\u001b[0m                       Traceback (most recent call last)",
      "\u001b[0;32m<ipython-input-1-7e7a13fb818a>\u001b[0m in \u001b[0;36m<module>\u001b[0;34m\u001b[0m\n\u001b[1;32m      1\u001b[0m \u001b[0;32mimport\u001b[0m \u001b[0msys\u001b[0m\u001b[0;34m\u001b[0m\u001b[0;34m\u001b[0m\u001b[0m\n\u001b[1;32m      2\u001b[0m \u001b[0;31m# sys.path.insert(0, '../py_scripts')\u001b[0m\u001b[0;34m\u001b[0m\u001b[0;34m\u001b[0m\u001b[0;34m\u001b[0m\u001b[0m\n\u001b[0;32m----> 3\u001b[0;31m \u001b[0;32mimport\u001b[0m \u001b[0mvisualizations\u001b[0m \u001b[0;32mas\u001b[0m \u001b[0mvz\u001b[0m\u001b[0;34m\u001b[0m\u001b[0;34m\u001b[0m\u001b[0m\n\u001b[0m\u001b[1;32m      4\u001b[0m \u001b[0;32mimport\u001b[0m \u001b[0mpickle\u001b[0m\u001b[0;34m\u001b[0m\u001b[0;34m\u001b[0m\u001b[0m\n\u001b[1;32m      5\u001b[0m \u001b[0;34m\u001b[0m\u001b[0m\n",
      "\u001b[0;32m/net/holy-nfsisilon/ifs/rc_labs/eddy_lab/Lab/protein_annotation_dl/PSALM/library/visualizations.py\u001b[0m in \u001b[0;36m<module>\u001b[0;34m\u001b[0m\n\u001b[1;32m      6\u001b[0m \u001b[0;32mimport\u001b[0m \u001b[0mpickle\u001b[0m\u001b[0;34m\u001b[0m\u001b[0;34m\u001b[0m\u001b[0m\n\u001b[1;32m      7\u001b[0m \u001b[0;32mfrom\u001b[0m \u001b[0mcollections\u001b[0m \u001b[0;32mimport\u001b[0m \u001b[0mdefaultdict\u001b[0m\u001b[0;34m\u001b[0m\u001b[0;34m\u001b[0m\u001b[0m\n\u001b[0;32m----> 8\u001b[0;31m \u001b[0;32mimport\u001b[0m \u001b[0mpolars\u001b[0m \u001b[0;32mas\u001b[0m \u001b[0mpl\u001b[0m\u001b[0;34m\u001b[0m\u001b[0;34m\u001b[0m\u001b[0m\n\u001b[0m\u001b[1;32m      9\u001b[0m \u001b[0;34m\u001b[0m\u001b[0m\n\u001b[1;32m     10\u001b[0m \u001b[0;32mdef\u001b[0m \u001b[0mclan_accuracies\u001b[0m\u001b[0;34m(\u001b[0m\u001b[0mresult_path\u001b[0m\u001b[0;34m:\u001b[0m \u001b[0mPath\u001b[0m\u001b[0;34m,\u001b[0m \u001b[0mplot\u001b[0m\u001b[0;34m=\u001b[0m\u001b[0;32mFalse\u001b[0m\u001b[0;34m)\u001b[0m\u001b[0;34m:\u001b[0m\u001b[0;34m\u001b[0m\u001b[0;34m\u001b[0m\u001b[0m\n",
      "\u001b[0;31mModuleNotFoundError\u001b[0m: No module named 'polars'"
     ]
    }
   ],
   "source": [
    "import sys\n",
    "# sys.path.insert(0, '../py_scripts')\n",
    "import visualizations as vz\n",
    "import pickle\n",
    "\n",
    "with open(f'../data/maps.pkl', 'rb') as g:\n",
    "        maps = pickle.load(g)\n",
    "fam_map = list(maps['fam_idx'].keys())"
   ]
  },
  {
   "cell_type": "code",
   "execution_count": null,
   "metadata": {},
   "outputs": [],
   "source": [
    "with open(f'../data/results/simple_resume_no_L1/single_pred.pkl', 'rb') as g:\n",
    "        results = pickle.load(g)\n",
    "\n",
    "seq = results['label']\n",
    "shard = results['shard']\n",
    "\n",
    "print(f'Shard {shard}: Sequence {seq}')\n",
    "vz.viewSingleFam(shard, seq, results, fam_map)"
   ]
  },
  {
   "cell_type": "code",
   "execution_count": null,
   "metadata": {},
   "outputs": [],
   "source": [
    "import hmmscan_utils as hu\n",
    "\n",
    "scan_dict = hu.parse_hmmscan_results('../data/split_34_test_ids_full.fasta_scan.txt')"
   ]
  },
  {
   "cell_type": "code",
   "execution_count": null,
   "metadata": {},
   "outputs": [],
   "source": [
    "scan_dict['I0AHU5.1']"
   ]
  },
  {
   "cell_type": "code",
   "execution_count": null,
   "metadata": {},
   "outputs": [],
   "source": [
    "import torch"
   ]
  },
  {
   "cell_type": "code",
   "execution_count": null,
   "metadata": {},
   "outputs": [],
   "source": [
    "test = torch.randn((4,4))"
   ]
  },
  {
   "cell_type": "code",
   "execution_count": null,
   "metadata": {},
   "outputs": [],
   "source": [
    "test"
   ]
  },
  {
   "cell_type": "code",
   "execution_count": null,
   "metadata": {},
   "outputs": [],
   "source": [
    "test[[1,3],[0,2]]"
   ]
  },
  {
   "cell_type": "code",
   "execution_count": null,
   "metadata": {},
   "outputs": [],
   "source": [
    "\n",
    "# Specify the indices for dimension 0 and dimension 1\n",
    "indices_dim0 = torch.tensor([1, 3])\n",
    "indices_dim1 = torch.tensor([0, 2])\n",
    "\n",
    "# Use advanced indexing to get the desired elements\n",
    "result = test[indices_dim0.reshape(-1, 1), indices_dim1]\n",
    "\n",
    "print(result)"
   ]
  },
  {
   "cell_type": "code",
   "execution_count": null,
   "metadata": {},
   "outputs": [],
   "source": [
    "# Specify the indices for dimension 0 and dimension 1\n",
    "indices_dim0 = torch.tensor([1, 3])\n",
    "indices_dim1 = [0,2]\n",
    "\n",
    "# Use advanced indexing to get the desired elements\n",
    "test[indices_dim0[:,None], indices_dim1] = 10\n",
    "\n",
    "print(test)"
   ]
  },
  {
   "cell_type": "code",
   "execution_count": null,
   "metadata": {},
   "outputs": [],
   "source": [
    "test2 = torch.tensor([1,2,3,4,1,2,1,2,1])"
   ]
  },
  {
   "cell_type": "code",
   "execution_count": null,
   "metadata": {},
   "outputs": [],
   "source": [
    "mask = (test2 == 1)"
   ]
  },
  {
   "cell_type": "code",
   "execution_count": null,
   "metadata": {},
   "outputs": [],
   "source": [
    "mask"
   ]
  },
  {
   "cell_type": "code",
   "execution_count": null,
   "metadata": {},
   "outputs": [],
   "source": [
    "test2 = torch.tensor([1,2,3,4,5,2])"
   ]
  },
  {
   "cell_type": "code",
   "execution_count": null,
   "metadata": {},
   "outputs": [],
   "source": [
    "test3 = torch.where(test2==2)"
   ]
  },
  {
   "cell_type": "code",
   "execution_count": 1,
   "metadata": {},
   "outputs": [
    {
     "ename": "FileNotFoundError",
     "evalue": "[Errno 2] No such file or directory: '../data_esm_decoder/maps.pkl'",
     "output_type": "error",
     "traceback": [
      "\u001b[0;31m---------------------------------------------------------------------------\u001b[0m",
      "\u001b[0;31mFileNotFoundError\u001b[0m                         Traceback (most recent call last)",
      "Cell \u001b[0;32mIn[1], line 13\u001b[0m\n\u001b[1;32m     10\u001b[0m \u001b[38;5;28;01mimport\u001b[39;00m \u001b[38;5;21;01mpickle\u001b[39;00m\n\u001b[1;32m     11\u001b[0m \u001b[38;5;28;01mfrom\u001b[39;00m \u001b[38;5;21;01mpathlib\u001b[39;00m \u001b[38;5;28;01mimport\u001b[39;00m Path\n\u001b[0;32m---> 13\u001b[0m \u001b[38;5;28;01mwith\u001b[39;00m \u001b[38;5;28;43mopen\u001b[39;49m\u001b[43m(\u001b[49m\u001b[38;5;124;43mf\u001b[39;49m\u001b[38;5;124;43m'\u001b[39;49m\u001b[38;5;124;43m../data_esm_decoder/maps.pkl\u001b[39;49m\u001b[38;5;124;43m'\u001b[39;49m\u001b[43m,\u001b[49m\u001b[43m \u001b[49m\u001b[38;5;124;43m'\u001b[39;49m\u001b[38;5;124;43mrb\u001b[39;49m\u001b[38;5;124;43m'\u001b[39;49m\u001b[43m)\u001b[49m \u001b[38;5;28;01mas\u001b[39;00m g:\n\u001b[1;32m     14\u001b[0m         maps \u001b[38;5;241m=\u001b[39m pickle\u001b[38;5;241m.\u001b[39mload(g)\n\u001b[1;32m     15\u001b[0m fam_map \u001b[38;5;241m=\u001b[39m \u001b[38;5;28mlist\u001b[39m(maps[\u001b[38;5;124m'\u001b[39m\u001b[38;5;124mfam_idx\u001b[39m\u001b[38;5;124m'\u001b[39m]\u001b[38;5;241m.\u001b[39mkeys())\n",
      "File \u001b[0;32m~/.conda/envs/TreeHMM/lib/python3.10/site-packages/IPython/core/interactiveshell.py:310\u001b[0m, in \u001b[0;36m_modified_open\u001b[0;34m(file, *args, **kwargs)\u001b[0m\n\u001b[1;32m    303\u001b[0m \u001b[38;5;28;01mif\u001b[39;00m file \u001b[38;5;129;01min\u001b[39;00m {\u001b[38;5;241m0\u001b[39m, \u001b[38;5;241m1\u001b[39m, \u001b[38;5;241m2\u001b[39m}:\n\u001b[1;32m    304\u001b[0m     \u001b[38;5;28;01mraise\u001b[39;00m \u001b[38;5;167;01mValueError\u001b[39;00m(\n\u001b[1;32m    305\u001b[0m         \u001b[38;5;124mf\u001b[39m\u001b[38;5;124m\"\u001b[39m\u001b[38;5;124mIPython won\u001b[39m\u001b[38;5;124m'\u001b[39m\u001b[38;5;124mt let you open fd=\u001b[39m\u001b[38;5;132;01m{\u001b[39;00mfile\u001b[38;5;132;01m}\u001b[39;00m\u001b[38;5;124m by default \u001b[39m\u001b[38;5;124m\"\u001b[39m\n\u001b[1;32m    306\u001b[0m         \u001b[38;5;124m\"\u001b[39m\u001b[38;5;124mas it is likely to crash IPython. If you know what you are doing, \u001b[39m\u001b[38;5;124m\"\u001b[39m\n\u001b[1;32m    307\u001b[0m         \u001b[38;5;124m\"\u001b[39m\u001b[38;5;124myou can use builtins\u001b[39m\u001b[38;5;124m'\u001b[39m\u001b[38;5;124m open.\u001b[39m\u001b[38;5;124m\"\u001b[39m\n\u001b[1;32m    308\u001b[0m     )\n\u001b[0;32m--> 310\u001b[0m \u001b[38;5;28;01mreturn\u001b[39;00m \u001b[43mio_open\u001b[49m\u001b[43m(\u001b[49m\u001b[43mfile\u001b[49m\u001b[43m,\u001b[49m\u001b[43m \u001b[49m\u001b[38;5;241;43m*\u001b[39;49m\u001b[43margs\u001b[49m\u001b[43m,\u001b[49m\u001b[43m \u001b[49m\u001b[38;5;241;43m*\u001b[39;49m\u001b[38;5;241;43m*\u001b[39;49m\u001b[43mkwargs\u001b[49m\u001b[43m)\u001b[49m\n",
      "\u001b[0;31mFileNotFoundError\u001b[0m: [Errno 2] No such file or directory: '../data_esm_decoder/maps.pkl'"
     ]
    }
   ],
   "source": [
    "import sys\n",
    "import numpy as np\n",
    "sys.path.insert(0, '../library')\n",
    "sys.path.insert(0, '../py_scripts')\n",
    "import hmmscan_utils as hu\n",
    "import classifiers as cf\n",
    "import ml_utils as mu\n",
    "import visualizations as vz\n",
    "import torch\n",
    "import pickle\n",
    "from pathlib import Path\n",
    "\n",
    "with open(f'../data_esm_decoder/maps.pkl', 'rb') as g:\n",
    "        maps = pickle.load(g)\n",
    "fam_map = list(maps['fam_idx'].keys())\n",
    "\n",
    "device = 'cuda' if torch.cuda.is_available() else 'cpu'\n",
    "# print(device)\n",
    "\n",
    "length_limit = 4096 # Covers 99.75% sequences\n",
    "model_name =  'esm2_t33_650M_UR50D' #'esm2_t36_3B_UR50D'\n",
    "num_shards = 50 ###### Replace with appropriate number ###################################\n",
    "data_utils = mu.DataUtils('../data', num_shards, model_name, length_limit, 'test', device)\n",
    "\n",
    "classifier = cf.FamModelSimple(data_utils.embedding_dim, data_utils.maps, device).to(device)\n",
    "classifier_path = Path('../data/results/simple_resume_no_L1/epoch_0.pth')\n",
    "classifier.load_state_dict(torch.load(classifier_path))\n",
    "\n",
    "classifier.eval()"
   ]
  },
  {
   "cell_type": "code",
   "execution_count": null,
   "metadata": {},
   "outputs": [],
   "source": [
    "with torch.inference_mode():\n",
    "\n",
    "    shard = np.random.randint(1,51)\n",
    "    shard = 39\n",
    "\n",
    "    hmm_dict = data_utils.parse_shard(shard)\n",
    "    keys = list(hmm_dict.keys())\n",
    "    key_idx = np.random.randint(0,len(keys))\n",
    "    seq_id = keys[key_idx]\n",
    "    seq_id = 'Q4UFZ3.1'\n",
    "\n",
    "    dataset = data_utils.get_dataset(shard)\n",
    "    dataset = data_utils.filter_batches(dataset, [seq_id])\n",
    "    data_loader = data_utils.get_dataloader(dataset)\n",
    "\n",
    "    label, seq, token = next(iter(data_loader))\n",
    "    token = token.to(device)\n",
    "    embedding = data_utils.get_embedding(token)\n",
    "    fam_vector, clan_vector = hu.generate_domain_position_list2(hmm_dict, seq_id, data_utils.maps)\n",
    "                    \n",
    "    stop_index = min(len(seq[0]), data_utils.length_limit)\n",
    "    fam_vector = torch.tensor(fam_vector[:stop_index,:]).to(device) # clip the clan_vector to the truncated sequence length\n",
    "    clan_vector = torch.tensor(clan_vector[:stop_index,:]).to(device)\n",
    "\n",
    "    weighted_preds, _ = classifier(embedding[\"representations\"][data_utils.last_layer][0,1:stop_index+1,:], clan_vector)\n",
    "    clan_fam_matrix = maps['clan_family_matrix'].to(device)\n",
    "    clan_fam_weights = torch.matmul(clan_vector,clan_fam_matrix)\n",
    "\n",
    "    for i in range(clan_fam_weights.shape[0]): #shape is Lxf\n",
    "        indices = torch.nonzero(clan_fam_weights[i]).squeeze() #indices for the softmax\n",
    "        weighted_preds[i,indices] = torch.softmax(weighted_preds[i,indices],dim=0)\n",
    " \n",
    "    results = {}\n",
    "    results[seq_id] = {}\n",
    "    top_two_vals, top_two_indices = torch.topk(weighted_preds, k=2, dim=1)\n",
    "\n",
    "    \n",
    "    results[seq_id]['fam_vals'] = top_two_vals.cpu().numpy()\n",
    "    results[seq_id]['fam_idx'] = top_two_indices.cpu().numpy()\n",
    "    results[seq_id]['fam_true'] = torch.argmax(fam_vector, dim=1).cpu().numpy()\n",
    "    results[seq_id]['fam_true_vals'] = fam_vector.max(dim=1)[1].cpu().numpy()\n",
    "    results['label'] = seq_id\n",
    "    results['shard'] = shard\n",
    "    print(f'Shard {shard}: Sequence {seq_id}')\n",
    "    vz.viewSingleFam(shard, seq_id, results, list(maps['fam_idx'].keys()))"
   ]
  },
  {
   "cell_type": "code",
   "execution_count": 14,
   "metadata": {},
   "outputs": [
    {
     "data": {
      "text/plain": [
       "{'length': 1133,\n",
       " 'hit_domains': [(0,\n",
       "   396,\n",
       "   407.4,\n",
       "   'PF20005.2',\n",
       "   'MMMMMMMMMMMMMMMMMMMMMMMMMMMMMMMMMMMMMMMMMMMMMMMMMMMMMMMMMMMMMMMMMMMMMMMMMMMMMMMMMMMMMMMMMMMMMMMMMMMMMMMMMMMMMMMMMMMMMMMMMMMMMMMMMMMMMMMMMMMMMMMMMMMMMMMMMMMMMMMMMMMMMMMMMMMMMMMMMMMMMMMMMMMMMMMMMMMMMMMMMMMMMMMMMMMMMMMMMMMMMMMMMMMMMMMMMMMMMMMMMMMMMMMMMMMMMMMMMMMMMMMMMMMMMMMMMMMMMMMMMMMMMMMMMMMMMMMMMMMMMMMMMMMMMMMMMMMMMMMMMMMMMMMMMMMMMMMMMMMMMMMMMMMMMMMMMMMMMMMMMMMMMMMMMMMMMMMMMMMMMMMMMMMMMMMMMMMM')]}"
      ]
     },
     "execution_count": 14,
     "metadata": {},
     "output_type": "execute_result"
    }
   ],
   "source": [
    "hmm_dict['A6GJW3.1']"
   ]
  },
  {
   "cell_type": "code",
   "execution_count": 11,
   "metadata": {},
   "outputs": [
    {
     "name": "stdout",
     "output_type": "stream",
     "text": [
      "torch.Size([92, 19633]) tensor([ 64.7386,  39.0826,  49.2080,  58.9270,  44.1238,  15.9599,   3.7085,\n",
      "          4.1127,   3.2328,   5.0840,  19.2611,  13.7830, -17.8893,   1.1237,\n",
      "          2.3633, -15.8748,  -5.4558, -20.0207, -24.6061, -37.3618, -50.7780,\n",
      "        -33.4130, -21.6598, -33.3347, -46.3284, -25.9756, -37.4133, -19.8903,\n",
      "        -32.6706, -32.4662, -15.9551, -18.3636, -26.7761, -30.6973, -37.2305,\n",
      "        -32.6599, -53.5338, -39.2098, -42.1698, -43.1220, -53.6427, -40.6963,\n",
      "        -33.2671, -16.5144, -30.4160, -40.3505, -16.7908, -21.7260, -39.9741,\n",
      "        -33.2999, -45.1819, -45.6187, -43.3204, -34.3700, -26.9471, -45.1618,\n",
      "        -40.6537, -40.7656, -37.2753, -54.7176, -54.1176, -33.4222, -31.6554,\n",
      "        -34.9622, -45.9699, -39.8379, -33.9998, -46.8290, -21.6584, -19.3317,\n",
      "        -37.0803, -33.5716, -16.4421, -28.7562, -27.1101, -17.2946,  -5.7791,\n",
      "        -11.8283,  -2.9729,  -4.4740,   6.5031,   4.7729,  22.2550,  26.3210,\n",
      "         24.2810,   8.8561,  30.8804,  19.2372,  20.9192,  36.2629,  30.0618,\n",
      "         67.6385], device='cuda:0', grad_fn=<SumBackward1>)\n"
     ]
    }
   ],
   "source": [
    "print(weighted_preds.shape,weighted_preds.sum(dim=1))"
   ]
  },
  {
   "cell_type": "code",
   "execution_count": 12,
   "metadata": {},
   "outputs": [
    {
     "name": "stdout",
     "output_type": "stream",
     "text": [
      "torch.Size([92, 19633]) tensor([   656.4491,  -6006.7563,  -5463.7124,  -6689.6787,  -7666.6191,\n",
      "         -8430.6152, -11101.6914,  -9968.7500, -10305.5244, -10184.9277,\n",
      "        -10722.0586,  -9983.2031, -11926.8389, -12942.8906, -12495.8418,\n",
      "        -13816.9238, -13781.8525, -13096.5391, -14629.6113, -16206.0000,\n",
      "        -18040.7539, -15892.7793, -15570.8115, -14938.5840, -16857.6641,\n",
      "        -13288.0176, -14955.1211, -13661.7432, -14750.1572, -14437.6211,\n",
      "        -13031.1582, -13256.5625, -13940.6787, -14188.0889, -14720.0762,\n",
      "        -15104.0352, -16532.6719, -15798.7930, -16005.6514, -15542.5508,\n",
      "        -16708.4766, -15559.8496, -14909.2070, -13669.5605, -14614.9961,\n",
      "        -16350.9395, -14269.4639, -14356.3496, -16130.2871, -15706.9961,\n",
      "        -15415.1230, -15060.1338, -14155.2314, -15189.3184, -15468.9805,\n",
      "        -16640.0469, -15510.7295, -15553.7754, -15744.9502, -17776.9004,\n",
      "        -18309.4258, -15500.8672, -14890.1885, -14843.7354, -16894.5625,\n",
      "        -15500.9277, -14739.6895, -15390.4922, -13479.7139, -12891.8926,\n",
      "        -15438.5078, -15446.3271, -14877.5879, -15839.6543, -13399.0859,\n",
      "        -12638.1758, -10577.1719, -10286.3867, -10110.7266, -10504.3164,\n",
      "        -10495.7500,  -9697.2441,  -6551.0239,  -6359.1182,  -6220.0049,\n",
      "         -8189.6753,  -4872.8398,  -6622.2705,  -5711.8545,  -4013.5054,\n",
      "         -4790.1133,   -754.3389], device='cuda:0', grad_fn=<SumBackward1>)\n"
     ]
    }
   ],
   "source": [
    "print(raw_preds.shape,raw_preds.sum(dim=1))"
   ]
  },
  {
   "cell_type": "code",
   "execution_count": 4,
   "metadata": {},
   "outputs": [],
   "source": [
    "clan_fam_matrix = maps['clan_family_matrix'].to(device)\n",
    "clan_fam_weights = torch.matmul(clan_vector,clan_fam_matrix)"
   ]
  },
  {
   "cell_type": "code",
   "execution_count": 5,
   "metadata": {},
   "outputs": [],
   "source": [
    "# For each row, print the indices where there are 1s\n",
    "weighted_preds_clone = weighted_preds.clone()\n",
    "for i in range(clan_fam_weights.shape[0]): #shape is Lxf\n",
    "    indices = torch.nonzero(clan_fam_weights[i]).squeeze() #indices for the softmax\n",
    "    weighted_preds_clone[i,indices] = torch.softmax(weighted_preds[i,indices],dim=0)\n",
    "    # if i==88:\n",
    "        # print(f\"Row {i}: {indices.tolist()}\")"
   ]
  },
  {
   "cell_type": "code",
   "execution_count": 86,
   "metadata": {},
   "outputs": [
    {
     "data": {
      "text/plain": [
       "tensor(0.0375, device='cuda:0', grad_fn=<SelectBackward0>)"
      ]
     },
     "execution_count": 86,
     "metadata": {},
     "output_type": "execute_result"
    }
   ],
   "source": [
    "weighted_preds[1,2892]"
   ]
  },
  {
   "cell_type": "code",
   "execution_count": 57,
   "metadata": {},
   "outputs": [
    {
     "data": {
      "text/plain": [
       "tensor([381., 381., 381., 381., 381., 381., 381., 381., 381., 381., 381., 381.,\n",
       "        381., 381., 381., 381., 381., 381., 381., 381., 381., 381., 381., 381.,\n",
       "        381., 381., 381., 381., 381., 381., 381., 381., 381., 381., 381., 381.,\n",
       "        381., 381., 381., 381., 381., 381., 381., 381., 381., 381., 381., 381.,\n",
       "        381., 381., 381., 381., 381., 381., 381., 381., 381., 381., 381., 381.,\n",
       "        381., 381., 381., 381., 381., 381., 381., 381., 381., 381., 381., 381.,\n",
       "        381., 381., 381., 381., 381., 381., 381., 381., 381., 381., 381., 381.,\n",
       "        381., 381., 381., 381., 381., 381., 381., 381.], device='cuda:0')"
      ]
     },
     "execution_count": 57,
     "metadata": {},
     "output_type": "execute_result"
    }
   ],
   "source": [
    "clan_fam_weights.sum(dim=1)"
   ]
  },
  {
   "cell_type": "code",
   "execution_count": 70,
   "metadata": {},
   "outputs": [
    {
     "data": {
      "text/plain": [
       "tensor([1.0000, 1.0000, 1.0000, 1.0000, 1.0000, 1.0000, 1.0000, 1.0000, 1.0000,\n",
       "        1.0000, 1.0000, 1.0000, 1.0000, 1.0000, 1.0000, 1.0000, 1.0000, 1.0000,\n",
       "        1.0000, 1.0000, 1.0000, 1.0000, 1.0000, 1.0000, 1.0000, 1.0000, 1.0000,\n",
       "        1.0000, 1.0000, 1.0000, 1.0000, 1.0000, 1.0000, 1.0000, 1.0000, 1.0000,\n",
       "        1.0000, 1.0000, 1.0000, 1.0000, 1.0000, 1.0000, 1.0000, 1.0000, 1.0000,\n",
       "        1.0000, 1.0000, 1.0000, 1.0000, 1.0000, 1.0000, 1.0000, 1.0000, 1.0000,\n",
       "        1.0000, 1.0000, 1.0000, 1.0000, 1.0000, 1.0000, 1.0000, 1.0000, 1.0000,\n",
       "        1.0000, 1.0000, 1.0000, 1.0000, 1.0000, 1.0000, 1.0000, 1.0000, 1.0000,\n",
       "        1.0000, 1.0000, 1.0000, 1.0000, 1.0000, 1.0000, 1.0000, 1.0000, 1.0000,\n",
       "        1.0000, 1.0000, 1.0000, 1.0000, 1.0000, 1.0000, 1.0000, 1.0000, 1.0000,\n",
       "        1.0000, 1.0000], device='cuda:0', grad_fn=<SumBackward1>)"
      ]
     },
     "execution_count": 70,
     "metadata": {},
     "output_type": "execute_result"
    }
   ],
   "source": [
    "weighted_preds.sum(dim=1)"
   ]
  },
  {
   "cell_type": "code",
   "execution_count": 69,
   "metadata": {},
   "outputs": [],
   "source": [
    "weighted_preds = torch.softmax(weighted_preds,dim=1)"
   ]
  },
  {
   "cell_type": "code",
   "execution_count": 71,
   "metadata": {},
   "outputs": [
    {
     "data": {
      "text/plain": [
       "tensor([4.0476e-05, 4.0476e-05, 4.0476e-05,  ..., 4.0476e-05, 4.0476e-05,\n",
       "        4.0476e-05], device='cuda:0', grad_fn=<SliceBackward0>)"
      ]
     },
     "execution_count": 71,
     "metadata": {},
     "output_type": "execute_result"
    }
   ],
   "source": [
    "weighted_preds[0,:]"
   ]
  },
  {
   "cell_type": "code",
   "execution_count": 74,
   "metadata": {},
   "outputs": [
    {
     "data": {
      "text/plain": [
       "tensor([[4.0476e-05, 4.0476e-05, 4.0476e-05,  ..., 4.0476e-05, 4.0476e-05,\n",
       "         4.0476e-05],\n",
       "        [4.5279e-05, 4.5279e-05, 4.5279e-05,  ..., 4.5279e-05, 4.5279e-05,\n",
       "         4.5279e-05],\n",
       "        [4.3508e-05, 4.3508e-05, 4.3508e-05,  ..., 4.3508e-05, 4.3508e-05,\n",
       "         4.3508e-05],\n",
       "        ...,\n",
       "        [4.4099e-05, 4.4099e-05, 4.4099e-05,  ..., 4.4099e-05, 4.4099e-05,\n",
       "         4.4099e-05],\n",
       "        [4.2979e-05, 4.2979e-05, 4.2979e-05,  ..., 4.2979e-05, 4.2979e-05,\n",
       "         4.2979e-05],\n",
       "        [4.2925e-05, 4.2925e-05, 4.2925e-05,  ..., 4.2925e-05, 4.2925e-05,\n",
       "         4.2925e-05]], device='cuda:0', grad_fn=<CopySlices>)"
      ]
     },
     "execution_count": 74,
     "metadata": {},
     "output_type": "execute_result"
    }
   ],
   "source": [
    "weighted_preds"
   ]
  },
  {
   "cell_type": "code",
   "execution_count": 83,
   "metadata": {},
   "outputs": [
    {
     "data": {
      "text/plain": [
       "113"
      ]
     },
     "execution_count": 83,
     "metadata": {},
     "output_type": "execute_result"
    }
   ],
   "source": [
    "maps['clan_idx'][maps['fam_clan'][maps['idx_fam'][2892]]]"
   ]
  },
  {
   "cell_type": "code",
   "execution_count": 93,
   "metadata": {},
   "outputs": [],
   "source": [
    "viz = top5_argmaxes_with_values(weighted_preds, maps['idx_fam'],2)"
   ]
  },
  {
   "cell_type": "code",
   "execution_count": 12,
   "metadata": {},
   "outputs": [],
   "source": [
    "raw_preds_sm = torch.softmax(raw_preds,dim=1)"
   ]
  },
  {
   "cell_type": "code",
   "execution_count": 6,
   "metadata": {},
   "outputs": [],
   "source": [
    "results = {}\n",
    "seq_id = \"P14528.1\"\n",
    "shard = 1\n",
    "results[seq_id] = {}\n",
    "\n",
    "top_two_vals, top_two_indices = torch.topk(weighted_preds_clone, k=2, dim=1)\n",
    "\n",
    "results[seq_id]['fam_vals'] = top_two_vals.cpu().numpy()\n",
    "results[seq_id]['fam_idx'] = top_two_indices.cpu().numpy()\n",
    "results[seq_id]['fam_true'] = torch.argmax(fam_vector, dim=1).cpu().numpy()\n",
    "results['label'] = seq_id\n",
    "results['shard'] = shard"
   ]
  },
  {
   "cell_type": "code",
   "execution_count": 8,
   "metadata": {},
   "outputs": [
    {
     "name": "stdout",
     "output_type": "stream",
     "text": [
      "Shard 1: Sequence P14528.1\n"
     ]
    },
    {
     "data": {
      "image/png": "[encoded data removed]",
      "text/plain": [
       "<Figure size 1500x900 with 3 Axes>"
      ]
     },
     "metadata": {},
     "output_type": "display_data"
    }
   ],
   "source": [
    "import sys\n",
    "sys.path.insert(0,\"../py_scripts\")\n",
    "\n",
    "import visualizations as vz\n",
    "print(f'Shard {shard}: Sequence {seq_id}')\n",
    "vz.viewSingleFam(shard, seq_id, results, list(maps['fam_idx'].keys()))"
   ]
  },
  {
   "cell_type": "code",
   "execution_count": 13,
   "metadata": {},
   "outputs": [
    {
     "name": "stdout",
     "output_type": "stream",
     "text": [
      "Shard 1: Sequence P14528.1\n"
     ]
    },
    {
     "data": {
      "image/png": "[encoded data removed]",
      "text/plain": [
       "<Figure size 1500x900 with 3 Axes>"
      ]
     },
     "metadata": {},
     "output_type": "display_data"
    }
   ],
   "source": [
    "results = {}\n",
    "seq_id = \"P14528.1\"\n",
    "shard = 1\n",
    "results[seq_id] = {}\n",
    "\n",
    "top_two_vals, top_two_indices = torch.topk(raw_preds_sm, k=2, dim=1)\n",
    "\n",
    "results[seq_id]['fam_vals'] = top_two_vals.cpu().numpy()\n",
    "results[seq_id]['fam_idx'] = top_two_indices.cpu().numpy()\n",
    "results[seq_id]['fam_true'] = torch.argmax(fam_vector, dim=1).cpu().numpy()\n",
    "results['label'] = seq_id\n",
    "results['shard'] = shard\n",
    "print(f'Shard {shard}: Sequence {seq_id}')\n",
    "vz.viewSingleFam(shard, seq_id, results, list(maps['fam_idx'].keys()))"
   ]
  },
  {
   "cell_type": "code",
   "execution_count": null,
   "metadata": {},
   "outputs": [],
   "source": []
  }
 ],
 "metadata": {
  "kernelspec": {
   "display_name": "Python [conda env:.conda-TreeHMM]",
   "language": "python",
   "name": "conda-env-.conda-TreeHMM-py"
  },
  "language_info": {
   "codemirror_mode": {
    "name": "ipython",
    "version": 3
   },
   "file_extension": ".py",
   "mimetype": "text/x-python",
   "name": "python",
   "nbconvert_exporter": "python",
   "pygments_lexer": "ipython3",
   "version": "3.10.13"
  }
 },
 "nbformat": 4,
 "nbformat_minor": 4
}
