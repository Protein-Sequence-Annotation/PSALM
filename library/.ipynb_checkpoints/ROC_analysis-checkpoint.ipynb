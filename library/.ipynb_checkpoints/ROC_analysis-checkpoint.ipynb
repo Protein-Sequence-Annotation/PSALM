{
 "cells": [
  {
   "cell_type": "code",
   "execution_count": 1,
   "metadata": {},
   "outputs": [],
   "source": [
    "from pathlib import Path\n",
    "import pickle\n",
    "from Bio import SeqIO\n",
    "import hmmscan_utils as hu\n",
    "import analysis_tools as at\n",
    "import numpy as np\n",
    "from tqdm import tqdm\n",
    "import matplotlib.pyplot as plt\n",
    "from itertools import groupby"
   ]
  },
  {
   "cell_type": "markdown",
   "metadata": {
    "jp-MarkdownHeadingCollapsed": true,
    "tags": []
   },
   "source": [
    "## Filter 0-20 pid split to be non-UniRef (ESM-2 filter)"
   ]
  },
  {
   "cell_type": "code",
   "execution_count": 4,
   "metadata": {},
   "outputs": [],
   "source": [
    "pid = 20\n",
    "num_shards = 50\n",
    "\n",
    "folder = Path(f'../data/test_fasta_{pid}')\n",
    "# Load non-uniref sequences\n",
    "with open(f'../data/non_uniref.pkl', 'rb') as f:\n",
    "    non_uniref = pickle.load(f)\n",
    "non_uniref_seqs = list(non_uniref['unique'])\n",
    "\n",
    "# Load split seqs\n",
    "with open(f'../data/split_seqs.pkl', 'rb') as f:\n",
    "    split_seqs = pickle.load(f)\n",
    "\n",
    "seq_list = split_seqs[pid]\n",
    "seq_list = [x for x in seq_list if x in non_uniref_seqs]"
   ]
  },
  {
   "cell_type": "code",
   "execution_count": 13,
   "metadata": {},
   "outputs": [],
   "source": [
    "# Write filtered sequences\n",
    "with open(f'../data/test_fasta_{pid}_nonuniref/test_ids_full.fasta', \"w\") as f:\n",
    "    parsed_seqs =  list(SeqIO.parse(folder / 'test_ids_full.fasta', 'fasta'))\n",
    "    filtered_seqs = [seq for seq in parsed_seqs if seq.id in seq_list]\n",
    "    SeqIO.write(filtered_seqs, f, 'fasta')\n",
    "\n",
    "# Shard sequences\n",
    "hu.split_fasta_file('test_ids_full.fasta', f'../data/test_fasta_{pid}_nonuniref', 50)"
   ]
  },
  {
   "cell_type": "markdown",
   "metadata": {
    "jp-MarkdownHeadingCollapsed": true,
    "tags": []
   },
   "source": [
    "## Shuffle the non hit regions"
   ]
  },
  {
   "cell_type": "markdown",
   "metadata": {},
   "source": [
    "We use the hmmscan parsing code with default inclusion and smoothing parameters in order to preserve our test set split properties and to yield a good smooth region for of guaranteed hits"
   ]
  },
  {
   "cell_type": "code",
   "execution_count": 8,
   "metadata": {},
   "outputs": [
    {
     "name": "stderr",
     "output_type": "stream",
     "text": [
      "100%|██████████| 50/50 [05:40<00:00,  6.82s/it]\n"
     ]
    }
   ],
   "source": [
    "from Bio import SeqIO\n",
    "from Bio.Seq import Seq\n",
    "import os\n",
    "import glob\n",
    "import pickle\n",
    "import random\n",
    "from tqdm import tqdm\n",
    "import sys\n",
    "import hmmscan_utils as hu\n",
    "\n",
    "random.seed(100)\n",
    "# Load maps\n",
    "with open(\"../data/maps.pkl\", \"rb\") as f:\n",
    "    maps = pickle.load(f)\n",
    "\n",
    "# Directory containing the fasta files\n",
    "dir_path = \"../data/test_fasta_20_nonuniref\"\n",
    "out_path = \"../data/test_fasta_20_nonuniref_shuffled\"\n",
    "\n",
    "# Iterate over each fasta file in the directory\n",
    "for fasta_file in tqdm(glob.glob(os.path.join(dir_path, 'split_*_test_ids_full.fasta'))):\n",
    "    # Get the corresponding scan\n",
    "    file_suffix = fasta_file.split(\"/\")[-1] \n",
    "    hmmscan_dict = hu.parse_hmmscan_results(f\"../data/test_scan_20_nonuniref/{file_suffix}_scan.txt\") #use original scan with full profiles for determining good hit region\n",
    "\n",
    "    # Use BioPython to load the fasta file\n",
    "    sequences = list(SeqIO.parse(fasta_file, \"fasta\"))\n",
    "\n",
    "    for seq in sequences:\n",
    "        # print(seq.id)\n",
    "        # Get clan_vector\n",
    "        try:\n",
    "            _, clan_vector = hu.generate_domain_position_list(hmmscan_dict, seq.id, maps)\n",
    "        except:\n",
    "            # print(f\"Error with {seq.id}\")\n",
    "            continue\n",
    "        # find the indices where the clan vector is 656\n",
    "        indices = [i for i, x in enumerate(clan_vector) if x == 656]\n",
    "\n",
    "        # If there are no clan 656 domains, skip\n",
    "        if len(indices) == 0:\n",
    "            continue\n",
    "\n",
    "        # Shuffle seq.seq only where clan 656 is present\n",
    "        sequence = list(seq.seq)\n",
    "        values = [sequence[i] for i in indices]\n",
    "        random.shuffle(values)\n",
    "        for i, index in enumerate(indices):\n",
    "            sequence[index] = values[i]\n",
    "        seq.seq = Seq(\"\".join(sequence))\n",
    "    \n",
    "    # Write the shuffled sequences to a new fasta file\n",
    "    with open(f\"{out_path}/{file_suffix}\", \"w\") as f:\n",
    "        SeqIO.write(sequences, f, \"fasta\")"
   ]
  },
  {
   "cell_type": "markdown",
   "metadata": {
    "jp-MarkdownHeadingCollapsed": true,
    "tags": []
   },
   "source": [
    "## Scan the new shards with HMMER"
   ]
  },
  {
   "cell_type": "markdown",
   "metadata": {},
   "source": [
    "No e-value/bitscore threshold"
   ]
  },
  {
   "cell_type": "markdown",
   "metadata": {
    "jp-MarkdownHeadingCollapsed": true,
    "tags": []
   },
   "source": [
    "## Scan the new shards with HMMER*"
   ]
  },
  {
   "cell_type": "markdown",
   "metadata": {},
   "source": [
    "No e-value/bitscore threshold"
   ]
  },
  {
   "cell_type": "markdown",
   "metadata": {
    "tags": []
   },
   "source": [
    "## ROC Plot"
   ]
  },
  {
   "cell_type": "markdown",
   "metadata": {
    "tags": []
   },
   "source": [
    "### Load results and convert to np arrays"
   ]
  },
  {
   "cell_type": "code",
   "execution_count": 3,
   "metadata": {},
   "outputs": [],
   "source": [
    "# with open(\"../data/results/no_l1_p4/predictions_esm2_t33_650M_UR50D/roc_results_roc.pkl\",\"rb\") as f:\n",
    "#     results = pickle.load(f)\n",
    "with open(\"../data/results/clan_finetune/roc_results_20_nu.pkl\",\"rb\") as f:\n",
    "    results = pickle.load(f)"
   ]
  },
  {
   "cell_type": "code",
   "execution_count": 19,
   "metadata": {},
   "outputs": [],
   "source": [
    "with open(\"../data/results/onehot_fts/roc_results_100.pkl\",\"rb\") as f:\n",
    "    results2 = pickle.load(f)"
   ]
  },
  {
   "cell_type": "code",
   "execution_count": 23,
   "metadata": {},
   "outputs": [
    {
     "data": {
      "text/plain": [
       "{}"
      ]
     },
     "execution_count": 23,
     "metadata": {},
     "output_type": "execute_result"
    }
   ],
   "source": [
    "results2"
   ]
  },
  {
   "cell_type": "code",
   "execution_count": 24,
   "metadata": {},
   "outputs": [
    {
     "name": "stdout",
     "output_type": "stream",
     "text": [
      "Sun May 12 22:05:18 2024       \n",
      "+---------------------------------------------------------------------------------------+\n",
      "| NVIDIA-SMI 535.104.12             Driver Version: 535.104.12   CUDA Version: 12.2     |\n",
      "|-----------------------------------------+----------------------+----------------------+\n",
      "| GPU  Name                 Persistence-M | Bus-Id        Disp.A | Volatile Uncorr. ECC |\n",
      "| Fan  Temp   Perf          Pwr:Usage/Cap |         Memory-Usage | GPU-Util  Compute M. |\n",
      "|                                         |                      |               MIG M. |\n",
      "|=========================================+======================+======================|\n",
      "|   0  NVIDIA A40                     On  | 00000000:C1:00.0 Off |                    0 |\n",
      "|  0%   30C    P8              24W / 300W |      4MiB / 46068MiB |      0%      Default |\n",
      "|                                         |                      |                  N/A |\n",
      "+-----------------------------------------+----------------------+----------------------+\n",
      "                                                                                         \n",
      "+---------------------------------------------------------------------------------------+\n",
      "| Processes:                                                                            |\n",
      "|  GPU   GI   CI        PID   Type   Process name                            GPU Memory |\n",
      "|        ID   ID                                                             Usage      |\n",
      "|=======================================================================================|\n",
      "|  No running processes found                                                           |\n",
      "+---------------------------------------------------------------------------------------+\n"
     ]
    }
   ],
   "source": [
    "!nvidia-smi"
   ]
  },
  {
   "cell_type": "code",
   "execution_count": 74,
   "metadata": {},
   "outputs": [],
   "source": [
    "test_seq = 'A0A090L964.1'\n",
    "psalm_f_vals = results[test_seq]['psalm_f_vals']\n",
    "psalm_f_labels = results[test_seq]['psalm_f_indices']\n",
    "true_f = results[test_seq]['true_f']"
   ]
  },
  {
   "cell_type": "code",
   "execution_count": 75,
   "metadata": {},
   "outputs": [],
   "source": [
    "hmmer_f = results[test_seq]['hmmer_f_indices']"
   ]
  },
  {
   "cell_type": "code",
   "execution_count": 54,
   "metadata": {},
   "outputs": [],
   "source": [
    "with open(\"../data/maps.pkl\",\"rb\") as f:\n",
    "    maps = pickle.load(f)"
   ]
  },
  {
   "cell_type": "code",
   "execution_count": 77,
   "metadata": {},
   "outputs": [
    {
     "data": {
      "text/plain": [
       "'A0A090L964.1'"
      ]
     },
     "execution_count": 77,
     "metadata": {},
     "output_type": "execute_result"
    }
   ],
   "source": [
    "test_seq"
   ]
  },
  {
   "cell_type": "code",
   "execution_count": 78,
   "metadata": {},
   "outputs": [],
   "source": [
    "# Use hmmscan_utils to do MSS smoothing of labels\n",
    "# Step 1: Identify hit/no hit regions\n",
    "no_hit_label = 19632  # IDR value, corresponds to Is, assume Is make up less than half of the sequence\n",
    "target_prob = 0.60 # 3/5 in a contiguous region need to be IDRs to call the whole thing an IDR\n",
    "length_thresh = 5 #IDR regions don't have to be that long\n",
    "\n",
    "# Create a numpy array of 'M's and 'I's based on the condition\n",
    "# Condition: Is are predicted no hits.\n",
    "psalm_f_labels = np.ravel(psalm_f_labels)\n",
    "psalm_f_string_array = np.where(psalm_f_labels == no_hit_label, 'I', 'M')\n",
    "\n",
    "# Convert the numpy array to a string\n",
    "psalm_f_string = ''.join(psalm_f_string_array)\n",
    "\n",
    "# Now pass psalm_f_string to adjust_state_assignment\n",
    "hit_no_hit_string = hu.adjust_state_assignment(psalm_f_string, target_prob, length_thresh)\n",
    "\n",
    "# Make a copy of psalm_f_labels AND update with MSS no hit assignments\n",
    "psalm_f_labels_copy = np.array([no_hit_label if label == 'I' else psalm_f_labels[i] for i, label in enumerate(hit_no_hit_string)])"
   ]
  },
  {
   "cell_type": "code",
   "execution_count": 79,
   "metadata": {},
   "outputs": [
    {
     "data": {
      "text/plain": [
       "'IIIIIIIIIIIIIIMMMMMMMMMMMMMMMMMMMMMMMMMMMMMMMMMMMMMMMMMMMMMMMMMMMMMMMMMMMMMMMMMMMMMMMMMMMMMMMMMMMMMMMMMMMMMMMMMMMMMMMMMMMMMMMM'"
      ]
     },
     "execution_count": 79,
     "metadata": {},
     "output_type": "execute_result"
    }
   ],
   "source": [
    "hit_no_hit_string"
   ]
  },
  {
   "cell_type": "code",
   "execution_count": 80,
   "metadata": {},
   "outputs": [
    {
     "data": {
      "text/plain": [
       "array([19632, 19632, 19632, 19632, 19632, 19632, 19632, 19632, 19632,\n",
       "       19632, 19632, 19632, 19632, 19632, 19076, 19076, 19076, 19632,\n",
       "       19076, 19076, 19076, 19076, 19076, 19076, 19076, 19076, 19076,\n",
       "       19076, 19076, 19076, 19076, 19076, 19076, 19076, 19076, 19076,\n",
       "       19076, 19076, 19076, 19076, 19076, 19076, 19076, 19076, 19076,\n",
       "       19076, 19076, 19076, 19076, 19076, 19076, 19076, 19076, 19076,\n",
       "       19076, 19076, 19076, 19076, 19076, 19076, 19076, 19076, 19076,\n",
       "       19076, 19076, 19076, 19076, 19076, 19076, 19076, 19076, 19076,\n",
       "       19076, 19076, 19076, 19076, 19076, 19076, 19076, 19076, 19076,\n",
       "       19076, 19076, 19076, 19076, 19076, 19076, 19076, 19076, 19076,\n",
       "       19076, 19076, 19076, 19076, 19076, 19076, 19076, 19076, 19076,\n",
       "       19076, 19076, 19076, 19076, 19076, 19076, 19076, 19076, 19076,\n",
       "       19076, 19076, 19076, 19076, 19076, 19076,  9125,  9125, 19076,\n",
       "       19076, 18092, 19076, 17096,  9125, 19076, 19076, 19632, 19632])"
      ]
     },
     "execution_count": 80,
     "metadata": {},
     "output_type": "execute_result"
    }
   ],
   "source": [
    "psalm_f_labels_copy"
   ]
  },
  {
   "cell_type": "code",
   "execution_count": 81,
   "metadata": {},
   "outputs": [],
   "source": [
    "from itertools import groupby\n",
    "\n",
    "\n",
    "# Initialize the tracking string with 'X' where psalm_f_labels_copy has no_hit_label and 'O' everywhere else\n",
    "tracking_string = ['X' if label == no_hit_label else 'O' for label in psalm_f_labels_copy]\n",
    "\n",
    "# Parameters to determine how long \"domains\" that aren't the majority class are\n",
    "domain_target_prob = 0.66\n",
    "domain_length_thresh = 15\n",
    "\n",
    "# Continue the process as long as there is an 'O' in tracking_string\n",
    "counter = 0\n",
    "while 'O' in tracking_string:\n",
    "    # Break the loop after 5 iterations\n",
    "    if counter >= 5:\n",
    "        break\n",
    "    # Initialize the start index\n",
    "    start_index = 0\n",
    "\n",
    "    # Iterate over the contiguous blocks of elements in tracking_string where there is an 'O'\n",
    "    for key, group in groupby(tracking_string, lambda x: x == 'O'):\n",
    "        # Convert the group to a list\n",
    "        group = list(group)\n",
    "\n",
    "        if key:  # If the block consists of 'O'\n",
    "            # Get the corresponding block from psalm_f_labels_copy\n",
    "            block = psalm_f_labels_copy[start_index : start_index + len(group)]\n",
    "\n",
    "            # Find the majority class in the block\n",
    "            majority_class = max(set(block), key=lambda x: np.count_nonzero(block == x))\n",
    "\n",
    "            # Create a string representation of the block with the majority class as 'M' and everything else as 'I'\n",
    "            block_string = ''.join(['M' if label == majority_class else 'I' for label in block])\n",
    "\n",
    "            # Perform adjust_state_assignment on the block string\n",
    "            adjusted_block = hu.adjust_state_assignment(block_string, target_prob, length_thresh)\n",
    "\n",
    "            # Replace the 'M' labels in the original block in psalm_f_labels_copy with the majority class label\n",
    "            # and mark the modified positions in the tracking string with 'X'\n",
    "            for i, label in enumerate(adjusted_block):\n",
    "                if label == 'M':\n",
    "                    psalm_f_labels_copy[start_index + i] = majority_class\n",
    "                    tracking_string[start_index + i] = 'X'\n",
    "\n",
    "        # Update the start index\n",
    "        start_index += len(group)\n",
    "    counter +=1"
   ]
  },
  {
   "cell_type": "code",
   "execution_count": 83,
   "metadata": {},
   "outputs": [],
   "source": [
    "# Initialize the scores array with the same length as psalm_f_labels_copy and filled with 0\n",
    "scores = np.zeros(len(psalm_f_labels_copy))\n",
    "\n",
    "# Initialize the start index\n",
    "start_index = 0\n",
    "\n",
    "# Iterate over the contiguous chunks of same labels in psalm_f_labels_copy\n",
    "for label, group in groupby(psalm_f_labels_copy):\n",
    "    # Convert the group to a list\n",
    "    group = list(group)\n",
    "\n",
    "    # Get the corresponding region from psalm_f_labels\n",
    "    region = psalm_f_labels[start_index : start_index + len(group)]\n",
    "\n",
    "    # Find the indices in the region that have the desired label\n",
    "    indices = np.where(region == label)[0]\n",
    "\n",
    "    # Calculate the percentage of the region that have the desired label\n",
    "    percentage = len(indices) / len(region)\n",
    "\n",
    "    # Calculate the average score of the indices that have the desired label\n",
    "    average_score = np.mean(psalm_f_vals[start_index + indices])\n",
    "\n",
    "    # Assign the average score to the corresponding positions in the scores array\n",
    "    scores[start_index : start_index + len(group)] = average_score*percentage\n",
    "\n",
    "    # Update the start index\n",
    "    start_index += len(group)"
   ]
  },
  {
   "cell_type": "code",
   "execution_count": 84,
   "metadata": {},
   "outputs": [
    {
     "data": {
      "text/plain": [
       "[(19632, 0.7897514700889587, 19632, 0.7897514700889587),\n",
       " (19632, 0.7897514700889587, 19632, 0.7897514700889587),\n",
       " (19632, 0.7897514700889587, 19632, 0.7897514700889587),\n",
       " (19632, 0.7897514700889587, 19632, 0.7897514700889587),\n",
       " (19632, 0.7897514700889587, 19632, 0.7897514700889587),\n",
       " (19632, 0.7897514700889587, 19632, 0.7897514700889587),\n",
       " (19632, 0.7897514700889587, 19632, 0.7897514700889587),\n",
       " (19632, 0.7897514700889587, 19632, 0.7897514700889587),\n",
       " (19632, 0.7897514700889587, 19632, 0.7897514700889587),\n",
       " (19632, 0.7897514700889587, 19632, 0.7897514700889587)]"
      ]
     },
     "execution_count": 84,
     "metadata": {},
     "output_type": "execute_result"
    }
   ],
   "source": [
    "list(zip(psalm_f_labels_copy,scores,psalm_f_labels,psalm_f_vals))[:10]"
   ]
  },
  {
   "cell_type": "code",
   "execution_count": 3,
   "metadata": {},
   "outputs": [],
   "source": [
    "with open(f'../data/split_seqs.pkl', 'rb') as f:\n",
    "    split_seqs = pickle.load(f)"
   ]
  },
  {
   "cell_type": "code",
   "execution_count": 128,
   "metadata": {},
   "outputs": [
    {
     "data": {
      "text/plain": [
       "23975"
      ]
     },
     "execution_count": 128,
     "metadata": {},
     "output_type": "execute_result"
    }
   ],
   "source": [
    "len(split_seqs[20])"
   ]
  },
  {
   "cell_type": "code",
   "execution_count": 302,
   "metadata": {},
   "outputs": [],
   "source": [
    "with open('../data/benchmarking/old_test_pids.pkl', 'rb') as f:\n",
    "    pid_dict = pickle.load(f)\n",
    "with open('../data/maps.pkl', 'rb') as f:\n",
    "    maps = pickle.load(f)\n",
    "def nc(pid):\n",
    "    result_nc = []\n",
    "    for seq in split_seqs[pid]:\n",
    "        if \"NC0001\" in [maps[\"fam_clan\"][x] for x in pid_dict[seq].keys()]:\n",
    "            result_nc.append(seq)\n",
    "    return(result_nc)\n",
    "def not_nc(pid):\n",
    "    result_nc = []\n",
    "    for seq in split_seqs[pid]:\n",
    "        if \"NC0001\" not in [maps[\"fam_clan\"][x] for x in pid_dict[seq].keys()]:\n",
    "            result_nc.append(seq)\n",
    "    return(result_nc)"
   ]
  },
  {
   "cell_type": "code",
   "execution_count": 322,
   "metadata": {},
   "outputs": [],
   "source": [
    "clan_seqs = not_nc(20)"
   ]
  },
  {
   "cell_type": "code",
   "execution_count": 311,
   "metadata": {},
   "outputs": [
    {
     "data": {
      "text/plain": [
       "2026"
      ]
     },
     "execution_count": 311,
     "metadata": {},
     "output_type": "execute_result"
    }
   ],
   "source": [
    "len(clan_seqs)"
   ]
  },
  {
   "cell_type": "code",
   "execution_count": 4,
   "metadata": {},
   "outputs": [],
   "source": [
    "with open('../data/count_fam_list.pkl','rb') as f:\n",
    "    count_fam_list = pickle.load(f)"
   ]
  },
  {
   "cell_type": "code",
   "execution_count": 5,
   "metadata": {},
   "outputs": [],
   "source": [
    "min_lim = 20\n",
    "exclude_all = []\n",
    "for i in range(min_lim +1):\n",
    "    exclude_fams = list(count_fam_list[i])\n",
    "    exclude_all.extend(exclude_fams)"
   ]
  },
  {
   "cell_type": "code",
   "execution_count": 6,
   "metadata": {},
   "outputs": [
    {
     "name": "stderr",
     "output_type": "stream",
     "text": [
      "100%|██████████| 23974/23974 [00:43<00:00, 556.74it/s]\n"
     ]
    }
   ],
   "source": [
    "import numpy as np\n",
    "\n",
    "# Initialize empty lists for each array\n",
    "psalm_f_vals = []\n",
    "psalm_f_indices = []\n",
    "psalm_c_vals = []\n",
    "psalm_c_indices = []\n",
    "hmmer_f_vals = []\n",
    "hmmer_f_indices = []\n",
    "hmmer_c_vals = []\n",
    "hmmer_c_indices = []\n",
    "true_f = []\n",
    "true_c = []\n",
    "counter = 0\n",
    "# Iterate over the results dictionary\n",
    "for sequence_id in tqdm(results):\n",
    "    # if (sequence_id not in clan_seqs):\n",
    "    if True: #sequence_id in clan_seqs: #True\n",
    "        trues = np.unique(results[sequence_id]['true_f'])\n",
    "        if not (np.in1d(trues,exclude_all)).any():\n",
    "            counter += 1\n",
    "            # Append each sequence's data to the respective list\n",
    "            psalm_f_vals += list(results[sequence_id]['psalm_f_vals'])\n",
    "            psalm_f_indices += list(results[sequence_id]['psalm_f_indices'])\n",
    "            psalm_c_vals += list(results[sequence_id]['psalm_c_vals'])\n",
    "            psalm_c_indices += list(results[sequence_id]['psalm_c_indices'])\n",
    "            hmmer_f_vals += list(results[sequence_id]['hmmer_f_vals'])\n",
    "            hmmer_f_indices += list(results[sequence_id]['hmmer_f_indices'])\n",
    "            hmmer_c_vals += list(results[sequence_id]['hmmer_c_vals'])\n",
    "            hmmer_c_indices += list(results[sequence_id]['hmmer_c_indices'])\n",
    "            true_f += list(results[sequence_id]['true_f'])\n",
    "            true_c += list(results[sequence_id]['true_c'])\n",
    "            \n",
    "            if len(true_f) != len(hmmer_f_indices):\n",
    "                print('Mistmatch', len(list(results[sequence_id]['true_f'])), len(list(results[sequence_id]['hmmer_f_indices'])))\n",
    "\n",
    "# Convert lists to numpy arrays\n",
    "psalm_f_vals = np.array(psalm_f_vals)\n",
    "psalm_f_indices = np.array(psalm_f_indices)\n",
    "psalm_c_vals = np.array(psalm_c_vals)\n",
    "psalm_c_indices = np.array(psalm_c_indices)\n",
    "hmmer_f_vals = np.array(hmmer_f_vals)\n",
    "hmmer_f_indices = np.array(hmmer_f_indices)\n",
    "hmmer_c_vals = np.array(hmmer_c_vals)\n",
    "hmmer_c_indices = np.array(hmmer_c_indices)\n",
    "true_f = np.array(true_f)\n",
    "true_c = np.array(true_c)"
   ]
  },
  {
   "cell_type": "code",
   "execution_count": 132,
   "metadata": {},
   "outputs": [
    {
     "data": {
      "text/plain": [
       "23771"
      ]
     },
     "execution_count": 132,
     "metadata": {},
     "output_type": "execute_result"
    }
   ],
   "source": [
    "counter"
   ]
  },
  {
   "cell_type": "code",
   "execution_count": 7,
   "metadata": {},
   "outputs": [
    {
     "name": "stdout",
     "output_type": "stream",
     "text": [
      "Number of unique values: 184\n",
      "Percentage of elements not equal to 19632 : 65.02430627311884\n"
     ]
    }
   ],
   "source": [
    "# Find the unique values\n",
    "unique_values = np.unique(true_c)\n",
    "\n",
    "# Print the number of unique values\n",
    "print(\"Number of unique values:\", len(unique_values))\n",
    "\n",
    "# Assume the value you are interested in is 3\n",
    "value = 19632\n",
    "\n",
    "# Find the percentage of elements that are not the given value\n",
    "percentage = np.count_nonzero(true_f != value) / len(true_f) * 100\n",
    "\n",
    "# Print the percentage\n",
    "print(\"Percentage of elements not equal to\", value, \":\", percentage)"
   ]
  },
  {
   "cell_type": "code",
   "execution_count": 9,
   "metadata": {},
   "outputs": [
    {
     "name": "stdout",
     "output_type": "stream",
     "text": [
      "1154753\n"
     ]
    }
   ],
   "source": [
    "print(np.count_nonzero(true_f !=value))"
   ]
  },
  {
   "cell_type": "markdown",
   "metadata": {},
   "source": [
    "##### len(exclude_all)"
   ]
  },
  {
   "cell_type": "markdown",
   "metadata": {
    "tags": []
   },
   "source": [
    "### Functions needed for analysis"
   ]
  },
  {
   "cell_type": "code",
   "execution_count": 3,
   "metadata": {},
   "outputs": [],
   "source": [
    "# def true_positives(true_labels, predicted_labels):\n",
    "#     mask = true_labels != 656\n",
    "#     return np.sum((true_labels[mask] == predicted_labels[mask]))\n",
    "\n",
    "# def false_negatives(true_labels, predicted_labels):\n",
    "#     mask = true_labels != 656\n",
    "#     return np.sum((predicted_labels[mask] == 656))\n",
    "\n",
    "# def false_positives(true_labels, predicted_labels, full_length=False):\n",
    "#     if full_length:\n",
    "#         # Anywhere predicted_labels predicts something != 19632 and gets it wrong\n",
    "#         mask = predicted_labels != 656\n",
    "#         return np.sum(true_labels[mask] != predicted_labels[mask])\n",
    "#     else:\n",
    "#         # On indices where true_labels == 19632, the number of times predicted_labels != 19632\n",
    "#         mask = true_labels == 656\n",
    "#         return np.sum(predicted_labels[mask] != 656)\n",
    "\n",
    "# def true_negatives(true_labels, predicted_labels):\n",
    "#     mask = true_labels == 656\n",
    "#     return np.sum((true_labels[mask] == predicted_labels[mask]))\n",
    "\n",
    "# # def generate_thresholds(predicted_vals):\n",
    "# #     unique_vals = np.unique(predicted_vals)\n",
    "# #     thresholds = np.sort(unique_vals)[::-1]\n",
    "# #     # Add the maximum value plus one to the beginning of the array\n",
    "# #     thresholds = np.insert(thresholds, 0, thresholds[0] + 0.01)\n",
    "\n",
    "# #     return thresholds\n",
    "# def generate_thresholds(predicted_vals,threshold=0):\n",
    "#     # Get the maximum value in the predicted_vals array\n",
    "#     max_val = np.max(predicted_vals)\n",
    "\n",
    "#     # Generate thresholds at 0.1% increments of the maximum value\n",
    "#     thresholds = np.linspace(threshold, max_val, int(1000/1))\n",
    "#     thresholds = np.append(thresholds, max_val + 0.01)\n",
    "\n",
    "#     return thresholds\n",
    "\n",
    "# def calculate_tpr_fpr(true_labels, predicted_vals, predicted_labels, threshold, full_length=False):\n",
    "#     true_labels = np.ravel(true_labels)\n",
    "#     predicted_vals = np.ravel(predicted_vals)\n",
    "#     predicted_labels = np.ravel(predicted_labels)\n",
    "    \n",
    "#     threshold_indices = np.where(predicted_vals >= threshold)\n",
    "#     # Determine which indices of predicted_vals don't satisfy the threshold criteria\n",
    "#     negative_indices = np.where(predicted_vals < threshold)\n",
    "    \n",
    "#     # Create a new array of predicted labels based on the threshold\n",
    "#     predicted_labels_threshold = np.zeros_like(predicted_labels)\n",
    "#     # Determine which indices of predicted_vals satisfy the threshold criteria\n",
    "#     predicted_labels_threshold[threshold_indices] = predicted_labels[threshold_indices]\n",
    "#     predicted_labels_threshold[negative_indices] = 656\n",
    "\n",
    "#     # Calculate the metrics\n",
    "#     tp = true_positives(true_labels, predicted_labels_threshold)\n",
    "#     fn = false_negatives(true_labels, predicted_labels_threshold)\n",
    "#     fp = false_positives(true_labels, predicted_labels_threshold, full_length=full_length)\n",
    "#     tn = true_negatives(true_labels, predicted_labels_threshold)\n",
    "\n",
    "#     # Calculate TPR and FPR\n",
    "#     tpr = tp / (tp + fn + 1e-10)\n",
    "#     fpr = fp / (fp + tn + 1e-10)\n",
    "\n",
    "#     return tpr, fpr"
   ]
  },
  {
   "cell_type": "code",
   "execution_count": 7,
   "metadata": {},
   "outputs": [],
   "source": [
    "def true_positives(true_labels, predicted_labels, no_hit_label):\n",
    "    mask = true_labels != no_hit_label\n",
    "    return np.sum((true_labels[mask] == predicted_labels[mask]))\n",
    "\n",
    "def false_negatives(true_labels, predicted_labels, no_hit_label):\n",
    "    mask = true_labels != no_hit_label\n",
    "    return np.sum((predicted_labels[mask] == no_hit_label))\n",
    "\n",
    "def false_positives(true_labels, predicted_labels, no_hit_label, full_length=False):\n",
    "    if full_length:\n",
    "        mask = predicted_labels != no_hit_label\n",
    "        return np.sum(true_labels[mask] != predicted_labels[mask])\n",
    "    else:\n",
    "        mask = true_labels == no_hit_label\n",
    "        return np.sum(predicted_labels[mask] != no_hit_label)\n",
    "\n",
    "def true_negatives(true_labels, predicted_labels, no_hit_label):\n",
    "    mask = true_labels == no_hit_label\n",
    "    return np.sum((true_labels[mask] == predicted_labels[mask]))\n",
    "\n",
    "def generate_thresholds(predicted_vals,threshold=0):\n",
    "    # Get the maximum value in the predicted_vals array\n",
    "    max_val = np.max(predicted_vals)\n",
    "\n",
    "    # Generate thresholds at 0.1% increments of the maximum value\n",
    "    thresholds = np.linspace(threshold, max_val, int(1000/1))\n",
    "    thresholds = np.append(thresholds, max_val + 0.01)\n",
    "\n",
    "    return thresholds\n",
    "\n",
    "def calculate_tpr_fpr(true_labels, predicted_vals, predicted_labels, threshold, no_hit_label, full_length=False):\n",
    "    true_labels = np.ravel(true_labels)\n",
    "    predicted_vals = np.ravel(predicted_vals)\n",
    "    predicted_labels = np.ravel(predicted_labels)\n",
    "    \n",
    "    threshold_indices = np.where(predicted_vals >= threshold)\n",
    "    negative_indices = np.where(predicted_vals < threshold)\n",
    "    \n",
    "    predicted_labels_threshold = np.zeros_like(predicted_labels)\n",
    "    predicted_labels_threshold[threshold_indices] = predicted_labels[threshold_indices]\n",
    "    predicted_labels_threshold[negative_indices] = no_hit_label\n",
    "\n",
    "    tp = true_positives(true_labels, predicted_labels_threshold, no_hit_label)\n",
    "    fn = false_negatives(true_labels, predicted_labels_threshold, no_hit_label)\n",
    "    fp = false_positives(true_labels, predicted_labels_threshold, no_hit_label, full_length=full_length)\n",
    "    tn = true_negatives(true_labels, predicted_labels_threshold, no_hit_label)\n",
    "\n",
    "    # tpr = tp / (tp + fn + 1e-10)\n",
    "    mask = true_labels != no_hit_label\n",
    "    tp_denom = np.sum(mask)\n",
    "    tpr = tp/tp_denom\n",
    "    fpr = fp / (fp + tn + 1e-10)\n",
    "    tpr_ci = 1.96*np.sqrt(tpr*(1-tpr)/tp_denom)\n",
    "\n",
    "    return tpr, fpr, tpr_ci"
   ]
  },
  {
   "cell_type": "markdown",
   "metadata": {
    "tags": []
   },
   "source": [
    "### ROC Plot!"
   ]
  },
  {
   "cell_type": "markdown",
   "metadata": {},
   "source": [
    "try thresholds limited to >0.5 and look at clan and non clan"
   ]
  },
  {
   "cell_type": "code",
   "execution_count": 8,
   "metadata": {},
   "outputs": [],
   "source": [
    "thresholds = generate_thresholds(psalm_c_vals,0)"
   ]
  },
  {
   "cell_type": "code",
   "execution_count": 9,
   "metadata": {},
   "outputs": [],
   "source": [
    "roc_values = [calculate_tpr_fpr(true_c, psalm_c_vals, psalm_c_indices,threshold, no_hit_label=656,full_length=False) for threshold in thresholds]"
   ]
  },
  {
   "cell_type": "code",
   "execution_count": 10,
   "metadata": {},
   "outputs": [],
   "source": [
    "thresholds2 = generate_thresholds(hmmer_c_vals)"
   ]
  },
  {
   "cell_type": "code",
   "execution_count": 11,
   "metadata": {},
   "outputs": [],
   "source": [
    "roc_values2 = [calculate_tpr_fpr(true_c, hmmer_c_vals, hmmer_c_indices,threshold, no_hit_label=656,full_length=False) for threshold in thresholds2]"
   ]
  },
  {
   "cell_type": "code",
   "execution_count": 17,
   "metadata": {},
   "outputs": [
    {
     "data": {
      "image/png": "[encoded data removed]",
      "text/plain": [
       "<Figure size 600x600 with 1 Axes>"
      ]
     },
     "metadata": {},
     "output_type": "display_data"
    }
   ],
   "source": [
    "tpr_values, fpr_values, tpr_cis = zip(*roc_values)\n",
    "tpr_values2, fpr_values2, tpr_cis2 = zip(*roc_values2)\n",
    "\n",
    "# Find the index of the value closest to 0.72\n",
    "index = np.abs(thresholds - 0.72).argmin()\n",
    "\n",
    "# Get the corresponding element in fpr_values\n",
    "fpr_lim = fpr_values[index]\n",
    "x = np.linspace(0, 0.05, 1000)\n",
    "\n",
    "# Plot y = x as a dashed line\n",
    "plt.figure(figsize=(6,6))\n",
    "plt.plot(fpr_values, tpr_values, label=\"PSALM\")\n",
    "plt.plot(fpr_values,tpr_cis)\n",
    "plt.plot(fpr_values2, tpr_values2, label=\"HMMER*\")\n",
    "plt.plot(fpr_values2,tpr_cis2)\n",
    "xticks = np.around(np.linspace(0, fpr_lim, 5), decimals=3)\n",
    "plt.xticks(xticks)\n",
    "plt.yticks(np.linspace(0,1.,11))\n",
    "plt.xlim(0,fpr_lim)\n",
    "plt.ylim(0,1)\n",
    "plt.plot(x, x, 'r--')\n",
    "plt.xlabel('False Positive Rate')\n",
    "plt.ylabel('Domain Accuracy')\n",
    "plt.title('80-100: Clan Domain Accuracy vs. FPR')\n",
    "plt.legend(loc=\"center right\")\n",
    "plt.show()"
   ]
  },
  {
   "cell_type": "code",
   "execution_count": 146,
   "metadata": {},
   "outputs": [
    {
     "data": {
      "image/png": "[encoded data removed]",
      "text/plain": [
       "<Figure size 600x600 with 1 Axes>"
      ]
     },
     "metadata": {},
     "output_type": "display_data"
    }
   ],
   "source": [
    "thresholds = generate_thresholds(psalm_f_vals,0)\n",
    "roc_values = [calculate_tpr_fpr(true_f, psalm_f_vals, psalm_f_indices,threshold, no_hit_label=19632,full_length=False) for threshold in thresholds]\n",
    "thresholds2 = generate_thresholds(hmmer_f_vals)\n",
    "roc_values2 = [calculate_tpr_fpr(true_f, hmmer_f_vals, hmmer_f_indices,threshold, no_hit_label=19632,full_length=False) for threshold in thresholds2]\n",
    "tpr_values, fpr_values = zip(*roc_values)\n",
    "tpr_values2, fpr_values2 = zip(*roc_values2)\n",
    "\n",
    "tpr_values, fpr_values = zip(*roc_values)\n",
    "tpr_values2, fpr_values2 = zip(*roc_values2)\n",
    "\n",
    "# Find the index of the value closest to 0.72\n",
    "index = np.abs(thresholds - 0.72).argmin()\n",
    "\n",
    "# Get the corresponding element in fpr_values\n",
    "fpr_lim = fpr_values[index]\n",
    "x = np.linspace(0, 0.05, 1000)\n",
    "\n",
    "# Plot y = x as a dashed line\n",
    "plt.figure(figsize=(6,6))\n",
    "plt.plot(fpr_values, tpr_values, label=\"PSALM\")\n",
    "plt.plot(fpr_values2, tpr_values2, label=\"HMMER*\")\n",
    "xticks = np.around(np.linspace(0, fpr_lim, 5), decimals=3)\n",
    "plt.xticks(xticks)\n",
    "plt.yticks(np.linspace(0,1.,11))\n",
    "plt.xlim(0,fpr_lim)\n",
    "plt.ylim(0,1)\n",
    "plt.plot(x, x, 'r--')\n",
    "plt.xlabel('False Positive Rate')\n",
    "plt.ylabel('Domain Accuracy')\n",
    "plt.title('80-100: Family Domain Accuracy vs. FPR')\n",
    "plt.legend(loc=\"center right\")\n",
    "plt.show()"
   ]
  },
  {
   "cell_type": "code",
   "execution_count": 59,
   "metadata": {},
   "outputs": [],
   "source": [
    "import pickle\n",
    "\n",
    "# Assuming tpr, fpr, tp2, fpr2, thresholds1, thresholds2 are your lists\n",
    "with open('../data/full_length_rocs/fam_40.pkl', 'wb') as f:\n",
    "    pickle.dump([tpr_values, fpr_values, tpr_values2, fpr_values2, thresholds, thresholds2], f)"
   ]
  },
  {
   "cell_type": "code",
   "execution_count": 64,
   "metadata": {},
   "outputs": [
    {
     "name": "stdout",
     "output_type": "stream",
     "text": [
      "Thu Apr 25 10:57:35 2024       \n",
      "+---------------------------------------------------------------------------------------+\n",
      "| NVIDIA-SMI 535.104.12             Driver Version: 535.104.12   CUDA Version: 12.2     |\n",
      "|-----------------------------------------+----------------------+----------------------+\n",
      "| GPU  Name                 Persistence-M | Bus-Id        Disp.A | Volatile Uncorr. ECC |\n",
      "| Fan  Temp   Perf          Pwr:Usage/Cap |         Memory-Usage | GPU-Util  Compute M. |\n",
      "|                                         |                      |               MIG M. |\n",
      "|=========================================+======================+======================|\n",
      "|   0  NVIDIA A40                     On  | 00000000:13:00.0 Off |                    0 |\n",
      "|  0%   35C    P0              71W / 300W |   9806MiB / 46068MiB |      0%      Default |\n",
      "|                                         |                      |                  N/A |\n",
      "+-----------------------------------------+----------------------+----------------------+\n",
      "                                                                                         \n",
      "+---------------------------------------------------------------------------------------+\n",
      "| Processes:                                                                            |\n",
      "|  GPU   GI   CI        PID   Type   Process name                            GPU Memory |\n",
      "|        ID   ID                                                             Usage      |\n",
      "|=======================================================================================|\n",
      "|    0   N/A  N/A   1395623      C   ...rkar/.conda/envs/TreeHMM/bin/python     8096MiB |\n",
      "|    0   N/A  N/A   2430948      C   ...rkar/.conda/envs/TreeHMM/bin/python      728MiB |\n",
      "|    0   N/A  N/A   2471513      C   ...rkar/.conda/envs/TreeHMM/bin/python      958MiB |\n",
      "+---------------------------------------------------------------------------------------+\n"
     ]
    }
   ],
   "source": [
    "!nvidia-smi"
   ]
  },
  {
   "cell_type": "markdown",
   "metadata": {
    "tags": []
   },
   "source": [
    "## Smoothed ROC"
   ]
  },
  {
   "cell_type": "code",
   "execution_count": 100,
   "metadata": {},
   "outputs": [],
   "source": [
    "with open(\"../data/results/no_l1_p4/predictions_esm2_t33_650M_UR50D/roc_results_roc.pkl\",\"rb\") as f:\n",
    "    results = pickle.load(f)"
   ]
  },
  {
   "cell_type": "code",
   "execution_count": 283,
   "metadata": {},
   "outputs": [
    {
     "name": "stderr",
     "output_type": "stream",
     "text": [
      "100%|██████████| 89032/89032 [01:07<00:00, 1316.85it/s]\n"
     ]
    }
   ],
   "source": [
    "for seq in tqdm(results):\n",
    "    # print(seq)\n",
    "    # Load PSALM preds for fam and clan\n",
    "    psalm_f_labels = results[seq]['psalm_f_indices']\n",
    "    psalm_f_vals = results[seq]['psalm_f_vals']\n",
    "    psalm_c_labels = results[seq]['psalm_c_indices']\n",
    "    psalm_c_vals = results[seq]['psalm_c_vals']\n",
    "    \n",
    "    # Iterate over the contiguous chunks of same labels in psalm_c_labels\n",
    "    start_index = 0\n",
    "    for label, group in groupby(psalm_c_labels):\n",
    "        group_len = len(list(group))\n",
    "        # Get the corresponding region from psalm_f_labels\n",
    "        region = psalm_f_labels[start_index : start_index + group_len]\n",
    "        \n",
    "        \n",
    "        # Get label (majority from corresponding fam)\n",
    "        counts = np.bincount(region.ravel())\n",
    "        majority_class = np.argmax(counts)\n",
    "        # majority_class = max(set(region), key=lambda x: np.count_nonzero(region == x))\n",
    "        \n",
    "        \n",
    "        # Find the indices in the region that have the desired label\n",
    "\n",
    "        indices = np.where(region == majority_class)[0]\n",
    "\n",
    "        # Calculate the percentage of the region that have the desired label\n",
    "        percentage = len(indices) / len(region)\n",
    "        # Calculate the average score of the indices that have the desired label\n",
    "        average_score = np.mean(psalm_f_vals[start_index + indices])\n",
    "        # Assign the average score to the corresponding positions in the scores array\n",
    "        \n",
    "        # indices to avoid\n",
    "        if majority_class != 19632:\n",
    "            replace_indices = np.where(region != 19632)[0]\n",
    "            psalm_f_vals[start_index + replace_indices] = average_score #*percentage\n",
    "            psalm_f_labels[start_index + replace_indices] = majority_class\n",
    "        else:\n",
    "            psalm_f_vals[start_index : start_index + group_len] = average_score #*percentage\n",
    "\n",
    "            # Update fam_vector\n",
    "            psalm_f_labels[start_index: start_index + group_len] = majority_class\n",
    "            # Update the start index\n",
    "        start_index += group_len\n",
    "    results[seq]['psalm_f_indices'] = psalm_f_labels\n",
    "    results[seq]['psalm_f_vals'] = psalm_f_vals    "
   ]
  },
  {
   "cell_type": "code",
   "execution_count": 205,
   "metadata": {},
   "outputs": [
    {
     "data": {
      "text/plain": [
       "0.96396035"
      ]
     },
     "execution_count": 205,
     "metadata": {},
     "output_type": "execute_result"
    }
   ],
   "source": [
    "average_score"
   ]
  },
  {
   "cell_type": "code",
   "execution_count": 194,
   "metadata": {},
   "outputs": [
    {
     "data": {
      "text/plain": [
       "[array([656])]"
      ]
     },
     "execution_count": 194,
     "metadata": {},
     "output_type": "execute_result"
    }
   ],
   "source": [
    "list(group)"
   ]
  },
  {
   "cell_type": "code",
   "execution_count": 195,
   "metadata": {},
   "outputs": [
    {
     "data": {
      "text/plain": [
       "[]"
      ]
     },
     "execution_count": 195,
     "metadata": {},
     "output_type": "execute_result"
    }
   ],
   "source": [
    "list(group)"
   ]
  },
  {
   "cell_type": "code",
   "execution_count": 147,
   "metadata": {},
   "outputs": [
    {
     "name": "stderr",
     "output_type": "stream",
     "text": [
      "100%|██████████| 89032/89032 [01:38<00:00, 899.36it/s] \n"
     ]
    }
   ],
   "source": [
    "# for seq in tqdm(results):\n",
    "#     # print(seq)\n",
    "#     # Load PSALM preds for fam and clan\n",
    "#     psalm_f_labels = results[seq]['psalm_f_indices']\n",
    "#     psalm_f_vals = results[seq]['psalm_f_vals']\n",
    "#     # psalm_c_labels = results[seq]['psalm_c_indices']\n",
    "#     # psalm_c_vals = results[seq]['psalm_c_vals']\n",
    "    \n",
    "#     # Domain/Clan calling\n",
    "#     # Use hmmscan_utils to do MSS smoothing of labels\n",
    "#     # Step 1: Identify hit/no hit regions\n",
    "#     no_hit_label = 19632  # IDR value, corresponds to Is, assume Is make up less than half of the sequence\n",
    "#     target_prob = 0.60 # 3/5 in a contiguous region need to be IDRs to call the whole thing an IDR\n",
    "#     length_thresh = 5 #IDR regions don't have to be that long\n",
    "#     psalm_f_labels = np.ravel(psalm_f_labels)\n",
    "#     psalm_f_string_array = np.where(psalm_f_labels == no_hit_label, 'I', 'M')\n",
    "#     psalm_f_string = ''.join(psalm_f_string_array)\n",
    "#     hit_no_hit_string = hu.adjust_state_assignment(psalm_f_string, target_prob, length_thresh)\n",
    "#     psalm_f_labels_copy = np.array([no_hit_label if label == 'I' else psalm_f_labels[i] for i, label in enumerate(hit_no_hit_string)])\n",
    "#     # Initialize the tracking string with 'X' where psalm_f_labels_copy has no_hit_label and 'O' everywhere else\n",
    "#     tracking_string = ['X' if label == no_hit_label else 'O' for label in psalm_f_labels_copy]\n",
    "#     domain_target_prob = 0.80\n",
    "#     domain_length_thresh = 10\n",
    "#     counter = 0\n",
    "#     while 'O' in tracking_string:\n",
    "#         if counter >= 3:\n",
    "#             break\n",
    "#         # Initialize the start index\n",
    "#         start_index = 0\n",
    "#         # Iterate over the contiguous blocks of elements in tracking_string where there is an 'O'\n",
    "#         for key, group in groupby(tracking_string, lambda x: x == 'O'):\n",
    "#             # Convert the group to a list\n",
    "#             group = list(group)\n",
    "#             if key:  # If the block consists of 'O'\n",
    "#                 # Get the corresponding block from psalm_f_labels_copy\n",
    "#                 block = psalm_f_labels_copy[start_index : start_index + len(group)]\n",
    "#                 # Find the majority class in the block\n",
    "#                 majority_class = max(set(block), key=lambda x: np.count_nonzero(block == x))\n",
    "#                 # Create a string representation of the block with the majority class as 'M' and everything else as 'I'\n",
    "#                 block_string = ''.join(['M' if label == majority_class else 'I' for label in block])\n",
    "#                 # Perform adjust_state_assignment on the block string\n",
    "#                 adjusted_block = hu.adjust_state_assignment(block_string, target_prob, length_thresh)\n",
    "#                 # Replace the 'M' labels in the original block in psalm_f_labels_copy with the majority class label\n",
    "#                 # and mark the modified positions in the tracking string with 'X'\n",
    "#                 for i, label in enumerate(adjusted_block):\n",
    "#                     if label == 'M':\n",
    "#                         psalm_f_labels_copy[start_index + i] = majority_class\n",
    "#                         tracking_string[start_index + i] = 'X'\n",
    "#             # Update the start index\n",
    "#             start_index += len(group)\n",
    "#         counter +=1\n",
    "#     # Initialize the scores array with the same length as psalm_f_labels_copy and filled with 0\n",
    "#     scores = np.zeros(len(psalm_f_labels_copy))\n",
    "#     start_index = 0\n",
    "#     # Iterate over the contiguous chunks of same labels in psalm_f_labels_copy\n",
    "#     for label, group in groupby(psalm_f_labels_copy):\n",
    "#         # Convert the group to a list\n",
    "#         group = list(group)\n",
    "#         # Get the corresponding region from psalm_f_labels\n",
    "#         region = psalm_f_labels[start_index : start_index + len(group)]\n",
    "#         # Find the indices in the region that have the desired label\n",
    "#         indices = np.where(region == label)[0]\n",
    "#         # Calculate the percentage of the region that have the desired label\n",
    "#         percentage = len(indices) / len(region)\n",
    "#         # Calculate the average score of the indices that have the desired label\n",
    "#         average_score = np.mean(psalm_f_vals[start_index + indices])\n",
    "#         # Assign the average score to the corresponding positions in the scores array\n",
    "#         scores[start_index : start_index + len(group)] = average_score*percentage\n",
    "#         # Update the start index\n",
    "#         start_index += len(group)\n",
    "#     results[seq]['psalm_f_indices'] = psalm_f_labels_copy\n",
    "#     results[seq]['psalm_f_vals'] = scores"
   ]
  },
  {
   "cell_type": "code",
   "execution_count": 104,
   "metadata": {},
   "outputs": [
    {
     "name": "stderr",
     "output_type": "stream",
     "text": [
      "100%|██████████| 23974/23974 [00:03<00:00, 6101.62it/s]\n"
     ]
    }
   ],
   "source": [
    "import numpy as np\n",
    "\n",
    "# Initialize empty lists for each array\n",
    "psalm_f_vals = []\n",
    "psalm_f_indices = []\n",
    "hmmer_f_vals = []\n",
    "hmmer_f_indices = []\n",
    "true_f = []\n",
    "\n",
    "\n",
    "# Iterate over the results dictionary\n",
    "for sequence_id in tqdm(results):\n",
    "    # Append each sequence's data to the respective list\n",
    "    psalm_f_vals += list(results[sequence_id]['psalm_c_vals'])\n",
    "    psalm_f_indices += list(results[sequence_id]['psalm_c_indices'])\n",
    "    hmmer_f_vals += list(results[sequence_id]['hmmer_c_vals'])\n",
    "    hmmer_f_indices += list(results[sequence_id]['hmmer_c_indices'])\n",
    "    true_f += list(results[sequence_id]['true_c'])\n",
    "\n",
    "# Convert lists to numpy arrays\n",
    "psalm_f_vals = np.array(psalm_f_vals)\n",
    "psalm_f_indices = np.array(psalm_f_indices)\n",
    "hmmer_f_vals = np.array(hmmer_f_vals)\n",
    "hmmer_f_indices = np.array(hmmer_f_indices)\n",
    "true_f = np.array(true_f)"
   ]
  },
  {
   "cell_type": "code",
   "execution_count": null,
   "metadata": {},
   "outputs": [],
   "source": []
  }
 ],
 "metadata": {
  "kernelspec": {
   "display_name": "Python [conda env:protein_annotation_dl-protllm]",
   "language": "python",
   "name": "conda-env-protein_annotation_dl-protllm-py"
  },
  "language_info": {
   "codemirror_mode": {
    "name": "ipython",
    "version": 3
   },
   "file_extension": ".py",
   "mimetype": "text/x-python",
   "name": "python",
   "nbconvert_exporter": "python",
   "pygments_lexer": "ipython3",
   "version": "3.10.0"
  }
 },
 "nbformat": 4,
 "nbformat_minor": 4
}
