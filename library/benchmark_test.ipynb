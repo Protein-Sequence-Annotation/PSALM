{
 "cells": [
  {
   "cell_type": "code",
   "execution_count": 11,
   "metadata": {},
   "outputs": [
    {
     "name": "stdout",
     "output_type": "stream",
     "text": [
      "ID: A0A173WNX1.1/179-193\n",
      "Name: A0A173WNX1.1/179-193\n",
      "Description: A0A173WNX1.1/179-193 [subseq from] A0A173WNX1_9BACE IPT/TIG domain {ECO:0000313|EMBL:CUN40187.1}\n",
      "Number of features: 0\n",
      "Seq('EaVTPRNWVSGNVVI')\n",
      "ID: A0A173WNX1.1/233-248\n",
      "Name: A0A173WNX1.1/233-248\n",
      "Description: A0A173WNX1.1/233-248 [subseq from] A0A173WNX1_9BACE IPT/TIG domain {ECO:0000313|EMBL:CUN40187.1}\n",
      "Number of features: 0\n",
      "Seq('SWKNGEwWTPADWIQN')\n",
      "ID: N1JCS9.1/597-618\n",
      "Name: N1JCS9.1/597-618\n",
      "Description: N1JCS9.1/597-618 [subseq from] N1JCS9_BLUG1 Putative peregrin/putative PHD finger-containing protein 3 {ECO:0000313|EMBL:CCU80379.1}\n",
      "Number of features: 0\n",
      "Seq('CPADWIRENDVITATRDARAFY')\n",
      "ID: H5WN51.1/326-341\n",
      "Name: H5WN51.1/326-341\n",
      "Description: H5WN51.1/326-341 [subseq from] H5WN51_9BURK Histidine kinase {ECO:0000256|ARBA:ARBA00012438}\n",
      "Number of features: 0\n",
      "Seq('QVLTPMGWAPGTNVMA')\n",
      "ID: Q21XJ3.1/106-173\n",
      "Name: Q21XJ3.1/106-173\n",
      "Description: Q21XJ3.1/106-173 [subseq from] Q21XJ3_RHOFT Thiosulphate-binding protein {ECO:0000313|EMBL:ABD69510.1}\n",
      "Number of features: 0\n",
      "Seq('VHKNGGWIPADWQKrlphnsspytstivlvtrqgnpkgikdwddlikpGVSVIT...NYL')\n"
     ]
    }
   ],
   "source": [
    "from Bio import SeqIO\n",
    "te_fasta = \"../data/benchmarking/temp_te.fasta\"\n",
    "tr_fasta = \"../data/benchmarking/temp_tr.fasta\"\n",
    "# read the sequences from the fasta file\n",
    "sequences = SeqIO.parse(te_fasta, \"fasta\")\n",
    "tr_sequences = list(SeqIO.parse(tr_fasta, \"fasta\"))\n",
    "# for each sequence, write it to a new file\n",
    "for seq in sequences:\n",
    "    print(seq)\n",
    "    filename = f\"../data/benchmarking/temp_{seq.id.replace('/', '_')}.fasta\"\n",
    "    with open(filename, \"w+\") as f:\n",
    "        SeqIO.write(tr_sequences, f, \"fasta\")     \n",
    "        SeqIO.write(seq, f, \"fasta\")\n"
   ]
  },
  {
   "cell_type": "code",
   "execution_count": 19,
   "metadata": {},
   "outputs": [
    {
     "data": {
      "text/plain": [
       "[]"
      ]
     },
     "execution_count": 19,
     "metadata": {},
     "output_type": "execute_result"
    }
   ],
   "source": [
    "list(sequences)"
   ]
  },
  {
   "cell_type": "code",
   "execution_count": 8,
   "metadata": {},
   "outputs": [
    {
     "name": "stdout",
     "output_type": "stream",
     "text": [
      "                 seq1                  seq2    pid\n",
      "0    Q6FXS9.1/208-244      Q6CEJ7.1/158-193  33.33\n",
      "1    Q6FXS9.1/208-244      B1N5A8.1/197-231  37.14\n",
      "2    Q6FXS9.1/208-244      Q7M8C0.1/191-222  25.00\n",
      "3    Q6FXS9.1/208-244      P21762.3/158-192  25.71\n",
      "4    Q6FXS9.1/208-244      D6XKT6.1/191-224  35.29\n",
      "..                ...                   ...    ...\n",
      "115  O66779.1/178-205      O83522.1/157-179  39.13\n",
      "116  O66779.1/178-205  A0A173WNX1.1/179-193  20.00\n",
      "117  P0AE08.2/155-182      O83522.1/157-179  60.87\n",
      "118  P0AE08.2/155-182  A0A173WNX1.1/179-193  33.33\n",
      "119  O83522.1/157-179  A0A173WNX1.1/179-193  26.67\n",
      "\n",
      "[120 rows x 3 columns]\n"
     ]
    }
   ],
   "source": [
    "import pandas as pd\n",
    "\n",
    "# Define the file path\n",
    "file_path = \"../data/benchmarking/temp_alipid.txt\"\n",
    "\n",
    "\n",
    "# Load the file into a DataFrame\n",
    "df = pd.read_csv(file_path, sep=\"\\s+\", usecols=[0, 1, 2], names = [\"seq1\",\"seq2\",\"pid\"],header=0)\n",
    "\n",
    "# Print the DataFrame\n",
    "print(df)"
   ]
  },
  {
   "cell_type": "code",
   "execution_count": 13,
   "metadata": {},
   "outputs": [],
   "source": [
    "seq.id = \"A0A173WNX1.1/179-193\""
   ]
  },
  {
   "cell_type": "code",
   "execution_count": 16,
   "metadata": {},
   "outputs": [
    {
     "name": "stdout",
     "output_type": "stream",
     "text": [
      "46.67\n"
     ]
    }
   ],
   "source": [
    "# Assume seq.id is a variable holding the sequence id\n",
    "seq.id = \"A0A173WNX1.1/179-193\"\n",
    "\n",
    "# Subset the DataFrame\n",
    "subset_df = df[(df['seq1'] == seq.id) | (df['seq2'] == seq.id)]\n",
    "\n",
    "# Return the maximum id_percentage\n",
    "max_pid = subset_df['pid'].max()\n",
    "\n",
    "print(max_pid)"
   ]
  },
  {
   "cell_type": "code",
   "execution_count": null,
   "metadata": {},
   "outputs": [],
   "source": []
  }
 ],
 "metadata": {
  "kernelspec": {
   "display_name": "TreeHMM",
   "language": "python",
   "name": "python3"
  },
  "language_info": {
   "codemirror_mode": {
    "name": "ipython",
    "version": 3
   },
   "file_extension": ".py",
   "mimetype": "text/x-python",
   "name": "python",
   "nbconvert_exporter": "python",
   "pygments_lexer": "ipython3",
   "version": "3.10.13"
  }
 },
 "nbformat": 4,
 "nbformat_minor": 2
}
