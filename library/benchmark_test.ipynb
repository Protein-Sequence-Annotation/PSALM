{
 "cells": [
  {
   "cell_type": "code",
   "execution_count": 11,
   "metadata": {},
   "outputs": [
    {
     "name": "stdout",
     "output_type": "stream",
     "text": [
      "ID: A0A173WNX1.1/179-193\n",
      "Name: A0A173WNX1.1/179-193\n",
      "Description: A0A173WNX1.1/179-193 [subseq from] A0A173WNX1_9BACE IPT/TIG domain {ECO:0000313|EMBL:CUN40187.1}\n",
      "Number of features: 0\n",
      "Seq('EaVTPRNWVSGNVVI')\n",
      "ID: A0A173WNX1.1/233-248\n",
      "Name: A0A173WNX1.1/233-248\n",
      "Description: A0A173WNX1.1/233-248 [subseq from] A0A173WNX1_9BACE IPT/TIG domain {ECO:0000313|EMBL:CUN40187.1}\n",
      "Number of features: 0\n",
      "Seq('SWKNGEwWTPADWIQN')\n",
      "ID: N1JCS9.1/597-618\n",
      "Name: N1JCS9.1/597-618\n",
      "Description: N1JCS9.1/597-618 [subseq from] N1JCS9_BLUG1 Putative peregrin/putative PHD finger-containing protein 3 {ECO:0000313|EMBL:CCU80379.1}\n",
      "Number of features: 0\n",
      "Seq('CPADWIRENDVITATRDARAFY')\n",
      "ID: H5WN51.1/326-341\n",
      "Name: H5WN51.1/326-341\n",
      "Description: H5WN51.1/326-341 [subseq from] H5WN51_9BURK Histidine kinase {ECO:0000256|ARBA:ARBA00012438}\n",
      "Number of features: 0\n",
      "Seq('QVLTPMGWAPGTNVMA')\n",
      "ID: Q21XJ3.1/106-173\n",
      "Name: Q21XJ3.1/106-173\n",
      "Description: Q21XJ3.1/106-173 [subseq from] Q21XJ3_RHOFT Thiosulphate-binding protein {ECO:0000313|EMBL:ABD69510.1}\n",
      "Number of features: 0\n",
      "Seq('VHKNGGWIPADWQKrlphnsspytstivlvtrqgnpkgikdwddlikpGVSVIT...NYL')\n"
     ]
    }
   ],
   "source": [
    "from Bio import SeqIO\n",
    "te_fasta = \"../data/benchmarking/temp_te.fasta\"\n",
    "tr_fasta = \"../data/benchmarking/temp_tr.fasta\"\n",
    "# read the sequences from the fasta file\n",
    "sequences = SeqIO.parse(te_fasta, \"fasta\")\n",
    "tr_sequences = list(SeqIO.parse(tr_fasta, \"fasta\"))\n",
    "# for each sequence, write it to a new file\n",
    "for seq in sequences:\n",
    "    print(seq)\n",
    "    filename = f\"../data/benchmarking/temp_{seq.id.replace('/', '_')}.fasta\"\n",
    "    with open(filename, \"w+\") as f:\n",
    "        SeqIO.write(tr_sequences, f, \"fasta\")     \n",
    "        SeqIO.write(seq, f, \"fasta\")\n"
   ]
  },
  {
   "cell_type": "code",
   "execution_count": 19,
   "metadata": {},
   "outputs": [
    {
     "data": {
      "text/plain": [
       "[]"
      ]
     },
     "execution_count": 19,
     "metadata": {},
     "output_type": "execute_result"
    }
   ],
   "source": [
    "list(sequences)"
   ]
  },
  {
   "cell_type": "code",
   "execution_count": 8,
   "metadata": {},
   "outputs": [
    {
     "name": "stdout",
     "output_type": "stream",
     "text": [
      "                 seq1                  seq2    pid\n",
      "0    Q6FXS9.1/208-244      Q6CEJ7.1/158-193  33.33\n",
      "1    Q6FXS9.1/208-244      B1N5A8.1/197-231  37.14\n",
      "2    Q6FXS9.1/208-244      Q7M8C0.1/191-222  25.00\n",
      "3    Q6FXS9.1/208-244      P21762.3/158-192  25.71\n",
      "4    Q6FXS9.1/208-244      D6XKT6.1/191-224  35.29\n",
      "..                ...                   ...    ...\n",
      "115  O66779.1/178-205      O83522.1/157-179  39.13\n",
      "116  O66779.1/178-205  A0A173WNX1.1/179-193  20.00\n",
      "117  P0AE08.2/155-182      O83522.1/157-179  60.87\n",
      "118  P0AE08.2/155-182  A0A173WNX1.1/179-193  33.33\n",
      "119  O83522.1/157-179  A0A173WNX1.1/179-193  26.67\n",
      "\n",
      "[120 rows x 3 columns]\n"
     ]
    }
   ],
   "source": [
    "import pandas as pd\n",
    "\n",
    "# Define the file path\n",
    "file_path = \"../data/benchmarking/temp_alipid.txt\"\n",
    "\n",
    "\n",
    "# Load the file into a DataFrame\n",
    "df = pd.read_csv(file_path, sep=\"\\s+\", usecols=[0, 1, 2], names = [\"seq1\",\"seq2\",\"pid\"],header=0)\n",
    "\n",
    "# Print the DataFrame\n",
    "print(df)"
   ]
  },
  {
   "cell_type": "code",
   "execution_count": 13,
   "metadata": {},
   "outputs": [],
   "source": [
    "seq.id = \"A0A173WNX1.1/179-193\""
   ]
  },
  {
   "cell_type": "code",
   "execution_count": 16,
   "metadata": {},
   "outputs": [
    {
     "name": "stdout",
     "output_type": "stream",
     "text": [
      "46.67\n"
     ]
    }
   ],
   "source": [
    "# Assume seq.id is a variable holding the sequence id\n",
    "seq.id = \"A0A173WNX1.1/179-193\"\n",
    "\n",
    "# Subset the DataFrame\n",
    "subset_df = df[(df['seq1'] == seq.id) | (df['seq2'] == seq.id)]\n",
    "\n",
    "# Return the maximum id_percentage\n",
    "max_pid = subset_df['pid'].max()\n",
    "\n",
    "print(max_pid)"
   ]
  },
  {
   "cell_type": "code",
   "execution_count": 18,
   "metadata": {},
   "outputs": [],
   "source": [
    "import glob\n",
    "import os\n",
    "save_path = \"/n/eddy_lab/Lab/protein_annotation_dl/PSALM/data/benchmarking\"\n",
    "# Remove tmp files from save_path\n",
    "tmp_files = glob.glob(f\"{save_path}/tmp*\")\n",
    "for file in tmp_files:\n",
    "    os.remove(file)"
   ]
  },
  {
   "cell_type": "code",
   "execution_count": 34,
   "metadata": {},
   "outputs": [],
   "source": [
    "import pandas as pd\n",
    "df = pd.read_csv(\"../data/benchmarking/log.csv\",header=None, names=[\"subseq_id\",\"family\",\"pid\"])\n",
    "df['seq_id'] = df['subseq_id'].str.split('/').str[0]\n"
   ]
  },
  {
   "cell_type": "markdown",
   "metadata": {},
   "source": [
    "Subset dataframe to get seq_ids that have no subseq_id with a pid greater than 25"
   ]
  },
  {
   "cell_type": "code",
   "execution_count": 35,
   "metadata": {},
   "outputs": [
    {
     "name": "stdout",
     "output_type": "stream",
     "text": [
      "seq_id\n",
      "A0A010QQ35.1    19.61\n",
      "A0A010RJF2.1    20.16\n",
      "A0A010RQ92.1    24.44\n",
      "A0A011MA56.1    23.22\n",
      "A0A011Q2R1.1    17.69\n",
      "                ...  \n",
      "Z4WUN1.1        22.12\n",
      "Z4WW19.1        24.32\n",
      "Z4YIK0.1        13.58\n",
      "Z9JVF0.1        23.42\n",
      "Z9JWP2.1        21.70\n",
      "Name: pid, Length: 66758, dtype: float64\n"
     ]
    }
   ],
   "source": [
    "grouped_df = df.groupby('seq_id')['pid'].max()\n",
    "filtered_df = grouped_df[grouped_df < 25]\n",
    "print(filtered_df)\n"
   ]
  },
  {
   "cell_type": "code",
   "execution_count": 33,
   "metadata": {},
   "outputs": [
    {
     "data": {
      "text/plain": [
       "<Axes: >"
      ]
     },
     "execution_count": 33,
     "metadata": {},
     "output_type": "execute_result"
    },
    {
     "data": {
      "image/png": "[encoded data removed]",
      "text/plain": [
       "<Figure size 640x480 with 1 Axes>"
      ]
     },
     "metadata": {},
     "output_type": "display_data"
    }
   ],
   "source": [
    "filtered_df.hist(bins=50)\n"
   ]
  },
  {
   "cell_type": "code",
   "execution_count": null,
   "metadata": {},
   "outputs": [],
   "source": []
  }
 ],
 "metadata": {
  "kernelspec": {
   "display_name": "TreeHMM",
   "language": "python",
   "name": "python3"
  },
  "language_info": {
   "codemirror_mode": {
    "name": "ipython",
    "version": 3
   },
   "file_extension": ".py",
   "mimetype": "text/x-python",
   "name": "python",
   "nbconvert_exporter": "python",
   "pygments_lexer": "ipython3",
   "version": "3.10.13"
  }
 },
 "nbformat": 4,
 "nbformat_minor": 2
}
