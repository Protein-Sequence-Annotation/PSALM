{
 "cells": [
  {
   "cell_type": "code",
   "execution_count": 11,
   "metadata": {},
   "outputs": [
    {
     "name": "stdout",
     "output_type": "stream",
     "text": [
      "ID: A0A173WNX1.1/179-193\n",
      "Name: A0A173WNX1.1/179-193\n",
      "Description: A0A173WNX1.1/179-193 [subseq from] A0A173WNX1_9BACE IPT/TIG domain {ECO:0000313|EMBL:CUN40187.1}\n",
      "Number of features: 0\n",
      "Seq('EaVTPRNWVSGNVVI')\n",
      "ID: A0A173WNX1.1/233-248\n",
      "Name: A0A173WNX1.1/233-248\n",
      "Description: A0A173WNX1.1/233-248 [subseq from] A0A173WNX1_9BACE IPT/TIG domain {ECO:0000313|EMBL:CUN40187.1}\n",
      "Number of features: 0\n",
      "Seq('SWKNGEwWTPADWIQN')\n",
      "ID: N1JCS9.1/597-618\n",
      "Name: N1JCS9.1/597-618\n",
      "Description: N1JCS9.1/597-618 [subseq from] N1JCS9_BLUG1 Putative peregrin/putative PHD finger-containing protein 3 {ECO:0000313|EMBL:CCU80379.1}\n",
      "Number of features: 0\n",
      "Seq('CPADWIRENDVITATRDARAFY')\n",
      "ID: H5WN51.1/326-341\n",
      "Name: H5WN51.1/326-341\n",
      "Description: H5WN51.1/326-341 [subseq from] H5WN51_9BURK Histidine kinase {ECO:0000256|ARBA:ARBA00012438}\n",
      "Number of features: 0\n",
      "Seq('QVLTPMGWAPGTNVMA')\n",
      "ID: Q21XJ3.1/106-173\n",
      "Name: Q21XJ3.1/106-173\n",
      "Description: Q21XJ3.1/106-173 [subseq from] Q21XJ3_RHOFT Thiosulphate-binding protein {ECO:0000313|EMBL:ABD69510.1}\n",
      "Number of features: 0\n",
      "Seq('VHKNGGWIPADWQKrlphnsspytstivlvtrqgnpkgikdwddlikpGVSVIT...NYL')\n"
     ]
    }
   ],
   "source": [
    "from Bio import SeqIO\n",
    "te_fasta = \"../data/benchmarking/temp_te.fasta\"\n",
    "tr_fasta = \"../data/benchmarking/temp_tr.fasta\"\n",
    "# read the sequences from the fasta file\n",
    "sequences = SeqIO.parse(te_fasta, \"fasta\")\n",
    "tr_sequences = list(SeqIO.parse(tr_fasta, \"fasta\"))\n",
    "# for each sequence, write it to a new file\n",
    "for seq in sequences:\n",
    "    print(seq)\n",
    "    filename = f\"../data/benchmarking/temp_{seq.id.replace('/', '_')}.fasta\"\n",
    "    with open(filename, \"w+\") as f:\n",
    "        SeqIO.write(tr_sequences, f, \"fasta\")     \n",
    "        SeqIO.write(seq, f, \"fasta\")\n"
   ]
  },
  {
   "cell_type": "code",
   "execution_count": 19,
   "metadata": {},
   "outputs": [
    {
     "data": {
      "text/plain": [
       "[]"
      ]
     },
     "execution_count": 19,
     "metadata": {},
     "output_type": "execute_result"
    }
   ],
   "source": [
    "list(sequences)"
   ]
  },
  {
   "cell_type": "code",
   "execution_count": 8,
   "metadata": {},
   "outputs": [
    {
     "name": "stdout",
     "output_type": "stream",
     "text": [
      "                 seq1                  seq2    pid\n",
      "0    Q6FXS9.1/208-244      Q6CEJ7.1/158-193  33.33\n",
      "1    Q6FXS9.1/208-244      B1N5A8.1/197-231  37.14\n",
      "2    Q6FXS9.1/208-244      Q7M8C0.1/191-222  25.00\n",
      "3    Q6FXS9.1/208-244      P21762.3/158-192  25.71\n",
      "4    Q6FXS9.1/208-244      D6XKT6.1/191-224  35.29\n",
      "..                ...                   ...    ...\n",
      "115  O66779.1/178-205      O83522.1/157-179  39.13\n",
      "116  O66779.1/178-205  A0A173WNX1.1/179-193  20.00\n",
      "117  P0AE08.2/155-182      O83522.1/157-179  60.87\n",
      "118  P0AE08.2/155-182  A0A173WNX1.1/179-193  33.33\n",
      "119  O83522.1/157-179  A0A173WNX1.1/179-193  26.67\n",
      "\n",
      "[120 rows x 3 columns]\n"
     ]
    }
   ],
   "source": [
    "import pandas as pd\n",
    "\n",
    "# Define the file path\n",
    "file_path = \"../data/benchmarking/temp_alipid.txt\"\n",
    "\n",
    "\n",
    "# Load the file into a DataFrame\n",
    "df = pd.read_csv(file_path, sep=\"\\s+\", usecols=[0, 1, 2], names = [\"seq1\",\"seq2\",\"pid\"],header=0)\n",
    "\n",
    "# Print the DataFrame\n",
    "print(df)"
   ]
  },
  {
   "cell_type": "code",
   "execution_count": 13,
   "metadata": {},
   "outputs": [],
   "source": [
    "seq.id = \"A0A173WNX1.1/179-193\""
   ]
  },
  {
   "cell_type": "code",
   "execution_count": 16,
   "metadata": {},
   "outputs": [
    {
     "name": "stdout",
     "output_type": "stream",
     "text": [
      "46.67\n"
     ]
    }
   ],
   "source": [
    "# Assume seq.id is a variable holding the sequence id\n",
    "seq.id = \"A0A173WNX1.1/179-193\"\n",
    "\n",
    "# Subset the DataFrame\n",
    "subset_df = df[(df['seq1'] == seq.id) | (df['seq2'] == seq.id)]\n",
    "\n",
    "# Return the maximum id_percentage\n",
    "max_pid = subset_df['pid'].max()\n",
    "\n",
    "print(max_pid)"
   ]
  },
  {
   "cell_type": "code",
   "execution_count": 18,
   "metadata": {},
   "outputs": [],
   "source": [
    "import glob\n",
    "import os\n",
    "save_path = \"/n/eddy_lab/Lab/protein_annotation_dl/PSALM/data/benchmarking\"\n",
    "# Remove tmp files from save_path\n",
    "tmp_files = glob.glob(f\"{save_path}/tmp*\")\n",
    "for file in tmp_files:\n",
    "    os.remove(file)"
   ]
  },
  {
   "cell_type": "code",
   "execution_count": 44,
   "metadata": {},
   "outputs": [],
   "source": [
    "import pandas as pd\n",
    "df = pd.read_csv(\"../data/benchmarking/log.csv\",header=None, names=[\"subseq_id\",\"family\",\"pid\"])\n",
    "df['seq_id'] = df['subseq_id'].str.split('/').str[0]\n"
   ]
  },
  {
   "cell_type": "markdown",
   "metadata": {},
   "source": [
    "Subset dataframe to get seq_ids that have no subseq_id with a pid greater than 25"
   ]
  },
  {
   "cell_type": "code",
   "execution_count": 37,
   "metadata": {},
   "outputs": [
    {
     "name": "stdout",
     "output_type": "stream",
     "text": [
      "seq_id\n",
      "A0A010QQ35.1    19.61\n",
      "A0A010RJF2.1    20.16\n",
      "A0A010RQ92.1    24.44\n",
      "A0A011MA56.1    23.22\n",
      "A0A011Q2R1.1    17.69\n",
      "                ...  \n",
      "Z4WUN1.1        22.12\n",
      "Z4WW19.1        24.32\n",
      "Z4YIK0.1        13.58\n",
      "Z9JVF0.1        23.42\n",
      "Z9JWP2.1        21.70\n",
      "Name: pid, Length: 66758, dtype: float64\n"
     ]
    }
   ],
   "source": [
    "grouped_df = df.groupby('seq_id')['pid'].max()\n",
    "filtered_df = grouped_df[grouped_df < 25]\n",
    "print(filtered_df)\n"
   ]
  },
  {
   "cell_type": "code",
   "execution_count": 42,
   "metadata": {},
   "outputs": [],
   "source": [
    "# Write all sequence ids to a file\n",
    "filtered_df.to_csv('../data/benchmarking/seq_ids.csv', header=False, sep='\\t')\n"
   ]
  },
  {
   "cell_type": "code",
   "execution_count": 33,
   "metadata": {},
   "outputs": [
    {
     "data": {
      "text/plain": [
       "<Axes: >"
      ]
     },
     "execution_count": 33,
     "metadata": {},
     "output_type": "execute_result"
    },
    {
     "data": {
      "image/png": "[encoded data removed]",
      "text/plain": [
       "<Figure size 640x480 with 1 Axes>"
      ]
     },
     "metadata": {},
     "output_type": "display_data"
    }
   ],
   "source": [
    "filtered_df.hist(bins=50)\n"
   ]
  },
  {
   "cell_type": "markdown",
   "metadata": {},
   "source": [
    "Subset df by domain"
   ]
  },
  {
   "cell_type": "code",
   "execution_count": 45,
   "metadata": {},
   "outputs": [],
   "source": [
    "grouped_df = df.groupby('family')['pid'].max()\n",
    "# filtered_df = grouped_df[grouped_df < 25]\n",
    "# print(filtered_df)"
   ]
  },
  {
   "cell_type": "code",
   "execution_count": 46,
   "metadata": {},
   "outputs": [],
   "source": [
    "# Convert the Series to DataFrame\n",
    "grouped_df = grouped_df.to_frame()\n",
    "\n",
    "# Add a new row\n",
    "grouped_df.loc['IDR'] = [0]\n"
   ]
  },
  {
   "cell_type": "code",
   "execution_count": 6,
   "metadata": {},
   "outputs": [
    {
     "data": {
      "text/plain": [
       "54.41161724327292"
      ]
     },
     "execution_count": 6,
     "metadata": {},
     "output_type": "execute_result"
    }
   ],
   "source": [
    "grouped_df.mean()"
   ]
  },
  {
   "cell_type": "code",
   "execution_count": 48,
   "metadata": {},
   "outputs": [
    {
     "data": {
      "text/plain": [
       "array([[<Axes: title={'center': 'pid'}>]], dtype=object)"
      ]
     },
     "execution_count": 48,
     "metadata": {},
     "output_type": "execute_result"
    },
    {
     "data": {
      "image/png": "[encoded data removed]",
      "text/plain": [
       "<Figure size 640x480 with 1 Axes>"
      ]
     },
     "metadata": {},
     "output_type": "display_data"
    }
   ],
   "source": [
    "grouped_df.hist(bins=50)"
   ]
  },
  {
   "cell_type": "code",
   "execution_count": 49,
   "metadata": {},
   "outputs": [],
   "source": [
    "# Write all sequence ids to a file\n",
    "grouped_df.to_csv('../data/benchmarking/old_test_max_pid.csv', header=True, sep='\\t')"
   ]
  },
  {
   "cell_type": "code",
   "execution_count": 47,
   "metadata": {},
   "outputs": [
    {
     "data": {
      "text/html": [
       "<div>\n",
       "<style scoped>\n",
       "    .dataframe tbody tr th:only-of-type {\n",
       "        vertical-align: middle;\n",
       "    }\n",
       "\n",
       "    .dataframe tbody tr th {\n",
       "        vertical-align: top;\n",
       "    }\n",
       "\n",
       "    .dataframe thead th {\n",
       "        text-align: right;\n",
       "    }\n",
       "</style>\n",
       "<table border=\"1\" class=\"dataframe\">\n",
       "  <thead>\n",
       "    <tr style=\"text-align: right;\">\n",
       "      <th></th>\n",
       "      <th>pid</th>\n",
       "    </tr>\n",
       "    <tr>\n",
       "      <th>family</th>\n",
       "      <th></th>\n",
       "    </tr>\n",
       "  </thead>\n",
       "  <tbody>\n",
       "    <tr>\n",
       "      <th>PF00001.24</th>\n",
       "      <td>92.74</td>\n",
       "    </tr>\n",
       "    <tr>\n",
       "      <th>PF00002.27</th>\n",
       "      <td>100.00</td>\n",
       "    </tr>\n",
       "    <tr>\n",
       "      <th>PF00003.25</th>\n",
       "      <td>99.21</td>\n",
       "    </tr>\n",
       "    <tr>\n",
       "      <th>PF00004.32</th>\n",
       "      <td>100.00</td>\n",
       "    </tr>\n",
       "    <tr>\n",
       "      <th>PF00005.30</th>\n",
       "      <td>99.31</td>\n",
       "    </tr>\n",
       "    <tr>\n",
       "      <th>...</th>\n",
       "      <td>...</td>\n",
       "    </tr>\n",
       "    <tr>\n",
       "      <th>PF20599.1</th>\n",
       "      <td>27.27</td>\n",
       "    </tr>\n",
       "    <tr>\n",
       "      <th>PF20609.1</th>\n",
       "      <td>23.81</td>\n",
       "    </tr>\n",
       "    <tr>\n",
       "      <th>PF20611.1</th>\n",
       "      <td>25.00</td>\n",
       "    </tr>\n",
       "    <tr>\n",
       "      <th>PF20620.1</th>\n",
       "      <td>48.91</td>\n",
       "    </tr>\n",
       "    <tr>\n",
       "      <th>IDR</th>\n",
       "      <td>0.00</td>\n",
       "    </tr>\n",
       "  </tbody>\n",
       "</table>\n",
       "<p>7285 rows × 1 columns</p>\n",
       "</div>"
      ],
      "text/plain": [
       "               pid\n",
       "family            \n",
       "PF00001.24   92.74\n",
       "PF00002.27  100.00\n",
       "PF00003.25   99.21\n",
       "PF00004.32  100.00\n",
       "PF00005.30   99.31\n",
       "...            ...\n",
       "PF20599.1    27.27\n",
       "PF20609.1    23.81\n",
       "PF20611.1    25.00\n",
       "PF20620.1    48.91\n",
       "IDR           0.00\n",
       "\n",
       "[7285 rows x 1 columns]"
      ]
     },
     "execution_count": 47,
     "metadata": {},
     "output_type": "execute_result"
    }
   ],
   "source": [
    "grouped_df"
   ]
  },
  {
   "cell_type": "code",
   "execution_count": 13,
   "metadata": {},
   "outputs": [
    {
     "data": {
      "text/plain": [
       "76.45"
      ]
     },
     "execution_count": 13,
     "metadata": {},
     "output_type": "execute_result"
    }
   ],
   "source": [
    "grouped_df[\"PF06050.16\"]"
   ]
  },
  {
   "cell_type": "code",
   "execution_count": 15,
   "metadata": {},
   "outputs": [],
   "source": [
    "grouped_df = pd.read_csv('../data/benchmarking/old_test_max_pid.csv', sep='\\t', header=0)"
   ]
  },
  {
   "cell_type": "code",
   "execution_count": 37,
   "metadata": {},
   "outputs": [
    {
     "name": "stdout",
     "output_type": "stream",
     "text": [
      "26.23\n"
     ]
    }
   ],
   "source": [
    "print(f\"{grouped_df.loc[grouped_df['family'] == 'PF13160.9', 'pid'].values[0]}\")\n",
    "\n"
   ]
  },
  {
   "cell_type": "code",
   "execution_count": 23,
   "metadata": {},
   "outputs": [],
   "source": [
    "test"
   ]
  },
  {
   "cell_type": "code",
   "execution_count": 32,
   "metadata": {},
   "outputs": [
    {
     "data": {
      "text/plain": [
       "7284"
      ]
     },
     "execution_count": 32,
     "metadata": {},
     "output_type": "execute_result"
    }
   ],
   "source": [
    "len(grouped_df)"
   ]
  },
  {
   "cell_type": "code",
   "execution_count": 38,
   "metadata": {},
   "outputs": [],
   "source": [
    "pid_csv = \"old_test_max_pid.csv\"\n",
    "df = pd.read_csv(f\"../data/benchmarking/{pid_csv}\",header=0, sep='\\t')"
   ]
  },
  {
   "cell_type": "code",
   "execution_count": 40,
   "metadata": {},
   "outputs": [],
   "source": [
    "entry = \"PF20620.1\"\n",
    "label=f\"{entry}: {df.loc[df['family'] == str(entry), 'pid'].values[0]}%\""
   ]
  },
  {
   "cell_type": "code",
   "execution_count": 41,
   "metadata": {},
   "outputs": [
    {
     "data": {
      "text/plain": [
       "'PF20620.1: 48.91%'"
      ]
     },
     "execution_count": 41,
     "metadata": {},
     "output_type": "execute_result"
    }
   ],
   "source": [
    "label"
   ]
  },
  {
   "cell_type": "code",
   "execution_count": null,
   "metadata": {},
   "outputs": [],
   "source": []
  },
  {
   "cell_type": "code",
   "execution_count": null,
   "metadata": {},
   "outputs": [],
   "source": []
  },
  {
   "cell_type": "code",
   "execution_count": 54,
   "metadata": {},
   "outputs": [
    {
     "ename": "AttributeError",
     "evalue": "'DataFrameGroupBy' object has no attribute 'to_frame'",
     "output_type": "error",
     "traceback": [
      "\u001b[0;31m---------------------------------------------------------------------------\u001b[0m",
      "\u001b[0;31mAttributeError\u001b[0m                            Traceback (most recent call last)",
      "Cell \u001b[0;32mIn[54], line 1\u001b[0m\n\u001b[0;32m----> 1\u001b[0m sub_df \u001b[38;5;241m=\u001b[39m \u001b[43mdf\u001b[49m\u001b[38;5;241;43m.\u001b[39;49m\u001b[43mgroupby\u001b[49m\u001b[43m(\u001b[49m\u001b[38;5;124;43m'\u001b[39;49m\u001b[38;5;124;43mseq_id\u001b[39;49m\u001b[38;5;124;43m'\u001b[39;49m\u001b[43m)\u001b[49m\u001b[38;5;241;43m.\u001b[39;49m\u001b[43mto_frame\u001b[49m()\n",
      "File \u001b[0;32m~/.conda/envs/TreeHMM/lib/python3.10/site-packages/pandas/core/groupby/groupby.py:981\u001b[0m, in \u001b[0;36mGroupBy.__getattr__\u001b[0;34m(self, attr)\u001b[0m\n\u001b[1;32m    978\u001b[0m \u001b[38;5;28;01mif\u001b[39;00m attr \u001b[38;5;129;01min\u001b[39;00m \u001b[38;5;28mself\u001b[39m\u001b[38;5;241m.\u001b[39mobj:\n\u001b[1;32m    979\u001b[0m     \u001b[38;5;28;01mreturn\u001b[39;00m \u001b[38;5;28mself\u001b[39m[attr]\n\u001b[0;32m--> 981\u001b[0m \u001b[38;5;28;01mraise\u001b[39;00m \u001b[38;5;167;01mAttributeError\u001b[39;00m(\n\u001b[1;32m    982\u001b[0m     \u001b[38;5;124mf\u001b[39m\u001b[38;5;124m\"\u001b[39m\u001b[38;5;124m'\u001b[39m\u001b[38;5;132;01m{\u001b[39;00m\u001b[38;5;28mtype\u001b[39m(\u001b[38;5;28mself\u001b[39m)\u001b[38;5;241m.\u001b[39m\u001b[38;5;18m__name__\u001b[39m\u001b[38;5;132;01m}\u001b[39;00m\u001b[38;5;124m'\u001b[39m\u001b[38;5;124m object has no attribute \u001b[39m\u001b[38;5;124m'\u001b[39m\u001b[38;5;132;01m{\u001b[39;00mattr\u001b[38;5;132;01m}\u001b[39;00m\u001b[38;5;124m'\u001b[39m\u001b[38;5;124m\"\u001b[39m\n\u001b[1;32m    983\u001b[0m )\n",
      "\u001b[0;31mAttributeError\u001b[0m: 'DataFrameGroupBy' object has no attribute 'to_frame'"
     ]
    }
   ],
   "source": [
    "sub_df = df.groupby('seq_id').to_frame()\n"
   ]
  },
  {
   "cell_type": "code",
   "execution_count": 55,
   "metadata": {},
   "outputs": [
    {
     "data": {
      "text/html": [
       "<div>\n",
       "<style scoped>\n",
       "    .dataframe tbody tr th:only-of-type {\n",
       "        vertical-align: middle;\n",
       "    }\n",
       "\n",
       "    .dataframe tbody tr th {\n",
       "        vertical-align: top;\n",
       "    }\n",
       "\n",
       "    .dataframe thead th {\n",
       "        text-align: right;\n",
       "    }\n",
       "</style>\n",
       "<table border=\"1\" class=\"dataframe\">\n",
       "  <thead>\n",
       "    <tr style=\"text-align: right;\">\n",
       "      <th></th>\n",
       "      <th>subseq_id</th>\n",
       "      <th>family</th>\n",
       "      <th>pid</th>\n",
       "      <th>seq_id</th>\n",
       "    </tr>\n",
       "  </thead>\n",
       "  <tbody>\n",
       "    <tr>\n",
       "      <th>0</th>\n",
       "      <td>A0A0R4IW83.1/127-157</td>\n",
       "      <td>PF00008.30</td>\n",
       "      <td>65.52</td>\n",
       "      <td>A0A0R4IW83.1</td>\n",
       "    </tr>\n",
       "    <tr>\n",
       "      <th>1</th>\n",
       "      <td>A0A0R4IW83.1/241-270</td>\n",
       "      <td>PF00008.30</td>\n",
       "      <td>83.33</td>\n",
       "      <td>A0A0R4IW83.1</td>\n",
       "    </tr>\n",
       "    <tr>\n",
       "      <th>2</th>\n",
       "      <td>A0A0R4IW83.1/365-393</td>\n",
       "      <td>PF00008.30</td>\n",
       "      <td>93.10</td>\n",
       "      <td>A0A0R4IW83.1</td>\n",
       "    </tr>\n",
       "    <tr>\n",
       "      <th>3</th>\n",
       "      <td>A0A0R4IW83.1/403-431</td>\n",
       "      <td>PF00008.30</td>\n",
       "      <td>93.10</td>\n",
       "      <td>A0A0R4IW83.1</td>\n",
       "    </tr>\n",
       "    <tr>\n",
       "      <th>4</th>\n",
       "      <td>A0A212F7S7.1/368-397</td>\n",
       "      <td>PF00008.30</td>\n",
       "      <td>63.33</td>\n",
       "      <td>A0A212F7S7.1</td>\n",
       "    </tr>\n",
       "    <tr>\n",
       "      <th>...</th>\n",
       "      <td>...</td>\n",
       "      <td>...</td>\n",
       "      <td>...</td>\n",
       "      <td>...</td>\n",
       "    </tr>\n",
       "    <tr>\n",
       "      <th>306009</th>\n",
       "      <td>A0A4Q2T2V1.1/39-206</td>\n",
       "      <td>PF20611.1</td>\n",
       "      <td>22.22</td>\n",
       "      <td>A0A4Q2T2V1.1</td>\n",
       "    </tr>\n",
       "    <tr>\n",
       "      <th>306010</th>\n",
       "      <td>A0A5B1M1N1.1/39-182</td>\n",
       "      <td>PF20611.1</td>\n",
       "      <td>25.00</td>\n",
       "      <td>A0A5B1M1N1.1</td>\n",
       "    </tr>\n",
       "    <tr>\n",
       "      <th>306011</th>\n",
       "      <td>Q8P854.1/656-784</td>\n",
       "      <td>PF20620.1</td>\n",
       "      <td>34.88</td>\n",
       "      <td>Q8P854.1</td>\n",
       "    </tr>\n",
       "    <tr>\n",
       "      <th>306012</th>\n",
       "      <td>Q9A5A2.1/659-781</td>\n",
       "      <td>PF20620.1</td>\n",
       "      <td>33.33</td>\n",
       "      <td>Q9A5A2.1</td>\n",
       "    </tr>\n",
       "    <tr>\n",
       "      <th>306013</th>\n",
       "      <td>Q9KBP8.1/610-756</td>\n",
       "      <td>PF20620.1</td>\n",
       "      <td>48.91</td>\n",
       "      <td>Q9KBP8.1</td>\n",
       "    </tr>\n",
       "  </tbody>\n",
       "</table>\n",
       "<p>306014 rows × 4 columns</p>\n",
       "</div>"
      ],
      "text/plain": [
       "                   subseq_id      family    pid        seq_id\n",
       "0       A0A0R4IW83.1/127-157  PF00008.30  65.52  A0A0R4IW83.1\n",
       "1       A0A0R4IW83.1/241-270  PF00008.30  83.33  A0A0R4IW83.1\n",
       "2       A0A0R4IW83.1/365-393  PF00008.30  93.10  A0A0R4IW83.1\n",
       "3       A0A0R4IW83.1/403-431  PF00008.30  93.10  A0A0R4IW83.1\n",
       "4       A0A212F7S7.1/368-397  PF00008.30  63.33  A0A212F7S7.1\n",
       "...                      ...         ...    ...           ...\n",
       "306009   A0A4Q2T2V1.1/39-206   PF20611.1  22.22  A0A4Q2T2V1.1\n",
       "306010   A0A5B1M1N1.1/39-182   PF20611.1  25.00  A0A5B1M1N1.1\n",
       "306011      Q8P854.1/656-784   PF20620.1  34.88      Q8P854.1\n",
       "306012      Q9A5A2.1/659-781   PF20620.1  33.33      Q9A5A2.1\n",
       "306013      Q9KBP8.1/610-756   PF20620.1  48.91      Q9KBP8.1\n",
       "\n",
       "[306014 rows x 4 columns]"
      ]
     },
     "execution_count": 55,
     "metadata": {},
     "output_type": "execute_result"
    }
   ],
   "source": [
    "df"
   ]
  },
  {
   "cell_type": "code",
   "execution_count": 58,
   "metadata": {},
   "outputs": [],
   "source": [
    "# Assuming df is your DataFrame\n",
    "grouped = df.groupby(['seq_id', 'family'])['pid'].max().reset_index()\n",
    "\n",
    "result = {\n",
    "    name: group[['family', 'pid']].set_index('family')['pid'].to_dict()\n",
    "    for name, group in grouped.groupby('seq_id')\n",
    "}\n"
   ]
  },
  {
   "cell_type": "code",
   "execution_count": 65,
   "metadata": {},
   "outputs": [],
   "source": [
    "# Iterate over the dictionary\n",
    "for seq_id in result.keys():\n",
    "    # Add the family, pid pair to the dictionary\n",
    "    result[seq_id][\"IDR\"] = 0.0\n"
   ]
  },
  {
   "cell_type": "code",
   "execution_count": 67,
   "metadata": {},
   "outputs": [],
   "source": [
    "import pickle\n",
    "\n",
    "with open('../data/benchmarking/old_test_pids.pkl', 'wb') as f:\n",
    "    pickle.dump(result, f)\n"
   ]
  },
  {
   "cell_type": "code",
   "execution_count": 66,
   "metadata": {},
   "outputs": [
    {
     "data": {
      "text/plain": [
       "{'PF01833.27': 31.43, 'PF16405.8': 19.72, 'IDR': 0.0}"
      ]
     },
     "execution_count": 66,
     "metadata": {},
     "output_type": "execute_result"
    }
   ],
   "source": [
    "result['A0A173WNX1.1']"
   ]
  },
  {
   "cell_type": "code",
   "execution_count": null,
   "metadata": {},
   "outputs": [],
   "source": []
  }
 ],
 "metadata": {
  "kernelspec": {
   "display_name": "TreeHMM",
   "language": "python",
   "name": "python3"
  },
  "language_info": {
   "codemirror_mode": {
    "name": "ipython",
    "version": 3
   },
   "file_extension": ".py",
   "mimetype": "text/x-python",
   "name": "python",
   "nbconvert_exporter": "python",
   "pygments_lexer": "ipython3",
   "version": "3.10.13"
  }
 },
 "nbformat": 4,
 "nbformat_minor": 2
}
