{
 "cells": [
  {
   "cell_type": "markdown",
   "metadata": {},
   "source": [
    "# Format Data from Train/Test Split"
   ]
  },
  {
   "cell_type": "markdown",
   "metadata": {},
   "source": [
    "## Retrieve Full Sequences"
   ]
  },
  {
   "cell_type": "markdown",
   "metadata": {},
   "source": [
    "ID files are in the format `{train/test}_ids.txt`. Load the ID files and strip anything after and including the \"/\" on each line."
   ]
  },
  {
   "cell_type": "code",
   "execution_count": 4,
   "metadata": {},
   "outputs": [],
   "source": [
    "def format_data(data_dir, file):\n",
    "    seq_list = []\n",
    "    with open(data_dir + \"/\" + file, \"r\") as f:\n",
    "        file_stem = file.split(\".\")[0]\n",
    "        for line in f:\n",
    "            seq_list.append(line)\n",
    "    # eliminate duplicates from seq_list\n",
    "    print(len(seq_list))\n",
    "    seq_list = list(set(seq_list))\n",
    "    print(len(seq_list))\n",
    "    # write to file\n",
    "    with open(data_dir + f\"/{file_stem}_unique.txt\", \"w\") as output_file:\n",
    "        for seq in seq_list:\n",
    "            output_file.write(seq)\n"
   ]
  },
  {
   "cell_type": "code",
   "execution_count": 4,
   "metadata": {},
   "outputs": [
    {
     "name": "stdout",
     "output_type": "stream",
     "text": [
      "557150\n",
      "521296\n"
     ]
    }
   ],
   "source": [
    "data_dir = \"../data\"\n",
    "file = \"train_ids.txt\"\n",
    "\n",
    "format_data(data_dir, file)"
   ]
  },
  {
   "cell_type": "markdown",
   "metadata": {},
   "source": [
    "~36k sequences in train had more than one domain and were thus represented more than once"
   ]
  },
  {
   "cell_type": "code",
   "execution_count": 5,
   "metadata": {},
   "outputs": [
    {
     "name": "stdout",
     "output_type": "stream",
     "text": [
      "187258\n",
      "180997\n"
     ]
    }
   ],
   "source": [
    "data_dir = \"../data\"\n",
    "file = \"test_ids.txt\"\n",
    "\n",
    "format_data(data_dir, file)"
   ]
  },
  {
   "cell_type": "markdown",
   "metadata": {},
   "source": [
    "Since originally split train/test on domains, there may be some proteins that have domains in both train and test. These sequences should be removed from test."
   ]
  },
  {
   "cell_type": "code",
   "execution_count": 6,
   "metadata": {},
   "outputs": [],
   "source": [
    "with open('../data/train_ids_unique.txt', 'r') as train_file, open('../data/test_ids_unique.txt', 'r') as test_file:\n",
    "    train_sequences = set(line.strip() for line in train_file)\n",
    "    test_sequences = set(line.strip() for line in test_file)\n",
    "\n",
    "# Find sequence names that are in both files\n",
    "common_sequences = train_sequences & test_sequences\n",
    "\n",
    "# remove common sequences from test_ids_unique.txt \n",
    "with open('../data/test_ids_unique.txt', 'r') as test_file, open('../data/test_ids_unique_no_common.txt', 'w') as test_file_no_common:\n",
    "    for line in test_file:\n",
    "        if line.strip() not in common_sequences:\n",
    "            test_file_no_common.write(line)"
   ]
  },
  {
   "cell_type": "markdown",
   "metadata": {},
   "source": [
    "Use `esl-sfetch` to retrieve the full sequences from UniProt using the `{train/test}_ids.txt` seqfile. We use the UniProt release from April, 2022"
   ]
  },
  {
   "cell_type": "code",
   "execution_count": 9,
   "metadata": {
    "vscode": {
     "languageId": "shellscript"
    }
   },
   "outputs": [
    {
     "name": "stdout",
     "output_type": "stream",
     "text": [
      "Submitted batch job 20744256\n"
     ]
    }
   ],
   "source": [
    "!sbatch ../bash_scripts/fetch_seqs.sh"
   ]
  },
  {
   "cell_type": "markdown",
   "metadata": {},
   "source": [
    "Retrieved sequences are in the format `{train/test}_ids_full.fasta`"
   ]
  },
  {
   "cell_type": "markdown",
   "metadata": {},
   "source": [
    "## Split Data"
   ]
  },
  {
   "cell_type": "code",
   "execution_count": 10,
   "metadata": {},
   "outputs": [],
   "source": [
    "import sys\n",
    "sys.path.insert(0, '../library')\n",
    "import hmmscan_utils as utils\n",
    "\n",
    "data_dir = \"../data\"\n",
    "fasta_file = \"test_ids_full.fasta\"\n",
    "num_jobs = 50\n",
    "\n",
    "utils.split_fasta_file(fasta_file, data_dir, num_jobs)"
   ]
  },
  {
   "cell_type": "markdown",
   "metadata": {},
   "source": [
    "Split files will be named `split_{i}_train_ids_full.fasta`"
   ]
  },
  {
   "cell_type": "markdown",
   "metadata": {},
   "source": [
    "## HMM Scan the split FASTA files"
   ]
  },
  {
   "cell_type": "code",
   "execution_count": 11,
   "metadata": {
    "vscode": {
     "languageId": "shellscript"
    }
   },
   "outputs": [
    {
     "name": "stdout",
     "output_type": "stream",
     "text": [
      "Submitted batch job 20747024\n"
     ]
    }
   ],
   "source": [
    "data_dir_in=\"../data\"\n",
    "data_dir_out=\"../data\"\n",
    "fasta_file=\"test_ids_full.fasta\"\n",
    "!sbatch --array=1-$num_jobs ../bash_scripts/hmmscan.sh $data_dir_in $data_dir_out $fasta_file"
   ]
  },
  {
   "cell_type": "markdown",
   "metadata": {},
   "source": [
    "## The above splitting for test has to be revised after the sfetch (which may pull in domains that have >25% similarity)"
   ]
  },
  {
   "cell_type": "markdown",
   "metadata": {},
   "source": [
    "Benchmarking was performed via benchmarking.py and benchmark_test.ipynb"
   ]
  },
  {
   "cell_type": "code",
   "execution_count": 1,
   "metadata": {},
   "outputs": [],
   "source": [
    "import sys\n",
    "sys.path.insert(0, '../library')\n",
    "import hmmscan_utils as utils\n",
    "\n",
    "data_dir = \"../data/test_fasta\"\n",
    "fasta_file = \"test_ids_full.fasta\"\n",
    "num_jobs = 50\n",
    "\n",
    "utils.split_fasta_file(fasta_file, data_dir, num_jobs)"
   ]
  },
  {
   "cell_type": "code",
   "execution_count": 3,
   "metadata": {
    "vscode": {
     "languageId": "shellscript"
    }
   },
   "outputs": [
    {
     "name": "stdout",
     "output_type": "stream",
     "text": [
      "Submitted batch job 23081348\n"
     ]
    }
   ],
   "source": [
    "data_dir_in=\"../data/test_fasta\"\n",
    "data_dir_out=\"../data/test_scan\"\n",
    "fasta_file=\"test_ids_full.fasta\"\n",
    "!sbatch --array=1-$num_jobs ../bash_scripts/hmmscan.sh $data_dir_in $data_dir_out $fasta_file"
   ]
  },
  {
   "cell_type": "code",
   "execution_count": null,
   "metadata": {
    "vscode": {
     "languageId": "shellscript"
    }
   },
   "outputs": [],
   "source": []
  }
 ],
 "metadata": {
  "kernelspec": {
   "display_name": "TreeHMM",
   "language": "python",
   "name": "python3"
  },
  "language_info": {
   "codemirror_mode": {
    "name": "ipython",
    "version": 3
   },
   "file_extension": ".py",
   "mimetype": "text/x-python",
   "name": "python",
   "nbconvert_exporter": "python",
   "pygments_lexer": "ipython3",
   "version": "3.10.13"
  }
 },
 "nbformat": 4,
 "nbformat_minor": 2
}
