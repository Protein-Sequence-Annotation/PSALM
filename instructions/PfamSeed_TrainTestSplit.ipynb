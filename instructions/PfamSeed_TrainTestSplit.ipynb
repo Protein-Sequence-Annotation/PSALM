{
 "cells": [
  {
   "cell_type": "markdown",
   "metadata": {},
   "source": [
    "Retrieve full sequences (not just specified domains) of Pfam-A.seed sequences from UniProt"
   ]
  },
  {
   "cell_type": "markdown",
   "metadata": {},
   "source": [
    "Step 1: Get the IDs of the Pfam sequences in searchable format"
   ]
  },
  {
   "cell_type": "code",
   "execution_count": 9,
   "metadata": {},
   "outputs": [],
   "source": [
    "from Bio import SeqIO\n",
    "\n",
    "seq_ids = []\n",
    "with open(\"../data/processing/Pfam_A.seed.fasta\", \"r\") as fasta_file:\n",
    "    for seq_record in SeqIO.parse(fasta_file, \"fasta\"):\n",
    "        first_element = seq_record.description.split()[1]\n",
    "        seq_ids.append(first_element)\n",
    "seq_ids = list(set(seq_ids))\n",
    "with open(\"../data/train_test_splitting/Pfam_A.seed.ids.txt\", \"w\") as output_file:\n",
    "    for first_element in seq_ids:\n",
    "        output_file.write(first_element + \"\\n\")\n"
   ]
  },
  {
   "cell_type": "markdown",
   "metadata": {},
   "source": [
    "Step 2: Use the Easel suite of tools to retrieve sequences from UniProt using the IDs"
   ]
  },
  {
   "cell_type": "code",
   "execution_count": 7,
   "metadata": {
    "vscode": {
     "languageId": "shellscript"
    }
   },
   "outputs": [
    {
     "name": "stdout",
     "output_type": "stream",
     "text": [
      "/net/holy-nfsisilon/ifs/rc_labs/eddy_lab/Lab/protein_annotation_dl/PSALM/instructions\n"
     ]
    }
   ],
   "source": [
    "!sbatch ../bash_scripts/fetch_seqs.sh"
   ]
  },
  {
   "cell_type": "code",
   "execution_count": null,
   "metadata": {
    "vscode": {
     "languageId": "shellscript"
    }
   },
   "outputs": [],
   "source": []
  }
 ],
 "metadata": {
  "kernelspec": {
   "display_name": "TreeHMM",
   "language": "python",
   "name": "python3"
  },
  "language_info": {
   "codemirror_mode": {
    "name": "ipython",
    "version": 3
   },
   "file_extension": ".py",
   "mimetype": "text/x-python",
   "name": "python",
   "nbconvert_exporter": "python",
   "pygments_lexer": "ipython3",
   "version": "3.10.13"
  }
 },
 "nbformat": 4,
 "nbformat_minor": 2
}
