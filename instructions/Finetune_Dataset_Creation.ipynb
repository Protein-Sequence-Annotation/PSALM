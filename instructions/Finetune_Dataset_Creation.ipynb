{
 "cells": [
  {
   "cell_type": "markdown",
   "metadata": {},
   "source": [
    "## Create Examples with Real Domains + Shuffled sections"
   ]
  },
  {
   "cell_type": "code",
   "execution_count": 5,
   "metadata": {},
   "outputs": [
    {
     "name": "stderr",
     "output_type": "stream",
     "text": [
      "100%|██████████| 50/50 [26:30<00:00, 31.81s/it]\n"
     ]
    }
   ],
   "source": [
    "from Bio import SeqIO\n",
    "from Bio.Seq import Seq\n",
    "import os\n",
    "import glob\n",
    "import pickle\n",
    "import random\n",
    "from tqdm import tqdm\n",
    "import sys\n",
    "# sys.path.insert(0, '../library')\n",
    "import hmmscan_utils as hu\n",
    "\n",
    "random.seed(100)\n",
    "# Load maps\n",
    "with open(\"../data/maps.pkl\", \"rb\") as f:\n",
    "    maps = pickle.load(f)\n",
    "\n",
    "# Directory containing the fasta files\n",
    "pid = 40\n",
    "dir_path = f\"../data/test_fasta_{pid}\"\n",
    "out_path = f\"../data/test_fasta_{pid}_shuffled\"\n",
    "\n",
    "# Iterate over each fasta file in the directory\n",
    "for fasta_file in tqdm(glob.glob(os.path.join(dir_path, 'split_*_test_ids_full.fasta'))):\n",
    "    # Get the corresponding scan\n",
    "    file_suffix = fasta_file.split(\"/\")[-1] \n",
    "    hmmscan_dict = hu.parse_hmmscan_results(f\"../data/test_scan_{pid}/{file_suffix}_scan.txt\")\n",
    "\n",
    "    # Use BioPython to load the fasta file\n",
    "    sequences = list(SeqIO.parse(fasta_file, \"fasta\"))\n",
    "\n",
    "    for seq in sequences:\n",
    "        # print(seq.id)\n",
    "        # Get clan_vector\n",
    "        try:\n",
    "            _, clan_vector = hu.generate_domain_position_list(hmmscan_dict, seq.id, maps)\n",
    "        except:\n",
    "            # print(f\"Error with {seq.id}\")\n",
    "            continue\n",
    "        # find the indices where the clan vector is 656\n",
    "        indices = [i for i, x in enumerate(clan_vector) if x == 656]\n",
    "\n",
    "        # If there are no clan 656 domains, skip\n",
    "        if len(indices) == 0:\n",
    "            continue\n",
    "\n",
    "        # Shuffle seq.seq only where clan 656 is present\n",
    "        sequence = list(seq.seq)\n",
    "        values = [sequence[i] for i in indices]\n",
    "        random.shuffle(values)\n",
    "        for i, index in enumerate(indices):\n",
    "            sequence[index] = values[i]\n",
    "        seq.seq = Seq(\"\".join(sequence))\n",
    "    \n",
    "    # Write the shuffled sequences to a new fasta file\n",
    "    with open(f\"{out_path}/{file_suffix}\", \"w\") as f:\n",
    "        SeqIO.write(sequences, f, \"fasta\")\n"
   ]
  },
  {
   "cell_type": "code",
   "execution_count": null,
   "metadata": {},
   "outputs": [],
   "source": []
  }
 ],
 "metadata": {
  "kernelspec": {
   "display_name": "Python 3",
   "language": "python",
   "name": "python3"
  },
  "language_info": {
   "codemirror_mode": {
    "name": "ipython",
    "version": 3
   },
   "file_extension": ".py",
   "mimetype": "text/x-python",
   "name": "python",
   "nbconvert_exporter": "python",
   "pygments_lexer": "ipython3",
   "version": "3.10.0"
  }
 },
 "nbformat": 4,
 "nbformat_minor": 4
}
