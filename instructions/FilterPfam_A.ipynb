{
 "cells": [
  {
   "cell_type": "markdown",
   "metadata": {},
   "source": [
    "# Filter Pfam-A.seed"
   ]
  },
  {
   "cell_type": "markdown",
   "metadata": {},
   "source": [
    "## Convert Pfam-A.seed (stockholm) to FASTA"
   ]
  },
  {
   "cell_type": "code",
   "execution_count": null,
   "metadata": {
    "vscode": {
     "languageId": "shellscript"
    }
   },
   "outputs": [],
   "source": [
    "module load intel/23.2.0-fasrc01 openmpi/4.1.5-fasrc03\n",
    "data_dir=\"data\"\n",
    "fasta_file=\"Pfam_A.seed.fasta\"\n",
    "# Use esl-reformat to turn the Pfam-A.seed (stockholm format) into fasta format\n",
    "/n/eddy_lab/software/bin/esl-reformat -o ${data_dir}/${fasta_file} fasta /n/eddy_lab/data/pfam-35.0/Pfam-A.seed"
   ]
  },
  {
   "cell_type": "markdown",
   "metadata": {},
   "source": [
    "## Split Pfam-A.seed.fasta into smaller FASTA files"
   ]
  },
  {
   "cell_type": "code",
   "execution_count": null,
   "metadata": {},
   "outputs": [],
   "source": [
    "import sys\n",
    "sys.path.insert(0, '../library')\n",
    "import hmmscan_utils as utils\n",
    "\n",
    "data_dir = \"data\"\n",
    "fasta_file = \"Pfam_A.seed.fasta\"\n",
    "num_jobs = 50\n",
    "\n",
    "utils.split_fasta_file(fasta_file, data_dir, num_jobs)"
   ]
  },
  {
   "cell_type": "markdown",
   "metadata": {},
   "source": [
    "Split files will be named `split_{i}_Pfam_A.seed.fasta`"
   ]
  },
  {
   "cell_type": "markdown",
   "metadata": {},
   "source": [
    "## HMM Scan the split FASTA files"
   ]
  },
  {
   "cell_type": "code",
   "execution_count": null,
   "metadata": {
    "vscode": {
     "languageId": "shellscript"
    }
   },
   "outputs": [],
   "source": [
    "data_dir=\"data\"\n",
    "fasta_file=\"Pfam_A.seed.fasta\"\n",
    "sbatch --array=1-$num_jobs ./bash_scripts/hmmscan.sh $data_dir $fasta_file"
   ]
  },
  {
   "cell_type": "markdown",
   "metadata": {},
   "source": [
    "Output will be in the format `split_{i}_Pfam_A.seed.fasta_scan.txt`\n",
    "\n",
    "Scans are performed with e-value inclusion threshold of 0.01"
   ]
  },
  {
   "cell_type": "markdown",
   "metadata": {},
   "source": [
    "## Find sequences not that did not have any hmmscan hits"
   ]
  },
  {
   "cell_type": "code",
   "execution_count": 31,
   "metadata": {},
   "outputs": [
    {
     "name": "stderr",
     "output_type": "stream",
     "text": [
      "100%|██████████| 50/50 [06:52<00:00,  8.24s/it]\n"
     ]
    }
   ],
   "source": [
    "import sys\n",
    "sys.path.insert(0, '../library')\n",
    "import hmmscan_utils as utils\n",
    "from tqdm import tqdm\n",
    "\n",
    "data_dir = \"data\"\n",
    "all_missing_seqs = []\n",
    "for i in tqdm(range(1,51)):\n",
    "    fasta_file = f\"{data_dir}/split_{i}_Pfam_A.seed.fasta\"\n",
    "    hmm_scan = f\"{data_dir}/split_{i}_Pfam_A.seed.fasta_scan.txt\"\n",
    "    missing_seqs = utils.find_missing_sequences(hmm_scan,fasta_file)\n",
    "    all_missing_seqs += missing_seqs\n",
    "\n",
    "with open(\"Pfam_A.seed.no_hits.txt\", \"w\") as file:\n",
    "    for sequence in all_missing_seqs:\n",
    "        file.write(sequence + \"\\n\")"
   ]
  },
  {
   "cell_type": "markdown",
   "metadata": {},
   "source": [
    "## Clean up split files"
   ]
  },
  {
   "cell_type": "code",
   "execution_count": null,
   "metadata": {
    "vscode": {
     "languageId": "shellscript"
    }
   },
   "outputs": [],
   "source": [
    "data_dir=\"data\"\n",
    "rm ${data}/split*\n"
   ]
  }
 ],
 "metadata": {
  "kernelspec": {
   "display_name": "TreeHMM",
   "language": "python",
   "name": "python3"
  },
  "language_info": {
   "codemirror_mode": {
    "name": "ipython",
    "version": 3
   },
   "file_extension": ".py",
   "mimetype": "text/x-python",
   "name": "python",
   "nbconvert_exporter": "python",
   "pygments_lexer": "ipython3",
   "version": "3.10.13"
  }
 },
 "nbformat": 4,
 "nbformat_minor": 2
}
