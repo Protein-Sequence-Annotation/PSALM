{
 "cells": [
  {
   "cell_type": "markdown",
   "metadata": {},
   "source": [
    "# Instructions For Training, Testing and Visualizing Results with PSALM"
   ]
  },
  {
   "cell_type": "markdown",
   "metadata": {},
   "source": [
    "## Requirements"
   ]
  },
  {
   "cell_type": "markdown",
   "metadata": {},
   "source": [
    "1. Requirements for visualization are listed in `requirements.yml` (the complete list for training/test is listed in `full_requirements.yml`)\n",
    "2. HMMER can be downloaded from [hmmer.org](http://hmmer.org/), which also contains a link to the documentation/user manual.\n",
    "3. ESM-2 can be installed from the [ESM GitHub repository](https://github.com/facebookresearch/esm?tab=readme-ov-file#repostart), which contains the documentation and installation guide.\n",
    "4. UniProt release March 2021 can be downloaded from the [UniProt ftp site](https://ftp.uniprot.org/pub/databases/uniprot/previous_major_releases/release-2021_03/knowledgebase/knowledgebase2021_03.tar.gz)\n",
    "5. The Pfam-35.0 HMM database can be downloaded from the [Pfam ftp site](https://ftp.ebi.ac.uk/pub/databases/Pfam/releases/Pfam35.0/Pfam-A.hmm.gz)\n",
    "6. The models (each one larger than the supplemental file limit) and rebuilt profile HMM database can be accessed at [this anonymized link](https://osf.io/47xcz/?view_only=85224bec9efa42b69eb0d0de10a990b9). These PyTorch state dictionary files should be downloaded into the `models` folder."
   ]
  },
  {
   "cell_type": "markdown",
   "metadata": {},
   "source": [
    "## Dataset Creation (from scratch)"
   ]
  },
  {
   "cell_type": "markdown",
   "metadata": {},
   "source": [
    "### Training/Test Sequences"
   ]
  },
  {
   "cell_type": "markdown",
   "metadata": {},
   "source": [
    "1. IDs of every sequence used in training are stored in `train_ids.txt` file located in the datasets folder and IDs of every sequence in each test set (max pid in 0-20, 20-40, 40-60, 60-80, and 80-100) are stored in `test_ids_<bin>.txt`"
   ]
  },
  {
   "cell_type": "markdown",
   "metadata": {},
   "source": [
    "2. Use the `esl-sfetch` tool from esl mini apps in the HMMER tool kit to obtain the full length sequences for training/test sequence IDs. UniProtKB release March 2021 should be used as the `<database>`."
   ]
  },
  {
   "cell_type": "markdown",
   "metadata": {
    "vscode": {
     "languageId": "shellscript"
    }
   },
   "source": [
    "`esl-sfetch -o <output_file> -f <database> <seq_ids>`"
   ]
  },
  {
   "cell_type": "markdown",
   "metadata": {},
   "source": [
    "3. Split the training/test (subset) sequences into the desired number of shards (default is 50 shards) using `split_fasta_file()` from `hmmscan_utils.py`"
   ]
  },
  {
   "cell_type": "markdown",
   "metadata": {},
   "source": [
    "`split_fasta_file(<whole_fasta_file>, <out_dir>, <num_shards>)` will  split `<whole_fasta_file>` into `<num_shards>` non-overlapping fasta files in `<out_dir>`"
   ]
  },
  {
   "cell_type": "markdown",
   "metadata": {},
   "source": [
    "### Training/Test Ground Truth Annotations"
   ]
  },
  {
   "cell_type": "markdown",
   "metadata": {},
   "source": [
    "Ground truth annotations are determined via the `hmmscan` tool from HMMER. The fasta files post sharding will be named `split_{1-num_shards}_{train/test}_ids_full.fasta`, shortened as `<shard_fasta>` in the following:\n",
    "\n",
    "`hmmscan --acc -o <scan_data_dir>/<shard_fasta>_scan.txt <hmm_db> <fasta_dir>/<shard_fasta>`"
   ]
  },
  {
   "cell_type": "markdown",
   "metadata": {},
   "source": [
    "### Fine-tune/Evaluation Datasets"
   ]
  },
  {
   "cell_type": "markdown",
   "metadata": {},
   "source": [
    "Create the sequence data required for fine-tuning/evaluation (shuffled unannotated regions) using `create_ft_sequences()` from `hmmscan_utils.py`\n",
    "\n",
    "`create_ft_sequences(<input_fasta_file_dir>,<output_fasta_file_dir>,<path_to_maps.pkl>)` will create the shuffled sequences for all fasta shards in `<input_fasta_file_dir>` in `<output_fasta_file_dir>`. `<maps.pkl>` can be found in the `info_files` folder."
   ]
  },
  {
   "cell_type": "markdown",
   "metadata": {},
   "source": [
    "### Formatting/Saving Notes"
   ]
  },
  {
   "cell_type": "markdown",
   "metadata": {},
   "source": [
    "1. Train sequence shards should be saved in the folder titled `train_fasta`. Test sequence shards should be saved in folders titled `test_fasta_<bin>`. Fine-tuning sequences should be saved in the folder titled `train_fasta_shuffled` and the test sequence shards suitable for evaluation should be saved in fodlers titled `test_fasta_<bin>_shuffled`.\n",
    "2. Train hmmscan shards should be saved in the folder titled `train_scan`. Test hmmscan shards should be saved in folders titled `test_scan_<bin>`"
   ]
  },
  {
   "cell_type": "markdown",
   "metadata": {},
   "source": [
    "### Training"
   ]
  },
  {
   "cell_type": "markdown",
   "metadata": {},
   "source": [
    "The training script can be run with the following command:\n",
    "`python psalm_train.py -o <name_of_results_directory>`\n",
    "\n",
    "For additional options, run:\n",
    "`python psalm_train.py -h`"
   ]
  },
  {
   "cell_type": "markdown",
   "metadata": {},
   "source": [
    "### Testing"
   ]
  },
  {
   "cell_type": "markdown",
   "metadata": {},
   "source": [
    "The training script can be run with the following command:\n",
    "`python psalm_test.py`\n",
    "\n",
    "For additional options, run:\n",
    "`python psalm_test.py -h`"
   ]
  },
  {
   "cell_type": "markdown",
   "metadata": {},
   "source": [
    "## Visualization"
   ]
  },
  {
   "cell_type": "markdown",
   "metadata": {},
   "source": [
    "Visualization of a single sequence from a custom fasta file can be run using the following command:\n",
    "`python psalm_viz.py -i <path_to_fasta_file>`\n",
    "\n",
    "For additional options, run:\n",
    "`python psalm_viz.py -h`"
   ]
  },
  {
   "cell_type": "markdown",
   "metadata": {},
   "source": [
    "## Recreating Figure 4 (ROC plots)"
   ]
  },
  {
   "cell_type": "markdown",
   "metadata": {},
   "source": [
    "1. All ROC data is saved in the `roc_data` folder.\n",
    "2. Running the first two cells in `ROC_final.ipynb` will generate the exact figure 4 in the paper"
   ]
  }
 ],
 "metadata": {
  "kernelspec": {
   "display_name": "Python 3",
   "language": "python",
   "name": "python3"
  },
  "language_info": {
   "codemirror_mode": {
    "name": "ipython",
    "version": 3
   },
   "file_extension": ".py",
   "mimetype": "text/x-python",
   "name": "python",
   "nbconvert_exporter": "python",
   "pygments_lexer": "ipython3",
   "version": "3.10.0"
  }
 },
 "nbformat": 4,
 "nbformat_minor": 2
}
