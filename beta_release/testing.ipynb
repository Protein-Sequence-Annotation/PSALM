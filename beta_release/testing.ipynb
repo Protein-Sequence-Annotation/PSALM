{
 "cells": [
  {
   "cell_type": "code",
   "execution_count": 1,
   "id": "46a975c8",
   "metadata": {},
   "outputs": [],
   "source": [
    "from classifiers import ClanLSTMbatch\n",
    "import torch.nn\n",
    "import torch\n",
    "import numpy as np\n",
    "import os"
   ]
  },
  {
   "cell_type": "code",
   "execution_count": 10,
   "id": "d90f7f46",
   "metadata": {},
   "outputs": [],
   "source": [
    "tmp = torch.ones((10,32,100))"
   ]
  },
  {
   "cell_type": "code",
   "execution_count": 23,
   "id": "bf292c94",
   "metadata": {},
   "outputs": [],
   "source": [
    "model = ClanLSTMbatch(4, 10)"
   ]
  },
  {
   "cell_type": "code",
   "execution_count": 12,
   "id": "f1fa0e33",
   "metadata": {},
   "outputs": [],
   "source": [
    "result, _ = model.lstm(tmp)"
   ]
  },
  {
   "cell_type": "code",
   "execution_count": 13,
   "id": "838b1a61",
   "metadata": {},
   "outputs": [
    {
     "data": {
      "text/plain": [
       "torch.Size([10, 32, 200])"
      ]
     },
     "execution_count": 13,
     "metadata": {},
     "output_type": "execute_result"
    }
   ],
   "source": [
    "result.shape"
   ]
  },
  {
   "cell_type": "code",
   "execution_count": 14,
   "id": "6cd5717a",
   "metadata": {},
   "outputs": [],
   "source": [
    "tmp1 = torch.ones((4,4))\n",
    "tmp2 = torch.ones((4,4))\n",
    "tmp2[:,-1] = 0"
   ]
  },
  {
   "cell_type": "code",
   "execution_count": 39,
   "id": "d8b102c6",
   "metadata": {},
   "outputs": [],
   "source": [
    "mask = torch.tensor([1,1,1,0])"
   ]
  },
  {
   "cell_type": "code",
   "execution_count": 40,
   "id": "775075ee",
   "metadata": {},
   "outputs": [],
   "source": [
    "result, _ = model.lstm(tmp1)"
   ]
  },
  {
   "cell_type": "code",
   "execution_count": 45,
   "id": "2a960c30",
   "metadata": {},
   "outputs": [
    {
     "data": {
      "text/plain": [
       "tensor([[-0.1529, -0.0892, -0.1253, -0.0282,  0.4240, -0.2224,  0.3130, -0.0211],\n",
       "        [-0.2215, -0.1344, -0.1874, -0.0371,  0.4237, -0.1978,  0.2979, -0.0224],\n",
       "        [-0.2522, -0.1557, -0.2191, -0.0394,  0.4104, -0.1581,  0.2610, -0.0226],\n",
       "        [-0.0000, -0.0000, -0.0000, -0.0000,  0.0000, -0.0000,  0.0000, -0.0000]],\n",
       "       grad_fn=<MulBackward0>)"
      ]
     },
     "execution_count": 45,
     "metadata": {},
     "output_type": "execute_result"
    }
   ],
   "source": [
    "result * mask.unsqueeze(1)"
   ]
  },
  {
   "cell_type": "code",
   "execution_count": 51,
   "id": "458a3909",
   "metadata": {},
   "outputs": [],
   "source": [
    "tmp = torch.cat((tmp1.unsqueeze(0), tmp2.unsqueeze(0)))"
   ]
  },
  {
   "cell_type": "code",
   "execution_count": 52,
   "id": "e6d3ef8e",
   "metadata": {},
   "outputs": [
    {
     "data": {
      "text/plain": [
       "torch.Size([2, 4, 4])"
      ]
     },
     "execution_count": 52,
     "metadata": {},
     "output_type": "execute_result"
    }
   ],
   "source": [
    "tmp.shape"
   ]
  },
  {
   "cell_type": "code",
   "execution_count": 75,
   "id": "75549957",
   "metadata": {},
   "outputs": [],
   "source": [
    "mask = torch.tensor([[1,1,1,0], [0,0,1,1]], dtype=bool)"
   ]
  },
  {
   "cell_type": "code",
   "execution_count": 76,
   "id": "1dd6b24f",
   "metadata": {},
   "outputs": [],
   "source": [
    "tmp_masked = tmp * mask.unsqueeze(2)"
   ]
  },
  {
   "cell_type": "code",
   "execution_count": 72,
   "id": "e22ecd94",
   "metadata": {},
   "outputs": [
    {
     "data": {
      "text/plain": [
       "tensor([[[1., 1., 1., 1.],\n",
       "         [1., 1., 1., 1.],\n",
       "         [0., 0., 0., 0.],\n",
       "         [0., 0., 0., 0.]],\n",
       "\n",
       "        [[0., 0., 0., 0.],\n",
       "         [0., 0., 0., 0.],\n",
       "         [1., 1., 1., 0.],\n",
       "         [1., 1., 1., 0.]]])"
      ]
     },
     "execution_count": 72,
     "metadata": {},
     "output_type": "execute_result"
    }
   ],
   "source": [
    "tmp_masked"
   ]
  },
  {
   "cell_type": "code",
   "execution_count": 77,
   "id": "b273d553",
   "metadata": {},
   "outputs": [
    {
     "data": {
      "text/plain": [
       "tensor([[1., 1., 1., 1.],\n",
       "        [1., 1., 1., 1.],\n",
       "        [1., 1., 1., 1.],\n",
       "        [1., 1., 1., 0.],\n",
       "        [1., 1., 1., 0.]])"
      ]
     },
     "execution_count": 77,
     "metadata": {},
     "output_type": "execute_result"
    }
   ],
   "source": [
    "tmp[mask]"
   ]
  },
  {
   "cell_type": "code",
   "execution_count": 66,
   "id": "22e1bd48",
   "metadata": {},
   "outputs": [
    {
     "data": {
      "text/plain": [
       "tensor([3., 4.])"
      ]
     },
     "execution_count": 66,
     "metadata": {},
     "output_type": "execute_result"
    }
   ],
   "source": [
    "a = torch.Tensor([1,2,3,4])\n",
    "mask = torch.BoolTensor([False, False, True, True])\n",
    "b = a * mask\n",
    "\n",
    "b[mask]"
   ]
  },
  {
   "cell_type": "code",
   "execution_count": 78,
   "id": "7a9db494",
   "metadata": {},
   "outputs": [],
   "source": [
    "c = torch.tensor([1,1,0])\n",
    "c = c.to(bool)"
   ]
  },
  {
   "cell_type": "code",
   "execution_count": null,
   "id": "994fc83d",
   "metadata": {},
   "outputs": [],
   "source": []
  }
 ],
 "metadata": {
  "kernelspec": {
   "display_name": "Python [conda env:protein_annotation_dl-protllm]",
   "language": "python",
   "name": "conda-env-protein_annotation_dl-protllm-py"
  },
  "language_info": {
   "codemirror_mode": {
    "name": "ipython",
    "version": 3
   },
   "file_extension": ".py",
   "mimetype": "text/x-python",
   "name": "python",
   "nbconvert_exporter": "python",
   "pygments_lexer": "ipython3",
   "version": "3.10.0"
  }
 },
 "nbformat": 4,
 "nbformat_minor": 5
}
